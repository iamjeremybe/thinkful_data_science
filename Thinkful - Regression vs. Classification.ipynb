{
 "cells": [
  {
   "cell_type": "markdown",
   "metadata": {},
   "source": [
    "# Assignment\n",
    "### For each of the following situations, decide if you would model using a regression or classification model. Discuss your reasoning with your mentor next time you meet.\n",
    "\n",
    "## 1. The amount a person will spend on a given site in the next 24 months.\n",
    "\n",
    "Regression - time is continuous.\n",
    "\n",
    "## 2. What color car someone is going to buy.\n",
    "\n",
    "Classification - colors are categorical.\n",
    "\n",
    "## 3. How many children a family will have.\n",
    "\n",
    "This could go either way--a quantity of something can be considered continuous, interval data, and modeling this as a regression problem means you could calculate descriptive statistics. Depending on what you intend to do with the output, the number of children a family will have could also be considered categorical, ordinal data, and a classification model could be used.\n",
    "\n",
    "## 4. If someone will sign up for a service.\n",
    "\n",
    "{yes, no, maybe later?} This sounds like a classification issue.\n",
    "\n",
    "## 5. The number of times someone will get sick in a year.\n",
    "\n",
    "Regression.\n",
    "\n",
    "## 6. The probability someone will get sick in the next month.\n",
    "\n",
    "Regression - probabilities are continuous.\n",
    "\n",
    "## 7. Which medicine will work best for a given patient.\n",
    "\n",
    "Most likely classification, but could be regression if we're modeling the same drug but at different doses."
   ]
  }
 ],
 "metadata": {
  "kernelspec": {
   "display_name": "Python 3",
   "language": "python",
   "name": "python3"
  },
  "language_info": {
   "codemirror_mode": {
    "name": "ipython",
    "version": 3
   },
   "file_extension": ".py",
   "mimetype": "text/x-python",
   "name": "python",
   "nbconvert_exporter": "python",
   "pygments_lexer": "ipython3",
   "version": "3.6.8"
  }
 },
 "nbformat": 4,
 "nbformat_minor": 2
}
