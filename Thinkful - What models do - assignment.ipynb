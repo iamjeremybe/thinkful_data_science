{
 "cells": [
  {
   "cell_type": "code",
   "execution_count": 8,
   "metadata": {},
   "outputs": [],
   "source": [
    "import numpy as np\n",
    "import pandas as pd\n",
    "import matplotlib.pyplot as plt\n",
    "import seaborn as sns\n",
    "\n",
    "%matplotlib inline"
   ]
  },
  {
   "cell_type": "markdown",
   "metadata": {},
   "source": [
    "# Assignment\n",
    "## 1. Try to model the result of a coin toss. In your model, include any features that you think important in explaining the result. Discuss with your mentor about the pros and cons of adding too many features into your model."
   ]
  },
  {
   "cell_type": "markdown",
   "metadata": {},
   "source": [
    "I'm going to start with a binomial distribution, with random data.\n",
    "\n",
    "This should approximate 10000 coin tosses, with a \"fair\" coin (.5 chance of either heads or tails)."
   ]
  },
  {
   "cell_type": "code",
   "execution_count": 15,
   "metadata": {},
   "outputs": [],
   "source": [
    "# I cribbed this code from an old assignment about plotting distributions\n",
    "binomial_distribution = np.random.binomial(1,.5,size=10000)"
   ]
  },
  {
   "cell_type": "markdown",
   "metadata": {},
   "source": [
    "Turn the distribution into a dataframe, so we can do more stuff with it. Maybe plot it using Seaborn for fun."
   ]
  },
  {
   "cell_type": "code",
   "execution_count": 12,
   "metadata": {
    "scrolled": true
   },
   "outputs": [
    {
     "data": {
      "text/html": [
       "<div>\n",
       "<style scoped>\n",
       "    .dataframe tbody tr th:only-of-type {\n",
       "        vertical-align: middle;\n",
       "    }\n",
       "\n",
       "    .dataframe tbody tr th {\n",
       "        vertical-align: top;\n",
       "    }\n",
       "\n",
       "    .dataframe thead th {\n",
       "        text-align: right;\n",
       "    }\n",
       "</style>\n",
       "<table border=\"1\" class=\"dataframe\">\n",
       "  <thead>\n",
       "    <tr style=\"text-align: right;\">\n",
       "      <th></th>\n",
       "      <th>outcome</th>\n",
       "    </tr>\n",
       "  </thead>\n",
       "  <tbody>\n",
       "    <tr>\n",
       "      <th>0</th>\n",
       "      <td>0</td>\n",
       "    </tr>\n",
       "    <tr>\n",
       "      <th>1</th>\n",
       "      <td>1</td>\n",
       "    </tr>\n",
       "    <tr>\n",
       "      <th>2</th>\n",
       "      <td>0</td>\n",
       "    </tr>\n",
       "    <tr>\n",
       "      <th>3</th>\n",
       "      <td>1</td>\n",
       "    </tr>\n",
       "    <tr>\n",
       "      <th>4</th>\n",
       "      <td>1</td>\n",
       "    </tr>\n",
       "  </tbody>\n",
       "</table>\n",
       "</div>"
      ],
      "text/plain": [
       "   outcome\n",
       "0        0\n",
       "1        1\n",
       "2        0\n",
       "3        1\n",
       "4        1"
      ]
     },
     "execution_count": 12,
     "metadata": {},
     "output_type": "execute_result"
    }
   ],
   "source": [
    "binomial_df = pd.DataFrame(data=binomial_distribution,columns=['outcome'])\n",
    "binomial_df.head()"
   ]
  },
  {
   "cell_type": "code",
   "execution_count": 11,
   "metadata": {},
   "outputs": [
    {
     "data": {
      "text/plain": [
       "<matplotlib.axes._subplots.AxesSubplot at 0x7fd17c2a1cc0>"
      ]
     },
     "execution_count": 11,
     "metadata": {},
     "output_type": "execute_result"
    },
    {
     "data": {
      "image/png": "[encoded data removed]",
      "text/plain": [
       "<Figure size 432x288 with 1 Axes>"
      ]
     },
     "metadata": {
      "needs_background": "light"
     },
     "output_type": "display_data"
    }
   ],
   "source": [
    "sns.distplot(binomial_df)"
   ]
  },
  {
   "cell_type": "markdown",
   "metadata": {},
   "source": [
    "...And because I didn't know what to do from here, I took a peek at the sample solution and saw that I just needed to list some things that could affect a coin toss. Now I feel silly because I was trying to figure out how to make use of a dataset that only has one column--there would only be one choice for variables to keep in order to approximate the outcome. Not a very interesting exercise. :)\n",
    "\n",
    "__But yeah, if we're just thinking about physical factors that would affect a coin toss, it would be things like:__\n",
    "1. The coin itself--its size and mass;\n",
    "2. How the coin's mass is distributed: evenly, resulting in a \"fair\" toss? Or biased in some way that favors one outcome over the other?\n",
    "2. Who's tossing the coin--their relative strength;\n",
    "3. How the coin is tossed--the typical flip with a thumb off a curled-up index finger? Just throwing the coin into the air?\n",
    "4. Air density, wind direction and velocity;\n",
    "5. The surface on which the coin lands--hard or soft? Does the coin bounce after it lands? Is the surface flat, or uneven?\n",
    "\n",
    "The more variables that are considered, the more complex the model becomes. It would be easier to nail down some of these variables (have the same person toss the same coin each time, in the same way, in the same physical space, onto the same surface, etc.) and just focus on the outcome of the flip, which is the only important variable here."
   ]
  },
  {
   "cell_type": "markdown",
   "metadata": {},
   "source": [
    "## 2. If you ever used Netflix, you should already have realized that it provides some recommendations for you to watch. In data science, this is an example of the so-called recommendations systems. Read this nontechnical blog post of Netflix about how they model their recommendations systems. Then, derive the features they use in their recommendations engines and discuss what else can be incorporated into this model."
   ]
  },
  {
   "cell_type": "markdown",
   "metadata": {},
   "source": [
    "Here are some things Netflix lists explicitly as factors that are used to determine recommendations:\n",
    "* Viewing history--titles that you've watched more recently are given more weight\n",
    "* Ratings you've given to titles you've watched\n",
    "* Global comparison to members with a similar viewing/ratings history--some recommendations can be made about titles that are not common between you and these other members\n",
    "* Shared information between titles (genre, categories, actors, release year are some examples given)\n",
    "* The time of day you watch\n",
    "* The device on which you watch\n",
    "* The length of time you spend watching Netflix\n",
    "\n",
    "They explicitly do _not_ use demographics like age or gender when determining a list of recommendations."
   ]
  },
  {
   "cell_type": "markdown",
   "metadata": {},
   "source": [
    "So I read a suggestion in the sample solution that maybe recommendations based on other local users would be a good idea. It's possible Netflix has updated their post since the sample solution was written, but Netflix discusses the reasons for going global with their recommendation algorithm instead of limiting it to a locality/state/country. \n",
    "\n",
    "Depending on how \"local\" we are talking about, it may also be smart of Netflix to not offer recommendations based on other local customers' preferences, out of customer privacy concerns. In a densely-populated area there are enough people to sufficiently mask who has been watching which titles, but in a rural area, this could be problematic. For instance, if a rural customer sees titles that neighbors have watched, that imply someone is a closeted member of the LGBT community. (I'm probably going out on a limb, but I'm sort of relating this to location-based chat apps and how [they have inadvertently outed LGBT people in locales where they could be in physical danger, or where strict religious-based laws prohibit same-sex activity](https://www.theverge.com/2018/4/25/17279270/lgbtq-dating-apps-egypt-illegal-human-rights).)"
   ]
  }
 ],
 "metadata": {
  "kernelspec": {
   "display_name": "Python 3",
   "language": "python",
   "name": "python3"
  },
  "language_info": {
   "codemirror_mode": {
    "name": "ipython",
    "version": 3
   },
   "file_extension": ".py",
   "mimetype": "text/x-python",
   "name": "python",
   "nbconvert_exporter": "python",
   "pygments_lexer": "ipython3",
   "version": "3.6.8"
  }
 },
 "nbformat": 4,
 "nbformat_minor": 2
}
