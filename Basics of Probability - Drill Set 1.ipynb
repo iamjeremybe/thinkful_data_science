{
 "cells": [
  {
   "cell_type": "markdown",
   "metadata": {},
   "source": [
    "## 1. Calculate the probability of flipping a balanced coin four times and getting each pattern: HTTH, HHHH and TTHH.\n",
    "    \n",
    "The result of each flip has a 1/2 probability, and each flip is independent of the previous flip (each flip will still have a 1/2 chance of coming up heads or tails).\n",
    "\n",
    "So each of these four patterns has the same probability:\n",
    "1/2 * 1/2 * 1/2 * 1/2 = 1/16\n",
    "\n",
    "#### Convincing myself that this is correct... :)\n",
    "If we were after simply the number of heads vs tails, there would be multiple ways to achieve that and the probability would be higher.\n",
    "\n",
    "Ex: two heads (not HTTH or TTHH specifically)\n",
    "HHTT, TTHH, THTH, HTHT, THHT, HTTH = 6/16\n",
    "\n",
    "But we are after three specific four-flip sequences, so there is only one way out of 16 to reach each of those outcomes.\n"
   ]
  },
  {
   "cell_type": "markdown",
   "metadata": {},
   "source": [
    "## 2. If a list of people has 24 women and 21 men, then the probability of choosing a man from the list is 21/45. What is the probability of not choosing a man?\n",
    "\n",
    "It's the probability of choosing a woman--24/45.\n"
   ]
  },
  {
   "cell_type": "markdown",
   "metadata": {},
   "source": [
    "## 3. The probability that Bernice will travel by plane sometime in the next year is 10%. The probability of a plane crash at any time is .005%. What is the probability that Bernice will be in a plane crash sometime in the next year?\n",
    "\n",
    "Each flight has the same probability of crashing, and is independent of Bernice's travel plans.\n",
    "\n",
    "10% * .005% = .05%\n",
    "\n",
    "I think Bernice will be okay.\n",
    "\n",
    "#### The solution says \".0005%\" and I'm not sure how that is true. \n",
    "\"The probability of two or more independent events can be calculated by multiplying the probabilities of each individual event.\"\n",
    "Is the trailing percent sign a mistake? .05% = .0005... ?"
   ]
  },
  {
   "cell_type": "markdown",
   "metadata": {},
   "source": [
    "## 4. A data scientist wants to study the behavior of users on the company website. Each time a user clicks on a link on the website, there is a 5% chance that the user will be asked to complete a short survey about their behavior on the website. The data scientist uses the survey data to conclude that, on average, users spend 15 minutes surfing the company website before moving on to other things. What is wrong with this conclusion?\n",
    "\n",
    "The percentage of website users to whom the survey was offered was super low (only 5%), and it's likely that even if the survey was offered, the percentage of respondents was also not very high.\n",
    "\n",
    "#### Or the suggested response here...\n",
    "Users who continue to click through links on the website are more likely to be offered the survey, introducing a bias favoring users who browse for longer periods of time."
   ]
  }
 ],
 "metadata": {
  "kernelspec": {
   "display_name": "Python 3",
   "language": "python",
   "name": "python3"
  },
  "language_info": {
   "codemirror_mode": {
    "name": "ipython",
    "version": 3
   },
   "file_extension": ".py",
   "mimetype": "text/x-python",
   "name": "python",
   "nbconvert_exporter": "python",
   "pygments_lexer": "ipython3",
   "version": "3.6.7"
  }
 },
 "nbformat": 4,
 "nbformat_minor": 2
}
