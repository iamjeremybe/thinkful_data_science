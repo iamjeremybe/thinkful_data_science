{
 "cells": [
  {
   "cell_type": "markdown",
   "metadata": {},
   "source": [
    "# DRILL:\n",
    "\n",
    "__Implement a binary tree__, which is filled with 15 pieces of random data. Your job is to then write a program to traverse the tree using a breadth first traversal. If you want additional practice, try other forms of traversal."
   ]
  },
  {
   "cell_type": "code",
   "execution_count": 52,
   "metadata": {},
   "outputs": [],
   "source": [
    "import random"
   ]
  },
  {
   "cell_type": "code",
   "execution_count": 53,
   "metadata": {},
   "outputs": [],
   "source": [
    "randos = [7, 17, 14, 5, 16, 10, 12, 14, 2, 11, 12, 8, 1, 7, 9]"
   ]
  },
  {
   "cell_type": "markdown",
   "metadata": {},
   "source": [
    "### If you want to generate a new list instead of running with the static one:\n",
    "randos = [random.randrange(0,20) for i in range(15)]\n",
    "randos"
   ]
  },
  {
   "cell_type": "code",
   "execution_count": 63,
   "metadata": {},
   "outputs": [],
   "source": [
    "class Node:\n",
    "    def __init__(self, val):\n",
    "        self.left = None\n",
    "        self.right = None\n",
    "        self.val = val"
   ]
  },
  {
   "cell_type": "code",
   "execution_count": 55,
   "metadata": {},
   "outputs": [],
   "source": [
    "def add_node(node,value,**kwargs):\n",
    "    debug = kwargs.get('debug',False)\n",
    "    if value < node.val:\n",
    "        if debug: print(\"{} < {}: Moving down the left side of the node\".format(value,node.val))\n",
    "        if node.left == None:\n",
    "            if debug: print(\"Adding new node for {}\".format(value))\n",
    "            node.left = Node(value)\n",
    "        else:\n",
    "            if debug: print(\"{}: Checking next left child node\".format(value))\n",
    "            add_node(node.left,value,debug=debug)\n",
    "    else:\n",
    "        if debug: print(\"{} >= {}: Moving down the right side of the node\".format(value,node.val))\n",
    "        if node.right == None:\n",
    "            if debug: print(\"Adding new node for {}\".format(value))\n",
    "            node.right = Node(value)\n",
    "        else:\n",
    "            if debug: print(\"{}: Checking next right child node\".format(value))\n",
    "            add_node(node.right,value,debug=debug)"
   ]
  },
  {
   "cell_type": "code",
   "execution_count": 56,
   "metadata": {},
   "outputs": [],
   "source": [
    "def build_binary_tree(int_list,**kwargs):\n",
    "    int_list_copy = int_list.copy()\n",
    "    debug = kwargs.get('debug',False)\n",
    "    if not int_list:\n",
    "        return int_list\n",
    "    root = Node(int_list_copy.pop(0))\n",
    "    if debug: print(\"Value of root node is: {}\".format(root.val))\n",
    "# Build the root node using the first item of the list.\n",
    "    for i in int_list_copy:\n",
    "        add_node(root,i,debug=debug)\n",
    "    return root"
   ]
  },
  {
   "cell_type": "code",
   "execution_count": 57,
   "metadata": {
    "scrolled": true
   },
   "outputs": [
    {
     "name": "stdout",
     "output_type": "stream",
     "text": [
      "Value of root node is: 7\n",
      "17 >= 7: Moving down the right side of the node\n",
      "Adding new node for 17\n",
      "14 >= 7: Moving down the right side of the node\n",
      "14: Checking next right child node\n",
      "14 < 17: Moving down the left side of the node\n",
      "Adding new node for 14\n",
      "5 < 7: Moving down the left side of the node\n",
      "Adding new node for 5\n",
      "16 >= 7: Moving down the right side of the node\n",
      "16: Checking next right child node\n",
      "16 < 17: Moving down the left side of the node\n",
      "16: Checking next left child node\n",
      "16 >= 14: Moving down the right side of the node\n",
      "Adding new node for 16\n",
      "10 >= 7: Moving down the right side of the node\n",
      "10: Checking next right child node\n",
      "10 < 17: Moving down the left side of the node\n",
      "10: Checking next left child node\n",
      "10 < 14: Moving down the left side of the node\n",
      "Adding new node for 10\n",
      "12 >= 7: Moving down the right side of the node\n",
      "12: Checking next right child node\n",
      "12 < 17: Moving down the left side of the node\n",
      "12: Checking next left child node\n",
      "12 < 14: Moving down the left side of the node\n",
      "12: Checking next left child node\n",
      "12 >= 10: Moving down the right side of the node\n",
      "Adding new node for 12\n",
      "14 >= 7: Moving down the right side of the node\n",
      "14: Checking next right child node\n",
      "14 < 17: Moving down the left side of the node\n",
      "14: Checking next left child node\n",
      "14 >= 14: Moving down the right side of the node\n",
      "14: Checking next right child node\n",
      "14 < 16: Moving down the left side of the node\n",
      "Adding new node for 14\n",
      "2 < 7: Moving down the left side of the node\n",
      "2: Checking next left child node\n",
      "2 < 5: Moving down the left side of the node\n",
      "Adding new node for 2\n",
      "11 >= 7: Moving down the right side of the node\n",
      "11: Checking next right child node\n",
      "11 < 17: Moving down the left side of the node\n",
      "11: Checking next left child node\n",
      "11 < 14: Moving down the left side of the node\n",
      "11: Checking next left child node\n",
      "11 >= 10: Moving down the right side of the node\n",
      "11: Checking next right child node\n",
      "11 < 12: Moving down the left side of the node\n",
      "Adding new node for 11\n",
      "12 >= 7: Moving down the right side of the node\n",
      "12: Checking next right child node\n",
      "12 < 17: Moving down the left side of the node\n",
      "12: Checking next left child node\n",
      "12 < 14: Moving down the left side of the node\n",
      "12: Checking next left child node\n",
      "12 >= 10: Moving down the right side of the node\n",
      "12: Checking next right child node\n",
      "12 >= 12: Moving down the right side of the node\n",
      "Adding new node for 12\n",
      "8 >= 7: Moving down the right side of the node\n",
      "8: Checking next right child node\n",
      "8 < 17: Moving down the left side of the node\n",
      "8: Checking next left child node\n",
      "8 < 14: Moving down the left side of the node\n",
      "8: Checking next left child node\n",
      "8 < 10: Moving down the left side of the node\n",
      "Adding new node for 8\n",
      "1 < 7: Moving down the left side of the node\n",
      "1: Checking next left child node\n",
      "1 < 5: Moving down the left side of the node\n",
      "1: Checking next left child node\n",
      "1 < 2: Moving down the left side of the node\n",
      "Adding new node for 1\n",
      "7 >= 7: Moving down the right side of the node\n",
      "7: Checking next right child node\n",
      "7 < 17: Moving down the left side of the node\n",
      "7: Checking next left child node\n",
      "7 < 14: Moving down the left side of the node\n",
      "7: Checking next left child node\n",
      "7 < 10: Moving down the left side of the node\n",
      "7: Checking next left child node\n",
      "7 < 8: Moving down the left side of the node\n",
      "Adding new node for 7\n",
      "9 >= 7: Moving down the right side of the node\n",
      "9: Checking next right child node\n",
      "9 < 17: Moving down the left side of the node\n",
      "9: Checking next left child node\n",
      "9 < 14: Moving down the left side of the node\n",
      "9: Checking next left child node\n",
      "9 < 10: Moving down the left side of the node\n",
      "9: Checking next left child node\n",
      "9 >= 8: Moving down the right side of the node\n",
      "Adding new node for 9\n"
     ]
    }
   ],
   "source": [
    "binary_tree = build_binary_tree(randos,debug=True)"
   ]
  },
  {
   "cell_type": "code",
   "execution_count": 62,
   "metadata": {},
   "outputs": [],
   "source": [
    "def breadth_first(binary_tree,**kwargs):\n",
    "    debug = kwargs.get('debug',False)\n",
    "    node_list = [binary_tree]\n",
    "    while node_list:\n",
    "        this_node = node_list.pop(0)\n",
    "        print(this_node.val)\n",
    "        if this_node.left:\n",
    "            node_list.append(this_node.left)\n",
    "        if this_node.right:\n",
    "            node_list.append(this_node.right)"
   ]
  },
  {
   "cell_type": "code",
   "execution_count": 59,
   "metadata": {},
   "outputs": [
    {
     "name": "stdout",
     "output_type": "stream",
     "text": [
      "7\n",
      "5\n",
      "17\n",
      "2\n",
      "14\n",
      "1\n",
      "10\n",
      "16\n",
      "8\n",
      "12\n",
      "14\n",
      "7\n",
      "9\n",
      "11\n",
      "12\n"
     ]
    }
   ],
   "source": [
    "breadth_first(binary_tree)"
   ]
  },
  {
   "cell_type": "markdown",
   "metadata": {},
   "source": [
    "### Bonus work: here's depth-first.\n",
    "\n",
    "This was easier for me to to implement than breadth-first, I think because I was trying to think recursively for breadth-first and failing miserably, where recursion works brilliantly here. :)"
   ]
  },
  {
   "cell_type": "code",
   "execution_count": 60,
   "metadata": {},
   "outputs": [],
   "source": [
    "def depth_first(binary_tree,**kwargs):\n",
    "    debug = kwargs.get('debug',False)\n",
    "    print(binary_tree.val)\n",
    "    if binary_tree.left:\n",
    "        depth_first(binary_tree.left,debug=debug)\n",
    "    if binary_tree.right:\n",
    "        depth_first(binary_tree.right,debug=debug)"
   ]
  },
  {
   "cell_type": "code",
   "execution_count": 61,
   "metadata": {
    "scrolled": true
   },
   "outputs": [
    {
     "name": "stdout",
     "output_type": "stream",
     "text": [
      "7\n",
      "5\n",
      "2\n",
      "1\n",
      "17\n",
      "14\n",
      "10\n",
      "8\n",
      "7\n",
      "9\n",
      "12\n",
      "11\n",
      "12\n",
      "16\n",
      "14\n"
     ]
    }
   ],
   "source": [
    "depth_first(binary_tree)"
   ]
  }
 ],
 "metadata": {
  "kernelspec": {
   "display_name": "Python 3",
   "language": "python",
   "name": "python3"
  },
  "language_info": {
   "codemirror_mode": {
    "name": "ipython",
    "version": 3
   },
   "file_extension": ".py",
   "mimetype": "text/x-python",
   "name": "python",
   "nbconvert_exporter": "python",
   "pygments_lexer": "ipython3",
   "version": "3.6.8"
  }
 },
 "nbformat": 4,
 "nbformat_minor": 2
}
