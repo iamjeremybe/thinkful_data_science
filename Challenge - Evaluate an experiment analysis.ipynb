{
 "cells": [
  {
   "cell_type": "markdown",
   "metadata": {},
   "source": [
    "## Read the following descriptions of an experiment and its analysis, identify the flaws in each, and describe what you would do to correct them."
   ]
  },
  {
   "cell_type": "markdown",
   "metadata": {},
   "source": [
    "### 1. The Sith Lords are concerned that their recruiting slogan, \"Give In to Your Anger,\" isn't very effective. Darth Vader develops an alternative slogan, \"Together We Can Rule the Galaxy.\" They compare the slogans on two groups of 50 captured droids each. In one group, Emperor Palpatine delivers the \"Anger\" slogan. In the other, Darth Vader presents the \"Together\" slogan. 20 droids convert to the Dark Side after hearing Palpatine's slogan, while only 5 droids convert after hearing Vader's. The Sith's data scientist concludes that \"Anger\" is a more effective slogan and should continue to be used.\n",
    "\n",
    "Can we assume the two groups of 50 droids are evenly distributed in terms of whatever attributes there are that distinguish the droids from one another?\n",
    "\n",
    "That leaves the message, and the messengers.\n",
    "\n",
    "It may be that Palpatine is more persuasive, or at least more intimidating, than Vader. Or maybe \"Anger\" really is the better slogan.\n",
    "\n",
    "__I see a couple of ways they could correct this test to discover the best slogan:__\n",
    "\n",
    "* The first one is to have the same, single messenger (Palpatine or Vader) deliver one of the two messages to the two groups of 50 captured droids. Palpatine seems to be the more popular of the two based on the flawed tests, so have him try delivering \"Anger\" to one group, and \"Together...\" to the other group. \n",
    "\n",
    "\n",
    "* Or, what if they further subdivided the captors into four groups of 25 droids, treated this way:\n",
    "    1. Vader delivers \"Together, We Can Rule The Galaxy\"\n",
    "    2. Vader delivers \"Give In To Your Anger\"\n",
    "    3. Palpatine delivers \"Together, We Can Rule The Galaxy\"\n",
    "    4. Palpatine delivers \"Give In To Your Anger\"\n",
    "\n",
    "I think this is the Factorial Design from the external slideshow in the A/B Testing section, with message and messenger as the two variables to control.\n",
    "\n",
    "With both Sith Lords delivering the same pair of lines, the comparisons of each message's popularity can be made directly, with the messengers' effectiveness now also directly comparable.\n"
   ]
  },
  {
   "cell_type": "markdown",
   "metadata": {},
   "source": [
    "### 2. In the past, the Jedi have had difficulty with public relations. They send two envoys, Jar Jar Binks and Mace Windu, to four friendly and four unfriendly planets respectively, with the goal of promoting favorable feelings toward the Jedi. Upon their return, the envoys learn that Jar Jar was much more effective than Windu: Over 75% of the people surveyed said their attitudes had become more favorable after speaking with Jar Jar, while only 65% said their attitudes had become more favorable after speaking with Windu. This makes Windu angry, because he is sure that he had a better success rate than Jar Jar on every planet. The Jedi choose Jar Jar to be their representative in the future.\n",
    "\n",
    "Jar Jar was sent to four friendly planets, while Mace was sent to four unfriendly planets.\n",
    "\n",
    "Mace then had a lower success rate, but if all of his planets were unfriendly, it seems like he had to work harder for that 65% than Jar Jar did to earn 75% on friendly planets. It's possible he has a right to be upset that his hard work wasn't recognized.\n",
    "\n",
    "__Eliminate the bias in assignment to conditions--assign both Jar Jar and Mace two friendly planets, and two unfriendly planets.__"
   ]
  },
  {
   "cell_type": "markdown",
   "metadata": {},
   "source": [
    "### 3. A company with work sites in five different countries has sent you data on employee satisfaction rates for workers in Human Resources and workers in Information Technology. Most HR workers are concentrated in three of the countries, while IT workers are equally distributed across worksites. The company requests a report on satisfaction for each job type. You calculate average job satisfaction for HR and for IT and present the report.\n",
    "\n",
    "HR's overall average may not tell the entire story if there is an uneven distribution of employees among the five countries. Here's an example, using numbers I made up.\n",
    "\n",
    "```\n",
    "Satisfied, Dissatisfied\n",
    "Country 1, HR: 15, 17 (53.125% dissatisfied)\n",
    "Country 2, HR: 458, 40 (8.032% dissatisfied)\n",
    "Country 3, HR: 349, 50 (12.531% dissatisfied)\n",
    "Country 4, HR: 5, 2   (28.571% dissatisfied)\n",
    "Country 5, HR: 239, 9 (3.363% dissatisfied)\n",
    "```\n",
    "The averages for Country 1 and Country 4 look alarming, but those percentages only represent a total of 19 dissatisfied people. With so much variation between HR employee numbers among these 5 countries, the percentages at country level are not really comparable. (When also considering the overall HR average below, this could be an instance of Simpson's Paradox, if only the percentages are considered.)\n",
    "\n",
    "Overall, HR employees seem relatively satisfied, with barely 10% of them dissatisfied:\n",
    "```\n",
    "Country 1-5, HR total employees: 1184 \n",
    "Country 1-5, HR total and average of dissatisfied employees: 118, 9.966% \n",
    "\n",
    "Satisfied, Dissatisfied\n",
    "Country 1, IT: 304, 45 (12.894% dissatisfied)\n",
    "Country 2, IT: 312, 80 (20.408% dissatisfied)\n",
    "Country 3, IT: 299, 20 (25.063% dissatisfied)\n",
    "Country 4, IT: 331, 10 (2.933% dissatisfied)\n",
    "Country 5, IT: 321, 51 (13.710% dissatisfied)\n",
    "```\n",
    "The IT averages per country are more directly comparable, since a relatively similar number of workers are in each country.\n",
    "\n",
    "IT workers are also relatively satisfied in my made-up example:\n",
    "```\n",
    "Country 1-5, IT total employees: 1853\n",
    "Country 1-5, IT total and average of dissatisfied employees: 286, 15.434%\n",
    "```\n",
    "There are 669 fewer HR employees than IT employees, but only 168 fewer dissatisfied HR employees vs IT employees, so comparing the percentages may not give an accurate picture of overall dissatisfaction.\n",
    "\n",
    "__The report should include more of these details--employee totals per country, as well as percentages--so context is not lost.__"
   ]
  },
  {
   "cell_type": "markdown",
   "metadata": {},
   "source": [
    "### 4. When people install the Happy Days Fitness Tracker app, they are asked to \"opt in\" to a data collection scheme where their level of physical activity data is automatically sent to the company for product research purposes. During your interview with the company, they tell you that the app is very effective because after installing the app, the data show that people's activity levels rise steadily.\n",
    "\n",
    "__I wonder:__\n",
    "* __How many users they are talking about__\n",
    "* __Which activities are tracked__\n",
    "* __At what point in the year users typically use this app__\n",
    "* __For how long of a period of time the company has reviewed users' activity data before reaching this conclusion.__\n",
    "\n",
    "__The company should state these things as a part of their claim.__\n",
    "\n",
    "At the risk of being a biased observer... :) My fitness activities provide a decent example of all of these things.\n",
    "\n",
    "I use a few different activity-tracking apps. If you looked at the one that tracks the number of steps I take per day, back when I was working a full-time job and walking between bus stops, and my home and office, you would conclude that I am not usually as active on weekends. However, on weekends--seasonally--I am not walking because I am biking everywhere instead.\n",
    "\n",
    "I use a different app for tracking bike rides. I take winters off from biking outdoors, because I live in Minnesota and don't want to take a chance on road conditions, on roads narrowed by accumulated, plowed snow. So each spring, I have to begin building strength and endurance on the bike after a winter of easier indoor rides.\n",
    "\n",
    "If I began using the Happy Days Fitness Tracker in spring, and it tracked my bike rides, there _would_ be a steady increase in the amount of time I spend on the bike as I trained up, and those increased levels would last through the end of the summer. If I downloaded this app mid-summer, my recorded biking activity levels would decrease as winter approached. In the winter, as far as this app knows if it's only tracking bike rides, I would be almost completely sedentary except for an hour or two a week when I spin indoors and catch up on Netflix.\n",
    "\n",
    "I spend more time weightlifting and doing other kinds of cardio in the winter.\n",
    "\n",
    "In summer when I'm biking a lot, I don't want to wreck my legs in weightlifting class twice a week, so I switch to yoga instead. If I downloaded this app in the autumn, it would show an increase in the amount of weightlifting I do through the winter, but a marked decrease in the amount of time I spent doing yoga.\n",
    "\n",
    "So my activity levels probably don't change a lot overall throughout the year, but all of my activities have a periodicity to them and are depdendent on each other.\n",
    "\n",
    "It would be easy enough for Happy Days to choose whichever activities support the desired conclusion of 'steady increase over time' from each users' set of activities."
   ]
  },
  {
   "cell_type": "markdown",
   "metadata": {},
   "source": [
    "### 5. To prevent cheating, a teacher writes three versions of a test. She stacks the three versions together, first all copies of Version A, then all copies of Version B, then all copies of Version C. As students arrive for the exam, each student takes a test. When grading the test, the teacher finds that students who took Version B scored higher than students who took either Version A or Version C. She concludes from this that Version B is easier, and discards it.\n",
    "\n",
    "If all of the copies of each version were distributed to students in the order in which they were stacked, all of the As, Bs, and Cs were sitting near each other.\n",
    "\n",
    "I'd be interested to know if the higher-scoring Bs also answered all of the questions the same way--it's possible that students in this group still cheated.\n",
    "\n",
    "Had the teacher shuffled the order of the three versions of her test in the stack, it would have been less likely that a group of adjacent students would receive the same version."
   ]
  }
 ],
 "metadata": {
  "kernelspec": {
   "display_name": "Python 3",
   "language": "python",
   "name": "python3"
  },
  "language_info": {
   "codemirror_mode": {
    "name": "ipython",
    "version": 3
   },
   "file_extension": ".py",
   "mimetype": "text/x-python",
   "name": "python",
   "nbconvert_exporter": "python",
   "pygments_lexer": "ipython3",
   "version": "3.6.7"
  }
 },
 "nbformat": 4,
 "nbformat_minor": 2
}
