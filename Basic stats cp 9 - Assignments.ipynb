{
 "cells": [
  {
   "cell_type": "code",
   "execution_count": 542,
   "metadata": {},
   "outputs": [],
   "source": [
    "import numpy as np\n",
    "import pandas as pd\n",
    "import scipy\n",
    "import matplotlib.pyplot as plt\n",
    "from scipy.stats import ttest_ind\n",
    "%matplotlib inline"
   ]
  },
  {
   "cell_type": "markdown",
   "metadata": {},
   "source": [
    "Using your own Jupyter notebook, reproduce the pop1 and pop2 populations and samples using numpy's binomial function. Specifically, create two binomially distributed populations with n equal to 10 and size equal to 10000. The p-value of pop1 should be 0.2 and the p-value of pop2 should be 0.5. Using a sample size of 100, calculate the means and standard deviations of your samples."
   ]
  },
  {
   "cell_type": "code",
   "execution_count": 2,
   "metadata": {},
   "outputs": [
    {
     "data": {
      "image/png": "[encoded data removed]",
      "text/plain": [
       "<Figure size 432x288 with 1 Axes>"
      ]
     },
     "metadata": {
      "needs_background": "light"
     },
     "output_type": "display_data"
    }
   ],
   "source": [
    "pop1 = np.random.binomial(10,.2,10000)\n",
    "pop2 = np.random.binomial(10,.5,10000)\n",
    "\n",
    "# Let’s make histograms for the two groups. \n",
    "\n",
    "plt.hist(pop1, alpha=0.5, label='Population 1') \n",
    "plt.hist(pop2, alpha=0.5, label='Population 2') \n",
    "plt.legend(loc='upper right') \n",
    "plt.show()"
   ]
  },
  {
   "cell_type": "code",
   "execution_count": 4,
   "metadata": {},
   "outputs": [
    {
     "name": "stdout",
     "output_type": "stream",
     "text": [
      "Means for sample1 and sample2. This should be close to n * p from the population sets pop1 and pop2:\n",
      "2.02\n",
      "5.16\n",
      "Standard deviations for sample1 and sample2:\n",
      "1.10435501538\n",
      "1.32453765518\n"
     ]
    }
   ],
   "source": [
    "sample1 = np.random.choice(pop1, 100, replace=True)\n",
    "sample2 = np.random.choice(pop2, 100, replace=True)\n",
    "print(\"Means for sample1 and sample2. This should be close to n * p from the population sets pop1 and pop2:\")\n",
    "print(sample1.mean())\n",
    "print(sample2.mean())\n",
    "print(\"Standard deviations for sample1 and sample2:\")\n",
    "print(sample1.std())\n",
    "print(sample2.std())"
   ]
  },
  {
   "cell_type": "markdown",
   "metadata": {},
   "source": [
    "## For each of the following tasks, first write what you expect will happen, then code the changes and observe what does happen."
   ]
  },
  {
   "cell_type": "markdown",
   "metadata": {},
   "source": [
    "### 1. Increase the size of your samples from 100 to 1000, then calculate the means and standard deviations for your new samples and create histograms for each. Repeat this again, decreasing the size of your samples to 20. What values change, and what remain the same?\n",
    "\n",
    "__Expectation:__ The larger samples will have means consistently closer to the population mean, with values for standard deviations that also remain fairly consistent. The smaller samples will have more widely varying means and standard deviations.\n",
    "\n",
    "Honestly I wasn't sure what was going to happen to the standard deviation when I started, but after observing, its behavior makes sense to me. The standard deviation helps us understand how tightly the data is clustered around the mean (smaller std dev == more clustered points). It's possible a small sample from a large population will not show much clustering at all."
   ]
  },
  {
   "cell_type": "code",
   "execution_count": 519,
   "metadata": {},
   "outputs": [
    {
     "name": "stdout",
     "output_type": "stream",
     "text": [
      "Means for sample1_big and sample2_big. This should be close to n * p from the population sets pop1 and pop2:\n",
      "2.065\n",
      "4.995\n",
      "Standard deviations for sample1_big and sample2_big:\n",
      "1.31330689483\n",
      "1.52216129237\n"
     ]
    },
    {
     "data": {
      "image/png": "[encoded data removed]",
      "text/plain": [
       "<Figure size 432x288 with 1 Axes>"
      ]
     },
     "metadata": {
      "needs_background": "light"
     },
     "output_type": "display_data"
    }
   ],
   "source": [
    "# 1000 samples\n",
    "sample1_big = np.random.choice(pop1,1000,replace=True)\n",
    "sample2_big = np.random.choice(pop2,1000,replace=True)\n",
    "print(\"Means for sample1_big and sample2_big. This should be close to n * p from the population sets pop1 and pop2:\")\n",
    "print(sample1_big.mean())\n",
    "print(sample2_big.mean())\n",
    "print(\"Standard deviations for sample1_big and sample2_big:\")\n",
    "print(sample1_big.std())\n",
    "print(sample2_big.std())\n",
    "\n",
    "# I reran this cell a bunch of times to see how the means and standard deviations changed.\n",
    "# The means for sample1_big mostly stay between 1.9-2.1; means for sample2_big are largely between 4.9-5.125.\n",
    "# The standard deviations for sample1_big are consistently between 1.2-1.3; \n",
    "# standard deviation for sample2_big are largely between 1.5-1.63\n",
    "plt.hist(sample1_big, alpha=0.5, label='sample 1') \n",
    "plt.hist(sample2_big, alpha=0.5, label='sample 2') \n",
    "plt.legend(loc='upper right') \n",
    "plt.show()\n",
    "# The histograms look more or less the same between runs"
   ]
  },
  {
   "cell_type": "code",
   "execution_count": 531,
   "metadata": {},
   "outputs": [
    {
     "name": "stdout",
     "output_type": "stream",
     "text": [
      "Means for sample1_tiny and sample2_tiny. This should be close to n * p from the population sets pop1 and pop2:\n",
      "1.9\n",
      "5.1\n",
      "Standard deviations for sample1_tiny and sample2_tiny:\n",
      "1.04403065089\n",
      "1.86815416923\n"
     ]
    },
    {
     "data": {
      "image/png": "[encoded data removed]",
      "text/plain": [
       "<Figure size 432x288 with 1 Axes>"
      ]
     },
     "metadata": {
      "needs_background": "light"
     },
     "output_type": "display_data"
    }
   ],
   "source": [
    "# 20 samples\n",
    "sample1_tiny = np.random.choice(pop1,20,replace=True)\n",
    "sample2_tiny = np.random.choice(pop2,20,replace=True)\n",
    "print(\"Means for sample1_tiny and sample2_tiny. This should be close to n * p from the population sets pop1 and pop2:\")\n",
    "print(sample1_tiny.mean())\n",
    "print(sample2_tiny.mean())\n",
    "print(\"Standard deviations for sample1_tiny and sample2_tiny:\")\n",
    "print(sample1_tiny.std())\n",
    "print(sample2_tiny.std())\n",
    "\n",
    "# I reran this cell a bunch of times too.\n",
    "# sample1_tiny mean varied between 1.5-2.5, but I did see a 3 in one run!\n",
    "# sample2_tiny mean varied between 4.3-5.7.\n",
    "# Standard deviations for sample1_tiny are as low as .76 and as high as 1.6, showing that the smaller samples\n",
    "# are alternately returning values more or less tightly clustered around the mean with each run.\n",
    "# Standard deviations for sample2_tiny vary between .97 and 1.6.\n",
    "plt.hist(sample1_tiny, alpha=0.5, label='sample 1') \n",
    "plt.hist(sample2_tiny, alpha=0.5, label='sample 2') \n",
    "plt.legend(loc='upper right') \n",
    "plt.show()\n",
    "# These histograms can change a lot more between runs too."
   ]
  },
  {
   "cell_type": "markdown",
   "metadata": {},
   "source": [
    "### 2. Change the probability value (p in the NumPy documentation) for pop1 to 0.3, then take new samples and compute the t-statistic and p-value. Then change the probability value p for group 1 to 0.4, and do it again. What changes, and why?\n",
    "\n",
    "__Expectation:__ Because the distributions of the two populations will come closer to overlapping when p(pop1) is 0.4, the t-statistic should drop. The p-value...~~may remain the same, or similar? Or~~ will it rise because means of the more closely overlapping populations are closer?\n",
    "\n",
    "After looking at the answers, I see the part I didn't cross out is correct."
   ]
  },
  {
   "cell_type": "code",
   "execution_count": 538,
   "metadata": {},
   "outputs": [
    {
     "data": {
      "image/png": "[encoded data removed]",
      "text/plain": [
       "<Figure size 432x288 with 1 Axes>"
      ]
     },
     "metadata": {
      "needs_background": "light"
     },
     "output_type": "display_data"
    }
   ],
   "source": [
    "# With p(pop1) = 0.3:\n",
    "pop1 = np.random.binomial(10,.3,10000)\n",
    "pop2 = np.random.binomial(10,.5,10000)\n",
    "\n",
    "# Let’s make histograms for the two groups. \n",
    "\n",
    "plt.hist(pop1, alpha=0.5, label='Population 1') \n",
    "plt.hist(pop2, alpha=0.5, label='Population 2') \n",
    "plt.legend(loc='upper right') \n",
    "plt.show()"
   ]
  },
  {
   "cell_type": "code",
   "execution_count": 545,
   "metadata": {},
   "outputs": [
    {
     "name": "stdout",
     "output_type": "stream",
     "text": [
      "t-value: 29.591282295955743\n",
      "p-value: 1.190666248107823e-159\n"
     ]
    }
   ],
   "source": [
    "# New samples of 1000 because we've seen that's more accurate :)\n",
    "sample1 = np.random.choice(pop1, 1000, replace=True)\n",
    "sample2 = np.random.choice(pop2, 1000, replace=True)\n",
    "\n",
    "# Calculating standard error of the sampling distribution of the difference of the means.\n",
    "size = np.array([len(sample1), len(sample2)])\n",
    "sd = np.array([sample1.std(), sample2.std()])\n",
    "#print(size)\n",
    "#print(sd)\n",
    "# The squared standard deviations are divided by the sample size and summed, then we take\n",
    "# the square root of the sum.\n",
    "#diff=sample2.mean( ) -sample1.mean()\n",
    "#diff_se = (sum(sd ** 2 / size)) ** 0.5  \n",
    "#print(\"Standard error *of the difference* between samples 1 and 2: {}\".format(diff_se))\n",
    "#The difference between the means divided by the standard error: T-value.\n",
    "#print(\"The t-value: {}\".format(diff/diff_se))\n",
    "#print(\"Or, if we let scipy figure it out...\")\n",
    "# Calculate the t-value.\n",
    "\n",
    "t_value = ttest_ind(sample2, sample1, equal_var=False)\n",
    "#print(t_value)\n",
    "print(\"t-value: {}\".format(t_value.statistic))\n",
    "print(\"p-value: {}\".format(t_value.pvalue))"
   ]
  },
  {
   "cell_type": "code",
   "execution_count": 546,
   "metadata": {},
   "outputs": [
    {
     "data": {
      "image/png": "[encoded data removed]",
      "text/plain": [
       "<Figure size 432x288 with 1 Axes>"
      ]
     },
     "metadata": {
      "needs_background": "light"
     },
     "output_type": "display_data"
    }
   ],
   "source": [
    "# With p(pop1) = 0.4:\n",
    "pop1 = np.random.binomial(10,.4,10000)\n",
    "pop2 = np.random.binomial(10,.5,10000)\n",
    "\n",
    "# Let’s make histograms for the two groups. \n",
    "\n",
    "plt.hist(pop1, alpha=0.5, label='Population 1') \n",
    "plt.hist(pop2, alpha=0.5, label='Population 2') \n",
    "plt.legend(loc='upper right') \n",
    "plt.show()"
   ]
  },
  {
   "cell_type": "code",
   "execution_count": 547,
   "metadata": {},
   "outputs": [
    {
     "name": "stdout",
     "output_type": "stream",
     "text": [
      "t-value: 13.638006095010171\n",
      "p-value: 1.4759366932027354e-40\n"
     ]
    }
   ],
   "source": [
    "# New samples of 1000 because we've seen that's more accurate :)\n",
    "sample1 = np.random.choice(pop1, 1000, replace=True)\n",
    "sample2 = np.random.choice(pop2, 1000, replace=True)\n",
    "\n",
    "# Calculating standard error of the sampling distribution of the difference of the means.\n",
    "size = np.array([len(sample1), len(sample2)])\n",
    "sd = np.array([sample1.std(), sample2.std()])\n",
    "#print(size)\n",
    "#print(sd)\n",
    "# The squared standard deviations are divided by the sample size and summed, then we take\n",
    "# the square root of the sum.\n",
    "#diff=sample2.mean( ) -sample1.mean()\n",
    "#diff_se = (sum(sd ** 2 / size)) ** 0.5  \n",
    "#print(\"Standard error *of the difference* between samples 1 and 2: {}\".format(diff_se))\n",
    "#The difference between the means divided by the standard error: T-value.\n",
    "#print(\"The t-value: {}\".format(diff/diff_se))\n",
    "#print(\"Or, if we let scipy figure it out...\")\n",
    "# Calculate the t-value.\n",
    "\n",
    "t_value = ttest_ind(sample2, sample1, equal_var=False)\n",
    "#print(t_value)\n",
    "print(\"t-value: {}\".format(t_value.statistic))\n",
    "print(\"p-value: {}\".format(t_value.pvalue))"
   ]
  },
  {
   "cell_type": "markdown",
   "metadata": {},
   "source": [
    "### 3. Change the distribution of your populations from binomial to a distribution of your choice. Do the sample mean values still accurately represent the population values?\n",
    "\n",
    "__Expectation:__ I'm choosing a gamma distribution, so I think the answer will be yes, but let's see. :)\n",
    "\n",
    "And I see that this answer should be the same no matter what distribution is used, as long as the sample size is sufficiently large."
   ]
  },
  {
   "cell_type": "code",
   "execution_count": 607,
   "metadata": {},
   "outputs": [
    {
     "data": {
      "image/png": "[encoded data removed]",
      "text/plain": [
       "<Figure size 432x288 with 1 Axes>"
      ]
     },
     "metadata": {
      "needs_background": "light"
     },
     "output_type": "display_data"
    }
   ],
   "source": [
    "# This function is np.random.gamma(shape,scale,size)\n",
    "# shape looks like it defines the range of values (10=[0,10]).\n",
    "# shape * scale is basically the mean.\n",
    "pop1 = np.random.gamma(10,.3,size=10000)\n",
    "pop2 = np.random.gamma(10,.5,size=10000)\n",
    "\n",
    "plt.hist(pop1, alpha=0.5, label='Population 1') \n",
    "plt.hist(pop2, alpha=0.5, label='Population 2') \n",
    "plt.legend(loc='upper right') \n",
    "plt.show()"
   ]
  },
  {
   "cell_type": "code",
   "execution_count": 616,
   "metadata": {},
   "outputs": [
    {
     "name": "stdout",
     "output_type": "stream",
     "text": [
      "sample1 mean: 2.9447050007712754; sample2 mean: 5.076001900408872\n",
      "t-value: 36.70619610356342\n",
      "p-value: 4.890904024852935e-215\n"
     ]
    }
   ],
   "source": [
    "sample1 = np.random.choice(pop1, 1000, replace=True)\n",
    "sample2 = np.random.choice(pop2, 1000, replace=True)\n",
    "#sample2 = sample1 # Just checking... :)\n",
    "\n",
    "# Calculating standard error of the sampling distribution of the difference of the means.\n",
    "size = np.array([len(sample1), len(sample2)])\n",
    "sd = np.array([sample1.std(), sample2.std()])\n",
    "print(\"sample1 mean: {}; sample2 mean: {}\".format(sample1.mean(),sample2.mean()))\n",
    "t_value = ttest_ind(sample2, sample1, equal_var=False)\n",
    "print(\"t-value: {}\".format(t_value.statistic))\n",
    "print(\"p-value: {}\".format(t_value.pvalue))"
   ]
  },
  {
   "cell_type": "markdown",
   "metadata": {},
   "source": [
    "I ran the cell above a few times, changing the scale for pop1:\n",
    "* At scale(pop1) = .2, the t-value for the samples was huge, and p-value was 0.0.\n",
    "* As I increased the scale for pop1 and reran, the t-value for the samples dropped, and p-value increased. \n",
    "* With scale = 0.5 for both populations, the t-value for the samples hovered +/- zero, and p-value was anywhere between 0 and 1.\n",
    "* Just for fun I set sample2 = sample1, and got a t-value of zero and a p-value of 1. :)"
   ]
  }
 ],
 "metadata": {
  "kernelspec": {
   "display_name": "Python 3",
   "language": "python",
   "name": "python3"
  },
  "language_info": {
   "codemirror_mode": {
    "name": "ipython",
    "version": 3
   },
   "file_extension": ".py",
   "mimetype": "text/x-python",
   "name": "python",
   "nbconvert_exporter": "python",
   "pygments_lexer": "ipython3",
   "version": "3.6.7"
  }
 },
 "nbformat": 4,
 "nbformat_minor": 2
}
