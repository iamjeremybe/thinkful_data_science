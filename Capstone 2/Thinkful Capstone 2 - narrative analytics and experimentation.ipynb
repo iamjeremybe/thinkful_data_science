{
 "cells": [
  {
   "cell_type": "markdown",
   "metadata": {},
   "source": [
    "# An experiment in community policing, based on Minneapolis Police stop data"
   ]
  },
  {
   "cell_type": "code",
   "execution_count": 2,
   "metadata": {},
   "outputs": [],
   "source": [
    "import pandas as pd\n",
    "import numpy as np\n",
    "import matplotlib.pyplot as plt\n",
    "from matplotlib import colors\n",
    "from mpl_toolkits.basemap import Basemap\n",
    "import seaborn as sns\n",
    "import datetime\n",
    "import time\n",
    "import scipy.stats as stats\n",
    "from IPython.display import display, Markdown, Latex\n",
    "%matplotlib inline"
   ]
  },
  {
   "cell_type": "markdown",
   "metadata": {},
   "source": [
    "## Functions"
   ]
  },
  {
   "cell_type": "code",
   "execution_count": 42,
   "metadata": {},
   "outputs": [],
   "source": [
    "def chi2_racial_bias(population,observed):\n",
    "    population = population.sort_index()\n",
    "    print(\"\\nPopulation\\n\", population['count'])\n",
    "    observed_counts = observed.value_counts().sort_index()\n",
    "    print(\"\\nObserved counts\\n\", observed_counts)\n",
    "    expected = population['percentage'] * len(observed)\n",
    "    print(\"\\nExpected counts\\n\",expected)\n",
    "    chi_squared_stat = (((observed_counts - expected)**2) / expected).sum()\n",
    "    print(\"\\nChi^2 stat:\\n\",chi_squared_stat)\n",
    "\n",
    "    crit = stats.chi2.ppf(q = 0.95, # Find the critical value for 95% confidence*\n",
    "                      df = 6)   # Df = number of variable categories - 1\n",
    "\n",
    "    print(\"Critical value\")\n",
    "    print(crit)\n",
    "\n",
    "    p_value = 1 - stats.chi2.cdf(x=chi_squared_stat,  # Find the p-value\n",
    "                             df=len(observed) - 1)\n",
    "    print(\"P value\")\n",
    "    print(p_value)"
   ]
  },
  {
   "cell_type": "markdown",
   "metadata": {},
   "source": [
    "## Exploring the data set\n",
    "\n",
    "This data set was obtained from [Minneapolis' Open Data site](http://opendata.minneapolismn.gov/datasets/police-stop-data). It covers police calls from the evening of October 31st, 2016, until early morning on May 13th, 2019.\n",
    "\n",
    "Metadata can be found [here](https://www.arcgis.com/home/item.html?id=215b4b543d894750aef86c725b56ee2a).\n"
   ]
  },
  {
   "cell_type": "code",
   "execution_count": 3,
   "metadata": {},
   "outputs": [
    {
     "name": "stderr",
     "output_type": "stream",
     "text": [
      "/usr/local/lib/python3.6/dist-packages/IPython/core/interactiveshell.py:3020: DtypeWarning: Columns (6) have mixed types. Specify dtype option on import or set low_memory=False.\n",
      "  interactivity=interactivity, compiler=compiler, result=result)\n"
     ]
    }
   ],
   "source": [
    "df = pd.read_csv('Police_Stop_Data.csv')"
   ]
  },
  {
   "cell_type": "markdown",
   "metadata": {},
   "source": [
    "## Context\n",
    "\n",
    "__Minneapolis is divided into five major police precincts__--downtown, and the four corners of the city:\n",
    "\n",
    "1. Downtown precinct\n",
    "2. Northeast precinct\n",
    "3. Southeast precinct\n",
    "4. Northwest precinct\n",
    "5. Southwest precinct\n",
    "\n",
    "[Here's a map of the Minneapolis Police precincts](http://www.minneapolismn.gov/www/groups/public/@mpd/documents/webcontent/wcmsp-212155.pdf).\n",
    "\n",
    "The First Precinct downtown has the fewest residents, but is the home to the city's largest entertainment venues and businesses.\n",
    "\n",
    "[Minneapolis has a history of racial segregation in housing](https://www.minnpost.com/metro/2019/02/with-covenants-racism-was-written-into-minneapolis-housing-the-scars-are-still-visible/), and while these deeds and covenants have been unenforceable in Minnesota since 1953, the patterns they created still exist within the city today. This means that the Fourth Precinct in particular is home to a large percentage of the city's African American population.\n",
    "\n",
    "The Second Precinct has historically been very white--primarily people having eastern European ancestry--but has become more diverse in recent decades.\n",
    "\n",
    "Minneapolis has seen an influx of East African and Latinx populations in particular in the past few decades. Members of these groups have mostly settled in the Fourth Precinct, around the West Bank near the University of Minnesota (Second Precinct), and south of downtown, in the Ventura Village, Phillips, and Powderhorn neighborhoods (Third Precinct).\n",
    "\n",
    "The East Phillips neighborhood (Third Precinct) is also home to the [Little Earth development](https://www.littleearth.org/about-us/), whose residents are 98% Native American, and largely living below the poverty line.\n",
    "\n",
    "The Fifth Precinct is mostly wealthier, more educated, and predominantly white, except for the Whittier neighbhorhood, adjacent to downtown. This precinct also contains the Chain of Lakes park system, which attracts a large number of people from all backgrounds, presenting its own set of policing challenges.\n",
    "\n",
    "A Minneapolis neighborhood map is [here](https://en.wikipedia.org/wiki/Neighborhoods_of_Minneapolis#/media/File:MinneapolisNeighborhoodsAndCommunities.PNG).\n"
   ]
  },
  {
   "cell_type": "markdown",
   "metadata": {},
   "source": [
    "## Minneapolis demographics\n",
    "\n",
    "As you look at the following graphs, keep in mind that [this is how Minneapolis' demographics break down](https://www.census.gov/quickfacts/minneapoliscityminnesota):\n",
    "\n",
    "* ~~White alone, percent\t63.9%~~ This number includes people who also identify as Hispanic. Use the percentage for White people below that does not include Hispanic people.\n",
    "* Black or African American alone, percent(a)\t18.9%\n",
    "* American Indian and Alaska Native alone, percent(a)\t1.2%\n",
    "* Asian alone, percent(a)\t6.0%\n",
    "* Native Hawaiian and Other Pacific Islander alone, percent(a)\t0.0%\n",
    "* Two or More Races, percent\t4.9%\n",
    "* Hispanic or Latino, percent(b)\t9.8%\n",
    "* White alone, not Hispanic or Latino, percent\t59.9%\n",
    "\n",
    "    <sub>(a)Includes persons reporting only one race<br>\n",
    "    (b)Hispanics may be of any race, so also are included in applicable race categories</sub>\n",
    "\n",
    "I am following [the Minneapolis municipal website's](http://www.minneapolismn.gov/ncr/engagement/WCMS1P-143464) suggested population numbers for its East African community:\n",
    "\n",
    "> Precise population numbers are difficult to determine for the East African community, many community members do not participate in the census due to cultural reasons. However, _community members estimate that there are roughly 50,000 East Africans that call Minneapolis their home_.\n",
    "\n",
    "\n",
    "Some high-level demographic information, specifically about the percentage of people of color in a given neighborhood of Minneapolis, is [here](https://www.mncompass.org/profiles/neighborhoods/minneapolis-saint-paul#!percent-of-color). (This map also covers neighboring Saint Paul.)\n",
    "\n",
    "I'm translating these percentages into a dataframe, which we will use for comparisons later."
   ]
  },
  {
   "cell_type": "code",
   "execution_count": 4,
   "metadata": {},
   "outputs": [
    {
     "data": {
      "text/html": [
       "<div>\n",
       "<style scoped>\n",
       "    .dataframe tbody tr th:only-of-type {\n",
       "        vertical-align: middle;\n",
       "    }\n",
       "\n",
       "    .dataframe tbody tr th {\n",
       "        vertical-align: top;\n",
       "    }\n",
       "\n",
       "    .dataframe thead th {\n",
       "        text-align: right;\n",
       "    }\n",
       "</style>\n",
       "<table border=\"1\" class=\"dataframe\">\n",
       "  <thead>\n",
       "    <tr style=\"text-align: right;\">\n",
       "      <th></th>\n",
       "      <th>percentage</th>\n",
       "      <th>count</th>\n",
       "    </tr>\n",
       "  </thead>\n",
       "  <tbody>\n",
       "    <tr>\n",
       "      <th>Black</th>\n",
       "      <td>0.189000</td>\n",
       "      <td>80401.0</td>\n",
       "    </tr>\n",
       "    <tr>\n",
       "      <th>White</th>\n",
       "      <td>0.599000</td>\n",
       "      <td>254816.0</td>\n",
       "    </tr>\n",
       "    <tr>\n",
       "      <th>Asian</th>\n",
       "      <td>0.060000</td>\n",
       "      <td>25524.0</td>\n",
       "    </tr>\n",
       "    <tr>\n",
       "      <th>Native American</th>\n",
       "      <td>0.012000</td>\n",
       "      <td>5105.0</td>\n",
       "    </tr>\n",
       "    <tr>\n",
       "      <th>Latino</th>\n",
       "      <td>0.098000</td>\n",
       "      <td>41689.0</td>\n",
       "    </tr>\n",
       "    <tr>\n",
       "      <th>East African</th>\n",
       "      <td>0.117536</td>\n",
       "      <td>50000.0</td>\n",
       "    </tr>\n",
       "    <tr>\n",
       "      <th>Other</th>\n",
       "      <td>0.049000</td>\n",
       "      <td>20845.0</td>\n",
       "    </tr>\n",
       "  </tbody>\n",
       "</table>\n",
       "</div>"
      ],
      "text/plain": [
       "                 percentage     count\n",
       "Black              0.189000   80401.0\n",
       "White              0.599000  254816.0\n",
       "Asian              0.060000   25524.0\n",
       "Native American    0.012000    5105.0\n",
       "Latino             0.098000   41689.0\n",
       "East African       0.117536   50000.0\n",
       "Other              0.049000   20845.0"
      ]
     },
     "execution_count": 4,
     "metadata": {},
     "output_type": "execute_result"
    }
   ],
   "source": [
    "total_population = 425403\n",
    "df_population = pd.DataFrame(data={'percentage': [18.9/100, 59.9/100, 6.0/100, 1.2/100, 9.8/100, 50000/425403, 4.9/100]},\n",
    "                             index=['Black','White','Asian','Native American','Latino','East African','Other'],\n",
    "                            )\n",
    "\n",
    "df_population['count'] = round(df_population['percentage'] * total_population,0)\n",
    "df_population"
   ]
  },
  {
   "cell_type": "markdown",
   "metadata": {},
   "source": [
    "## Where policing happens most frequently"
   ]
  },
  {
   "cell_type": "code",
   "execution_count": 5,
   "metadata": {},
   "outputs": [
    {
     "data": {
      "text/plain": [
       "Downtown West      11276\n",
       "Whittier            6434\n",
       "Hawthorne           5261\n",
       "Near - North        5164\n",
       "Marcy Holmes        4555\n",
       "Jordan              4553\n",
       "Lyndale             4259\n",
       "Lowry Hill East     3250\n",
       "East Phillips       2970\n",
       "Willard - Hay       2889\n",
       "Name: neighborhood, dtype: int64"
      ]
     },
     "execution_count": 5,
     "metadata": {},
     "output_type": "execute_result"
    }
   ],
   "source": [
    "df['neighborhood'].value_counts().sort_values(ascending=False).head(10)"
   ]
  },
  {
   "cell_type": "markdown",
   "metadata": {},
   "source": [
    "With the exceptions of Downtown West, Whittier, and East Phillips, all of the neighbhorhoods with the highest number of overall calls are in the Fourth Precinct in the northwest quadrant of the city. Whittier is in the corner of the Fifth Precinct adjacent to downtown; East Phillips is a part of the Third Precinct."
   ]
  },
  {
   "cell_type": "markdown",
   "metadata": {},
   "source": [
    "## To what kinds of calls do the police respond?\n",
    "\n",
    "There are just six basic categories for the 'problem' to which the police are responding on each call. Most of the problem descriptions are self-explanatory; \"Attempt Pick-Up\" is the attempt to exercise an arrest warrant. Here are the categories and their frequency for the entire set of data:"
   ]
  },
  {
   "cell_type": "code",
   "execution_count": 6,
   "metadata": {},
   "outputs": [
    {
     "data": {
      "text/plain": [
       "Traffic Law Enforcement (P)    60220\n",
       "Suspicious Person (P)          33145\n",
       "Suspicious Vehicle (P)         24807\n",
       "Attempt Pick-Up (P)             2880\n",
       "Curfew Violations (P)            112\n",
       "Truancy (P)                       49\n",
       "Name: problem, dtype: int64"
      ]
     },
     "execution_count": 6,
     "metadata": {},
     "output_type": "execute_result"
    }
   ],
   "source": [
    "df['problem'].value_counts()"
   ]
  },
  {
   "cell_type": "markdown",
   "metadata": {},
   "source": [
    "Each precinct has its own unique characteristics, so the most frequent types of calls can differ between them. This bar chart illustrates how frequent each type of problem is in each precinct.\n",
    "\n",
    "Note that the y-axis is logarithmic. This is to help manage the difference between the frequent problems, with thousands of incidents, to the less frequent problems, with very few incidents."
   ]
  },
  {
   "cell_type": "code",
   "execution_count": 7,
   "metadata": {
    "scrolled": true
   },
   "outputs": [],
   "source": [
    "df_precinct_problem = df.groupby(['policePrecinct','problem']).size().reset_index(name='count')"
   ]
  },
  {
   "cell_type": "code",
   "execution_count": 8,
   "metadata": {},
   "outputs": [
    {
     "data": {
      "image/png": "[encoded data removed]",
      "text/plain": [
       "<Figure size 1080x432 with 1 Axes>"
      ]
     },
     "metadata": {
      "needs_background": "light"
     },
     "output_type": "display_data"
    }
   ],
   "source": [
    "fig, ax = plt.subplots(figsize=(15,6))\n",
    "sns.barplot(x='policePrecinct',\n",
    "            y='count',\n",
    "            hue='problem',\n",
    "            data=df_precinct_problem,\n",
    "           )\n",
    "title = ax.set_title(\"Problems to which Minneapolis Police respond, by precinct\")\n",
    "legend = ax.legend(ncol=3,framealpha=.1)\n",
    "yscale = ax.set(yscale=\"log\")"
   ]
  },
  {
   "cell_type": "markdown",
   "metadata": {},
   "source": [
    "Traffic stops are by far the most common problem in Minneapolis overall, and are the primary reason for calls in the Second, Fourth, and Fifth precincts. Suspicious Person is the most frequent problem in the First and Third Precincts. "
   ]
  },
  {
   "cell_type": "code",
   "execution_count": 9,
   "metadata": {
    "scrolled": true
   },
   "outputs": [
    {
     "data": {
      "text/html": [
       "<div>\n",
       "<style scoped>\n",
       "    .dataframe tbody tr th:only-of-type {\n",
       "        vertical-align: middle;\n",
       "    }\n",
       "\n",
       "    .dataframe tbody tr th {\n",
       "        vertical-align: top;\n",
       "    }\n",
       "\n",
       "    .dataframe thead th {\n",
       "        text-align: right;\n",
       "    }\n",
       "</style>\n",
       "<table border=\"1\" class=\"dataframe\">\n",
       "  <thead>\n",
       "    <tr style=\"text-align: right;\">\n",
       "      <th></th>\n",
       "      <th>policePrecinct</th>\n",
       "      <th>race</th>\n",
       "      <th>problem</th>\n",
       "      <th>count</th>\n",
       "    </tr>\n",
       "  </thead>\n",
       "  <tbody>\n",
       "    <tr>\n",
       "      <th>129</th>\n",
       "      <td>4.0</td>\n",
       "      <td>Black</td>\n",
       "      <td>Traffic Law Enforcement (P)</td>\n",
       "      <td>10370</td>\n",
       "    </tr>\n",
       "    <tr>\n",
       "      <th>81</th>\n",
       "      <td>2.0</td>\n",
       "      <td>White</td>\n",
       "      <td>Traffic Law Enforcement (P)</td>\n",
       "      <td>6494</td>\n",
       "    </tr>\n",
       "    <tr>\n",
       "      <th>195</th>\n",
       "      <td>5.0</td>\n",
       "      <td>White</td>\n",
       "      <td>Traffic Law Enforcement (P)</td>\n",
       "      <td>6403</td>\n",
       "    </tr>\n",
       "    <tr>\n",
       "      <th>49</th>\n",
       "      <td>2.0</td>\n",
       "      <td>Black</td>\n",
       "      <td>Traffic Law Enforcement (P)</td>\n",
       "      <td>4099</td>\n",
       "    </tr>\n",
       "    <tr>\n",
       "      <th>166</th>\n",
       "      <td>5.0</td>\n",
       "      <td>Black</td>\n",
       "      <td>Traffic Law Enforcement (P)</td>\n",
       "      <td>3929</td>\n",
       "    </tr>\n",
       "    <tr>\n",
       "      <th>151</th>\n",
       "      <td>4.0</td>\n",
       "      <td>Unknown</td>\n",
       "      <td>Suspicious Vehicle (P)</td>\n",
       "      <td>3374</td>\n",
       "    </tr>\n",
       "    <tr>\n",
       "      <th>114</th>\n",
       "      <td>3.0</td>\n",
       "      <td>Unknown</td>\n",
       "      <td>Suspicious Vehicle (P)</td>\n",
       "      <td>3371</td>\n",
       "    </tr>\n",
       "    <tr>\n",
       "      <th>113</th>\n",
       "      <td>3.0</td>\n",
       "      <td>Unknown</td>\n",
       "      <td>Suspicious Person (P)</td>\n",
       "      <td>3258</td>\n",
       "    </tr>\n",
       "    <tr>\n",
       "      <th>7</th>\n",
       "      <td>1.0</td>\n",
       "      <td>Black</td>\n",
       "      <td>Suspicious Person (P)</td>\n",
       "      <td>3121</td>\n",
       "    </tr>\n",
       "    <tr>\n",
       "      <th>9</th>\n",
       "      <td>1.0</td>\n",
       "      <td>Black</td>\n",
       "      <td>Traffic Law Enforcement (P)</td>\n",
       "      <td>2462</td>\n",
       "    </tr>\n",
       "    <tr>\n",
       "      <th>39</th>\n",
       "      <td>1.0</td>\n",
       "      <td>White</td>\n",
       "      <td>Traffic Law Enforcement (P)</td>\n",
       "      <td>2221</td>\n",
       "    </tr>\n",
       "    <tr>\n",
       "      <th>128</th>\n",
       "      <td>4.0</td>\n",
       "      <td>Black</td>\n",
       "      <td>Suspicious Vehicle (P)</td>\n",
       "      <td>2091</td>\n",
       "    </tr>\n",
       "    <tr>\n",
       "      <th>188</th>\n",
       "      <td>5.0</td>\n",
       "      <td>Unknown</td>\n",
       "      <td>Suspicious Vehicle (P)</td>\n",
       "      <td>1996</td>\n",
       "    </tr>\n",
       "    <tr>\n",
       "      <th>187</th>\n",
       "      <td>5.0</td>\n",
       "      <td>Unknown</td>\n",
       "      <td>Suspicious Person (P)</td>\n",
       "      <td>1955</td>\n",
       "    </tr>\n",
       "    <tr>\n",
       "      <th>127</th>\n",
       "      <td>4.0</td>\n",
       "      <td>Black</td>\n",
       "      <td>Suspicious Person (P)</td>\n",
       "      <td>1809</td>\n",
       "    </tr>\n",
       "    <tr>\n",
       "      <th>150</th>\n",
       "      <td>4.0</td>\n",
       "      <td>Unknown</td>\n",
       "      <td>Suspicious Person (P)</td>\n",
       "      <td>1790</td>\n",
       "    </tr>\n",
       "    <tr>\n",
       "      <th>91</th>\n",
       "      <td>3.0</td>\n",
       "      <td>Black</td>\n",
       "      <td>Traffic Law Enforcement (P)</td>\n",
       "      <td>1755</td>\n",
       "    </tr>\n",
       "    <tr>\n",
       "      <th>157</th>\n",
       "      <td>4.0</td>\n",
       "      <td>White</td>\n",
       "      <td>Traffic Law Enforcement (P)</td>\n",
       "      <td>1721</td>\n",
       "    </tr>\n",
       "    <tr>\n",
       "      <th>193</th>\n",
       "      <td>5.0</td>\n",
       "      <td>White</td>\n",
       "      <td>Suspicious Person (P)</td>\n",
       "      <td>1506</td>\n",
       "    </tr>\n",
       "    <tr>\n",
       "      <th>120</th>\n",
       "      <td>3.0</td>\n",
       "      <td>White</td>\n",
       "      <td>Traffic Law Enforcement (P)</td>\n",
       "      <td>1493</td>\n",
       "    </tr>\n",
       "    <tr>\n",
       "      <th>170</th>\n",
       "      <td>5.0</td>\n",
       "      <td>East African</td>\n",
       "      <td>Traffic Law Enforcement (P)</td>\n",
       "      <td>1390</td>\n",
       "    </tr>\n",
       "    <tr>\n",
       "      <th>74</th>\n",
       "      <td>2.0</td>\n",
       "      <td>Unknown</td>\n",
       "      <td>Suspicious Vehicle (P)</td>\n",
       "      <td>1365</td>\n",
       "    </tr>\n",
       "    <tr>\n",
       "      <th>89</th>\n",
       "      <td>3.0</td>\n",
       "      <td>Black</td>\n",
       "      <td>Suspicious Person (P)</td>\n",
       "      <td>1339</td>\n",
       "    </tr>\n",
       "    <tr>\n",
       "      <th>31</th>\n",
       "      <td>1.0</td>\n",
       "      <td>Unknown</td>\n",
       "      <td>Suspicious Person (P)</td>\n",
       "      <td>1248</td>\n",
       "    </tr>\n",
       "    <tr>\n",
       "      <th>37</th>\n",
       "      <td>1.0</td>\n",
       "      <td>White</td>\n",
       "      <td>Suspicious Person (P)</td>\n",
       "      <td>1215</td>\n",
       "    </tr>\n",
       "    <tr>\n",
       "      <th>73</th>\n",
       "      <td>2.0</td>\n",
       "      <td>Unknown</td>\n",
       "      <td>Suspicious Person (P)</td>\n",
       "      <td>1183</td>\n",
       "    </tr>\n",
       "    <tr>\n",
       "      <th>79</th>\n",
       "      <td>2.0</td>\n",
       "      <td>White</td>\n",
       "      <td>Suspicious Person (P)</td>\n",
       "      <td>1039</td>\n",
       "    </tr>\n",
       "    <tr>\n",
       "      <th>164</th>\n",
       "      <td>5.0</td>\n",
       "      <td>Black</td>\n",
       "      <td>Suspicious Person (P)</td>\n",
       "      <td>1026</td>\n",
       "    </tr>\n",
       "    <tr>\n",
       "      <th>90</th>\n",
       "      <td>3.0</td>\n",
       "      <td>Black</td>\n",
       "      <td>Suspicious Vehicle (P)</td>\n",
       "      <td>1009</td>\n",
       "    </tr>\n",
       "    <tr>\n",
       "      <th>103</th>\n",
       "      <td>3.0</td>\n",
       "      <td>Native American</td>\n",
       "      <td>Suspicious Person (P)</td>\n",
       "      <td>917</td>\n",
       "    </tr>\n",
       "    <tr>\n",
       "      <th>...</th>\n",
       "      <td>...</td>\n",
       "      <td>...</td>\n",
       "      <td>...</td>\n",
       "      <td>...</td>\n",
       "    </tr>\n",
       "    <tr>\n",
       "      <th>51</th>\n",
       "      <td>2.0</td>\n",
       "      <td>East African</td>\n",
       "      <td>Attempt Pick-Up (P)</td>\n",
       "      <td>3</td>\n",
       "    </tr>\n",
       "    <tr>\n",
       "      <th>83</th>\n",
       "      <td>3.0</td>\n",
       "      <td>Asian</td>\n",
       "      <td>Attempt Pick-Up (P)</td>\n",
       "      <td>3</td>\n",
       "    </tr>\n",
       "    <tr>\n",
       "      <th>158</th>\n",
       "      <td>5.0</td>\n",
       "      <td>Asian</td>\n",
       "      <td>Attempt Pick-Up (P)</td>\n",
       "      <td>2</td>\n",
       "    </tr>\n",
       "    <tr>\n",
       "      <th>153</th>\n",
       "      <td>4.0</td>\n",
       "      <td>Unknown</td>\n",
       "      <td>Truancy (P)</td>\n",
       "      <td>2</td>\n",
       "    </tr>\n",
       "    <tr>\n",
       "      <th>46</th>\n",
       "      <td>2.0</td>\n",
       "      <td>Black</td>\n",
       "      <td>Curfew Violations (P)</td>\n",
       "      <td>2</td>\n",
       "    </tr>\n",
       "    <tr>\n",
       "      <th>126</th>\n",
       "      <td>4.0</td>\n",
       "      <td>Black</td>\n",
       "      <td>Curfew Violations (P)</td>\n",
       "      <td>2</td>\n",
       "    </tr>\n",
       "    <tr>\n",
       "      <th>116</th>\n",
       "      <td>3.0</td>\n",
       "      <td>Unknown</td>\n",
       "      <td>Truancy (P)</td>\n",
       "      <td>2</td>\n",
       "    </tr>\n",
       "    <tr>\n",
       "      <th>112</th>\n",
       "      <td>3.0</td>\n",
       "      <td>Unknown</td>\n",
       "      <td>Curfew Violations (P)</td>\n",
       "      <td>2</td>\n",
       "    </tr>\n",
       "    <tr>\n",
       "      <th>61</th>\n",
       "      <td>2.0</td>\n",
       "      <td>Latino</td>\n",
       "      <td>Truancy (P)</td>\n",
       "      <td>2</td>\n",
       "    </tr>\n",
       "    <tr>\n",
       "      <th>40</th>\n",
       "      <td>2.0</td>\n",
       "      <td>Asian</td>\n",
       "      <td>Attempt Pick-Up (P)</td>\n",
       "      <td>2</td>\n",
       "    </tr>\n",
       "    <tr>\n",
       "      <th>82</th>\n",
       "      <td>2.0</td>\n",
       "      <td>White</td>\n",
       "      <td>Truancy (P)</td>\n",
       "      <td>2</td>\n",
       "    </tr>\n",
       "    <tr>\n",
       "      <th>78</th>\n",
       "      <td>2.0</td>\n",
       "      <td>White</td>\n",
       "      <td>Curfew Violations (P)</td>\n",
       "      <td>2</td>\n",
       "    </tr>\n",
       "    <tr>\n",
       "      <th>180</th>\n",
       "      <td>5.0</td>\n",
       "      <td>Other</td>\n",
       "      <td>Curfew Violations (P)</td>\n",
       "      <td>2</td>\n",
       "    </tr>\n",
       "    <tr>\n",
       "      <th>36</th>\n",
       "      <td>1.0</td>\n",
       "      <td>White</td>\n",
       "      <td>Curfew Violations (P)</td>\n",
       "      <td>1</td>\n",
       "    </tr>\n",
       "    <tr>\n",
       "      <th>44</th>\n",
       "      <td>2.0</td>\n",
       "      <td>Asian</td>\n",
       "      <td>Truancy (P)</td>\n",
       "      <td>1</td>\n",
       "    </tr>\n",
       "    <tr>\n",
       "      <th>34</th>\n",
       "      <td>1.0</td>\n",
       "      <td>Unknown</td>\n",
       "      <td>Truancy (P)</td>\n",
       "      <td>1</td>\n",
       "    </tr>\n",
       "    <tr>\n",
       "      <th>24</th>\n",
       "      <td>1.0</td>\n",
       "      <td>Native American</td>\n",
       "      <td>Truancy (P)</td>\n",
       "      <td>1</td>\n",
       "    </tr>\n",
       "    <tr>\n",
       "      <th>186</th>\n",
       "      <td>5.0</td>\n",
       "      <td>Unknown</td>\n",
       "      <td>Curfew Violations (P)</td>\n",
       "      <td>1</td>\n",
       "    </tr>\n",
       "    <tr>\n",
       "      <th>63</th>\n",
       "      <td>2.0</td>\n",
       "      <td>Native American</td>\n",
       "      <td>Curfew Violations (P)</td>\n",
       "      <td>1</td>\n",
       "    </tr>\n",
       "    <tr>\n",
       "      <th>184</th>\n",
       "      <td>5.0</td>\n",
       "      <td>Other</td>\n",
       "      <td>Truancy (P)</td>\n",
       "      <td>1</td>\n",
       "    </tr>\n",
       "    <tr>\n",
       "      <th>55</th>\n",
       "      <td>2.0</td>\n",
       "      <td>East African</td>\n",
       "      <td>Truancy (P)</td>\n",
       "      <td>1</td>\n",
       "    </tr>\n",
       "    <tr>\n",
       "      <th>57</th>\n",
       "      <td>2.0</td>\n",
       "      <td>Latino</td>\n",
       "      <td>Curfew Violations (P)</td>\n",
       "      <td>1</td>\n",
       "    </tr>\n",
       "    <tr>\n",
       "      <th>76</th>\n",
       "      <td>2.0</td>\n",
       "      <td>Unknown</td>\n",
       "      <td>Truancy (P)</td>\n",
       "      <td>1</td>\n",
       "    </tr>\n",
       "    <tr>\n",
       "      <th>88</th>\n",
       "      <td>3.0</td>\n",
       "      <td>Black</td>\n",
       "      <td>Curfew Violations (P)</td>\n",
       "      <td>1</td>\n",
       "    </tr>\n",
       "    <tr>\n",
       "      <th>93</th>\n",
       "      <td>3.0</td>\n",
       "      <td>East African</td>\n",
       "      <td>Curfew Violations (P)</td>\n",
       "      <td>1</td>\n",
       "    </tr>\n",
       "    <tr>\n",
       "      <th>1</th>\n",
       "      <td>1.0</td>\n",
       "      <td>Asian</td>\n",
       "      <td>Curfew Violations (P)</td>\n",
       "      <td>1</td>\n",
       "    </tr>\n",
       "    <tr>\n",
       "      <th>107</th>\n",
       "      <td>3.0</td>\n",
       "      <td>Other</td>\n",
       "      <td>Curfew Violations (P)</td>\n",
       "      <td>1</td>\n",
       "    </tr>\n",
       "    <tr>\n",
       "      <th>136</th>\n",
       "      <td>4.0</td>\n",
       "      <td>Latino</td>\n",
       "      <td>Curfew Violations (P)</td>\n",
       "      <td>1</td>\n",
       "    </tr>\n",
       "    <tr>\n",
       "      <th>149</th>\n",
       "      <td>4.0</td>\n",
       "      <td>Unknown</td>\n",
       "      <td>Curfew Violations (P)</td>\n",
       "      <td>1</td>\n",
       "    </tr>\n",
       "    <tr>\n",
       "      <th>98</th>\n",
       "      <td>3.0</td>\n",
       "      <td>Latino</td>\n",
       "      <td>Curfew Violations (P)</td>\n",
       "      <td>1</td>\n",
       "    </tr>\n",
       "  </tbody>\n",
       "</table>\n",
       "<p>196 rows × 4 columns</p>\n",
       "</div>"
      ],
      "text/plain": [
       "     policePrecinct             race                      problem  count\n",
       "129             4.0            Black  Traffic Law Enforcement (P)  10370\n",
       "81              2.0            White  Traffic Law Enforcement (P)   6494\n",
       "195             5.0            White  Traffic Law Enforcement (P)   6403\n",
       "49              2.0            Black  Traffic Law Enforcement (P)   4099\n",
       "166             5.0            Black  Traffic Law Enforcement (P)   3929\n",
       "151             4.0          Unknown       Suspicious Vehicle (P)   3374\n",
       "114             3.0          Unknown       Suspicious Vehicle (P)   3371\n",
       "113             3.0          Unknown        Suspicious Person (P)   3258\n",
       "7               1.0            Black        Suspicious Person (P)   3121\n",
       "9               1.0            Black  Traffic Law Enforcement (P)   2462\n",
       "39              1.0            White  Traffic Law Enforcement (P)   2221\n",
       "128             4.0            Black       Suspicious Vehicle (P)   2091\n",
       "188             5.0          Unknown       Suspicious Vehicle (P)   1996\n",
       "187             5.0          Unknown        Suspicious Person (P)   1955\n",
       "127             4.0            Black        Suspicious Person (P)   1809\n",
       "150             4.0          Unknown        Suspicious Person (P)   1790\n",
       "91              3.0            Black  Traffic Law Enforcement (P)   1755\n",
       "157             4.0            White  Traffic Law Enforcement (P)   1721\n",
       "193             5.0            White        Suspicious Person (P)   1506\n",
       "120             3.0            White  Traffic Law Enforcement (P)   1493\n",
       "170             5.0     East African  Traffic Law Enforcement (P)   1390\n",
       "74              2.0          Unknown       Suspicious Vehicle (P)   1365\n",
       "89              3.0            Black        Suspicious Person (P)   1339\n",
       "31              1.0          Unknown        Suspicious Person (P)   1248\n",
       "37              1.0            White        Suspicious Person (P)   1215\n",
       "73              2.0          Unknown        Suspicious Person (P)   1183\n",
       "79              2.0            White        Suspicious Person (P)   1039\n",
       "164             5.0            Black        Suspicious Person (P)   1026\n",
       "90              3.0            Black       Suspicious Vehicle (P)   1009\n",
       "103             3.0  Native American        Suspicious Person (P)    917\n",
       "..              ...              ...                          ...    ...\n",
       "51              2.0     East African          Attempt Pick-Up (P)      3\n",
       "83              3.0            Asian          Attempt Pick-Up (P)      3\n",
       "158             5.0            Asian          Attempt Pick-Up (P)      2\n",
       "153             4.0          Unknown                  Truancy (P)      2\n",
       "46              2.0            Black        Curfew Violations (P)      2\n",
       "126             4.0            Black        Curfew Violations (P)      2\n",
       "116             3.0          Unknown                  Truancy (P)      2\n",
       "112             3.0          Unknown        Curfew Violations (P)      2\n",
       "61              2.0           Latino                  Truancy (P)      2\n",
       "40              2.0            Asian          Attempt Pick-Up (P)      2\n",
       "82              2.0            White                  Truancy (P)      2\n",
       "78              2.0            White        Curfew Violations (P)      2\n",
       "180             5.0            Other        Curfew Violations (P)      2\n",
       "36              1.0            White        Curfew Violations (P)      1\n",
       "44              2.0            Asian                  Truancy (P)      1\n",
       "34              1.0          Unknown                  Truancy (P)      1\n",
       "24              1.0  Native American                  Truancy (P)      1\n",
       "186             5.0          Unknown        Curfew Violations (P)      1\n",
       "63              2.0  Native American        Curfew Violations (P)      1\n",
       "184             5.0            Other                  Truancy (P)      1\n",
       "55              2.0     East African                  Truancy (P)      1\n",
       "57              2.0           Latino        Curfew Violations (P)      1\n",
       "76              2.0          Unknown                  Truancy (P)      1\n",
       "88              3.0            Black        Curfew Violations (P)      1\n",
       "93              3.0     East African        Curfew Violations (P)      1\n",
       "1               1.0            Asian        Curfew Violations (P)      1\n",
       "107             3.0            Other        Curfew Violations (P)      1\n",
       "136             4.0           Latino        Curfew Violations (P)      1\n",
       "149             4.0          Unknown        Curfew Violations (P)      1\n",
       "98              3.0           Latino        Curfew Violations (P)      1\n",
       "\n",
       "[196 rows x 4 columns]"
      ]
     },
     "execution_count": 9,
     "metadata": {},
     "output_type": "execute_result"
    }
   ],
   "source": [
    "df_precinct_race_problem = df.groupby(['policePrecinct','race','problem']).size().reset_index(name='count')\n",
    "df_precinct_race_problem.sort_values(by='count',ascending=False)\n",
    "#df_precinct_race_problem['policePrecinct'].unique()"
   ]
  },
  {
   "cell_type": "markdown",
   "metadata": {},
   "source": [
    "## Call disposition\n",
    "\n",
    "When a call is resolved, officers choose a call disposition from a predefined list of values. The purpose of some of these values overlap, and a few are described by their own metadata as interchangeable. There's also a lengthy list of dispositions that are primarily administrative in nature. [The MPD data dashboard](https://www.insidempd.com/datadashboard/) includes an explanation of call dispositions.\n",
    "\n",
    "For this research, I am concerned with understanding just a few higher-level categories:\n",
    "* Was someone arrested?\n",
    "* Was some kind of citation issued?\n",
    "* Did the person involved get away with just a warning?\n",
    "\n",
    "So, given the explanations provided for each disposition, I grouped dispositions into these three categories, and a few additional categories:\n",
    "\n",
    "1. __Arrested - Call ended with someone being arrested__\n",
    "\n",
    "2. __Ticket/tow - Call ended with a ticket being issued.__ In addition to moving violations, these dispositions can apply to parking violations where the race of the driver is unknown, because the driver was not present.\n",
    "\n",
    "3. __Advised - Call ended with a verbal warning and/or someone being obliged to leave the scene.__ A disposition I did not see explained on the MPD data dashboard is \"LOP\", or [Lights On Program](https://www.lightsonus.org/). Because this program offers repair vouchers to the economically disadvantaged in lieu of issuing tickets, I categorized this disposition as advisory.\n",
    "\n",
    "4. Transported - Call ended with someone being transported away from the scene (a truancy or detox situation).\n",
    "\n",
    "5. No action - Call ended with nothing happening to the subject--service was not provided (or refused), or a calling card was left.\n",
    "\n",
    "6. Administrative - Includes informational dispositions, calls that ended as a false alarm, the suspects were not at the scene when police arrived, or the issue was already resolved when they arrived."
   ]
  },
  {
   "cell_type": "code",
   "execution_count": 10,
   "metadata": {},
   "outputs": [],
   "source": [
    "arrested = ['BKG-Booking','BKG-Booking,TOW-Towed']\n",
    "transported = ['TRN-Transport','DTX-Detox']\n",
    "ticket_tow = ['TAG-Tagged','TOW-Towed','RPT-Report,TAG-Tagged']\n",
    "advised = ['ADV-Advised','SNT-Sent','RPR-Reprimand/Release','LOP-Lights On Program']\n",
    "no_action = ['NOS-No Service','RFD-Refused','MES-Message Left']\n",
    "administrative = ['GOA-Gone on Arrival','AOK- All OK','UTL-Unable to Locate','INF-Information','CNL-Cancel',\n",
    "                  'UNF-Unfounded','INS-Inservice','AQT-All Quiet','FTC-Fail to Clear','FAL-False','SCK-Sick',\n",
    "                  'SEC- Secured']"
   ]
  },
  {
   "cell_type": "markdown",
   "metadata": {},
   "source": [
    "Overall call disposition frequencies look like this:"
   ]
  },
  {
   "cell_type": "code",
   "execution_count": 11,
   "metadata": {
    "scrolled": true
   },
   "outputs": [
    {
     "data": {
      "text/plain": [
       "ADV-Advised              51000\n",
       "TAG-Tagged               16083\n",
       "GOA-Gone on Arrival      13747\n",
       "BKG-Booking               8034\n",
       "AOK- All OK               7529\n",
       "SNT-Sent                  6594\n",
       "RPT-Report                4282\n",
       "UTL-Unable to Locate      2821\n",
       "INF-Information           2545\n",
       "TRN-Transport             1486\n",
       "CNL-Cancel                 945\n",
       "NOS-No Service             814\n",
       "TOW-Towed                  782\n",
       "UNF-Unfounded              658\n",
       "INS-Inservice              545\n",
       "AQT-All Quiet              529\n",
       "RPR-Reprimand/Release      164\n",
       "FTC-Fail to Clear          149\n",
       "LOP-Lights On Program       66\n",
       "SEC- Secured                63\n",
       "FAL-False                   55\n",
       "RFD-Refused                 48\n",
       "DTX-Detox                   40\n",
       "SCK-Sick                    20\n",
       "MES-Message Left             5\n",
       "BKG-Booking,TOW-Towed        1\n",
       "RPT-Report,TAG-Tagged        1\n",
       "Name: callDisposition, dtype: int64"
      ]
     },
     "execution_count": 11,
     "metadata": {},
     "output_type": "execute_result"
    }
   ],
   "source": [
    "df['callDisposition'].value_counts()"
   ]
  },
  {
   "cell_type": "code",
   "execution_count": 12,
   "metadata": {},
   "outputs": [
    {
     "data": {
      "text/plain": [
       "[None]"
      ]
     },
     "execution_count": 12,
     "metadata": {},
     "output_type": "execute_result"
    },
    {
     "data": {
      "image/png": "[encoded data removed]",
      "text/plain": [
       "<Figure size 1080x576 with 1 Axes>"
      ]
     },
     "metadata": {
      "needs_background": "light"
     },
     "output_type": "display_data"
    }
   ],
   "source": [
    "fig, ax = plt.subplots(figsize=(15,8))\n",
    "sns.boxplot(x='race',\n",
    "            y='count',\n",
    "            hue='policePrecinct',\n",
    "            data=df_precinct_race_problem,\n",
    "            order=df['race'].value_counts().index, # Order race on x-axis by overall frequency\n",
    "           )\n",
    "ax.set_title(\"Frequency of Minneapolis Police responses to problems, by race and police precinct\")\n",
    "ax.set(yscale=\"log\")"
   ]
  },
  {
   "cell_type": "markdown",
   "metadata": {},
   "source": [
    "__This plot shows the range of frequencies of problems for which a particular race is involved in a call, per precinct.__ The races are in order of most frequently involved in overall calls, to least frequent.\n",
    "\n",
    "Some points of interest:\n",
    "* Black people are involved in police calls more often than any other race overall, despite being only 18.9% of the city's population. They are most frequently involved in calls in all but the Second precinct, and are far and away the most frequent in the Fourth precinct. (I needed to use a logarithmic scale for this graph because the values for the city's Black population flattened most of the other group's data against the x-axis.)\n",
    "\n",
    "* Calls involving White people--by percentage the largest racial group in the city, representing 59.9% of the population--are second in the list, and are most frequently the subjects of calls in the Second and Fifth precincts, where they are predominant.\n",
    "\n",
    "* East African and Latinx people are frequently involved in calls in the Third precinct, where their communities are centered within the city, and also in the Fifth. (Traffic stops are by far the most common in the Fourth and Fifth precincts.)\n",
    "\n",
    "* Calls involving Native Americans are most frequent in the Third precinct, the location of the Little Earth community."
   ]
  },
  {
   "cell_type": "code",
   "execution_count": 13,
   "metadata": {
    "scrolled": false
   },
   "outputs": [
    {
     "data": {
      "image/png": "[encoded data removed]",
      "text/plain": [
       "<Figure size 1080x504 with 1 Axes>"
      ]
     },
     "metadata": {
      "needs_background": "light"
     },
     "output_type": "display_data"
    }
   ],
   "source": [
    "interactions = sum([arrested,ticket_tow,advised],[])\n",
    "df_interactions = df.loc[df['callDisposition'].isin(interactions)]\n",
    "fig = plt.subplots(figsize=(15,7))\n",
    "prob = sns.countplot(x=\"race\",\n",
    "                     hue=\"callDisposition\",\n",
    "                     data=df_interactions,\n",
    "                   )\n",
    "prob.set(yscale=\"log\")\n",
    "x_title = prob.set_title(\"Minneapolis Police interactions, by race\")\n",
    "x_label = prob.set_xticklabels(prob.get_xticklabels(), rotation=30)\n",
    "x_legend = prob.legend(loc='upper right',ncol=2)"
   ]
  },
  {
   "cell_type": "markdown",
   "metadata": {},
   "source": [
    "Minneapolis Police interact with Black people more than any other race, except in two categories: TOW, for which Unknown is the overwhelming winner (presumably, this represents illegally parked vehicles with no driver present), and LOP, which again is the Lights On Program, where officers issue vouchers for minor repairs to the economically disadvantaged, instead of writing tickets.\n",
    "\n",
    "I took a closer look at just arrests, broken into categories based on \"reason\". "
   ]
  },
  {
   "cell_type": "code",
   "execution_count": 14,
   "metadata": {},
   "outputs": [
    {
     "name": "stdout",
     "output_type": "stream",
     "text": [
      "Dropping NAs:\n",
      "Pre count: 6264\n",
      "Post count: 4244\n"
     ]
    },
    {
     "name": "stderr",
     "output_type": "stream",
     "text": [
      "/usr/local/lib/python3.6/dist-packages/ipykernel_launcher.py:8: SettingWithCopyWarning: \n",
      "A value is trying to be set on a copy of a slice from a DataFrame\n",
      "\n",
      "See the caveats in the documentation: http://pandas.pydata.org/pandas-docs/stable/indexing.html#indexing-view-versus-copy\n",
      "  \n"
     ]
    }
   ],
   "source": [
    "df_arrests = df.loc[(df['callDisposition'].isin(arrested))]\n",
    "df_ticketed = df.loc[(df['callDisposition'].isin(ticket_tow))]\n",
    "df_advisory = df.loc[(df['callDisposition'].isin(advised))]# & (df['policePrecinct'] == 4)] #(df['neighborhood'] == 'Near - North')] \n",
    "\n",
    "pre_drop = df_arrests['race'].count()\n",
    "df_arrests.dropna(axis='index',\n",
    "                  how='any',\n",
    "                  inplace=True\n",
    "                 )\n",
    "df_arrests = df_arrests.loc[df_arrests['race'] != \"Unknown\"]\n",
    "post_drop = df_arrests['race'].count()\n",
    "print (\"Dropping NAs:\\nPre count: {}\\nPost count: {}\".format(pre_drop,post_drop))"
   ]
  },
  {
   "cell_type": "code",
   "execution_count": 15,
   "metadata": {},
   "outputs": [
    {
     "data": {
      "image/png": "[encoded data removed]",
      "text/plain": [
       "<Figure size 1080x360 with 1 Axes>"
      ]
     },
     "metadata": {
      "needs_background": "light"
     },
     "output_type": "display_data"
    }
   ],
   "source": [
    "fig, ax = plt.subplots(figsize=(15,5))\n",
    "arr = sns.countplot(x=\"race\",\n",
    "                  hue=\"reason\",\n",
    "                  data=df_arrests\n",
    "                 )\n",
    "arr.set(yscale=\"log\")\n",
    "x_title = arr.set_title(\"Minneapolis Police arrests by race and reason\")"
   ]
  },
  {
   "cell_type": "markdown",
   "metadata": {},
   "source": [
    "Because traffic stops are so frequent, I wanted to see how those broke down by race and precinct as well."
   ]
  },
  {
   "cell_type": "code",
   "execution_count": 16,
   "metadata": {},
   "outputs": [
    {
     "data": {
      "text/plain": [
       "[None]"
      ]
     },
     "execution_count": 16,
     "metadata": {},
     "output_type": "execute_result"
    },
    {
     "data": {
      "image/png": "[encoded data removed]",
      "text/plain": [
       "<Figure size 1080x360 with 1 Axes>"
      ]
     },
     "metadata": {
      "needs_background": "light"
     },
     "output_type": "display_data"
    }
   ],
   "source": [
    "fig, ax = plt.subplots(figsize=(15,5))\n",
    "sns.set(style='whitegrid')\n",
    "sns.pointplot(x='policePrecinct',\n",
    "              y='count',\n",
    "            hue='race',\n",
    "            data=df_precinct_race_problem.loc[df_precinct_race_problem['problem'] == 'Traffic Law Enforcement (P)'],\n",
    "            #order=df['race'].value_counts().index, # Order race by overall frequency\n",
    "           dodge=True,\n",
    "           )\n",
    "ax.legend(title='Race',\n",
    "          loc='lower right',\n",
    "          ncol=4,\n",
    "          framealpha=.5,\n",
    "         )\n",
    "title = ax.set_title(\"Frequency of Minneapolis Police Traffic stops, by police precinct\")\n",
    "ax.set(yscale=\"log\")"
   ]
  },
  {
   "cell_type": "code",
   "execution_count": 17,
   "metadata": {
    "scrolled": true
   },
   "outputs": [
    {
     "data": {
      "text/plain": [
       "Moving Violation       26183\n",
       "Equipment Violation    14000\n",
       "Investigative           3886\n",
       "Citizen / 9-1-1          145\n",
       "Name: reason, dtype: int64"
      ]
     },
     "execution_count": 17,
     "metadata": {},
     "output_type": "execute_result"
    }
   ],
   "source": [
    "df.loc[df['problem'] == 'Traffic Law Enforcement (P)']['reason'].value_counts()"
   ]
  },
  {
   "cell_type": "code",
   "execution_count": 18,
   "metadata": {},
   "outputs": [
    {
     "data": {
      "text/plain": [
       "Moving Violation       28072\n",
       "Citizen / 9-1-1        24319\n",
       "Investigative          19155\n",
       "Equipment Violation    14848\n",
       "Name: reason, dtype: int64"
      ]
     },
     "execution_count": 18,
     "metadata": {},
     "output_type": "execute_result"
    }
   ],
   "source": [
    "df['reason'].value_counts()"
   ]
  },
  {
   "cell_type": "code",
   "execution_count": 19,
   "metadata": {},
   "outputs": [
    {
     "data": {
      "text/plain": [
       "Citizen / 9-1-1        13482\n",
       "Investigative           8626\n",
       "Moving Violation         541\n",
       "Equipment Violation      221\n",
       "Name: reason, dtype: int64"
      ]
     },
     "execution_count": 19,
     "metadata": {},
     "output_type": "execute_result"
    }
   ],
   "source": [
    "df.loc[df['problem'] == 'Suspicious Person (P)']['reason'].value_counts()"
   ]
  },
  {
   "cell_type": "code",
   "execution_count": 20,
   "metadata": {},
   "outputs": [
    {
     "data": {
      "text/plain": [
       "Black              20634\n",
       "White              17159\n",
       "East African        3798\n",
       "Unknown             2564\n",
       "Latino              2536\n",
       "Other               1661\n",
       "Native American     1470\n",
       "Asian               1029\n",
       "Name: race, dtype: int64"
      ]
     },
     "execution_count": 20,
     "metadata": {},
     "output_type": "execute_result"
    }
   ],
   "source": [
    "df.loc[df['callDisposition'].isin(advised)]['race'].value_counts()"
   ]
  },
  {
   "cell_type": "code",
   "execution_count": 21,
   "metadata": {},
   "outputs": [
    {
     "data": {
      "image/png": "[encoded data removed]",
      "text/plain": [
       "<Figure size 1080x360 with 1 Axes>"
      ]
     },
     "metadata": {},
     "output_type": "display_data"
    }
   ],
   "source": [
    "fig, ax = plt.subplots(figsize=(15,5))\n",
    "prob = sns.countplot(x=\"problem\",\n",
    "                    hue=\"policePrecinct\",\n",
    "                    data=df_arrests,\n",
    "                   )\n",
    "prob.set(yscale=\"log\")\n",
    "x_title = prob.set_title(\"Minneapolis Police arrests by problem category and police precinct\")\n",
    "#x_label = prob.set_xticklabels(prob.get_xticklabels(), rotation=30)\n",
    "x_legend = prob.legend(loc='upper right')"
   ]
  },
  {
   "cell_type": "markdown",
   "metadata": {},
   "source": [
    "([Curfew violations](https://www.hennepinattorney.org/prevention/students-youth/curfew) are rare, and have to date happened entirely in the downtown precinct.)"
   ]
  },
  {
   "cell_type": "code",
   "execution_count": 22,
   "metadata": {},
   "outputs": [
    {
     "data": {
      "text/plain": [
       "Investigative          2212\n",
       "Moving Violation        878\n",
       "Citizen / 9-1-1         677\n",
       "Equipment Violation     477\n",
       "Name: reason, dtype: int64"
      ]
     },
     "execution_count": 22,
     "metadata": {},
     "output_type": "execute_result"
    },
    {
     "data": {
      "image/png": "[encoded data removed]",
      "text/plain": [
       "<Figure size 432x288 with 1 Axes>"
      ]
     },
     "metadata": {},
     "output_type": "display_data"
    }
   ],
   "source": [
    "# Which reasons and problems result in an arrest?\n",
    "rea = sns.countplot(x=\"reason\",\n",
    "                    hue=\"policePrecinct\",\n",
    "                    data=df_arrests,\n",
    "                   )\n",
    "x_title = rea.set_title(\"Minneapolis Police arrests by reason for the call and police precinct\")\n",
    "x_label = rea.set_xticklabels(rea.get_xticklabels(), rotation=30)\n",
    "\n",
    "df_arrests['reason'].value_counts()"
   ]
  },
  {
   "cell_type": "code",
   "execution_count": 24,
   "metadata": {},
   "outputs": [
    {
     "data": {
      "text/plain": [
       "Black              2567\n",
       "White               815\n",
       "Native American     400\n",
       "Other               156\n",
       "Latino              149\n",
       "East African        113\n",
       "Asian                44\n",
       "Name: race, dtype: int64"
      ]
     },
     "execution_count": 24,
     "metadata": {},
     "output_type": "execute_result"
    }
   ],
   "source": [
    "df_arrests['race'].value_counts()"
   ]
  },
  {
   "cell_type": "markdown",
   "metadata": {},
   "source": [
    "### Overall probability of a call ending in an arrest, given a specific race (example: probability of being arrested if the person involved is black):\n",
    "\n",
    "__P(arrested|Black)__ = P(Black|arrested) * P(arrested) / P(Black) = 0.07088027391208306 = __7.0880%__\n",
    "\n",
    "P(arrested) = 4244 / 121213 = 0.035012746157590355\n",
    "P(Black) = 36216 / 121213 = 0.2987798338462046\n",
    "P(Black|arrested) = 2567 / 4244 = 0.6048539114043355\n",
    "\n",
    "### For contrast, the probability of a call ending in an arrest, given that the person is White:\n",
    "\n",
    "__P(arrested|White)__ = P(White|arrested) * P(arrested) / P(White) = 0.030775621176648286 = 0.030775621176648286 = __3.0776%__\n",
    "\n",
    "P(White) = 26482 / 121213 = 0.2184749160568586\n",
    "P(White|arrested) = 815 / 4244 = 0.19203581526861452\n",
    "\n",
    "### Further contrast--East African: \n",
    "__P(arrested|East African)__ = P(East African|arrested) * P(arrested) / P(East African) = 0.021606118546845122 = __2.1606%__\n",
    "\n",
    "P(East African|arrested) = 113 / 4244 = 0.026625824693685202\n",
    "P(East African) = 5230 / 121213 = 0.04314718718289293"
   ]
  },
  {
   "cell_type": "markdown",
   "metadata": {},
   "source": [
    "### Overall probability police interaction, given a specific race category\n",
    "\n",
    "### Black:\n",
    "\n",
    "__P(interaction|Black)__ = P(Black|interaction) * P(interaction) / P(Black) = 0.8513916500994037 = __85.1392%__\n",
    "\n",
    "P(interaction) = 82725 / 121213 = 0.6824763020468102\n",
    "P(Black) = 36216 / 121213 = 0.2987798338462046\n",
    "P(Black|interaction) = 30834 / 82725 = 0.3727289211242067\n",
    "\n",
    "### White:\n",
    "\n",
    "__P(interaction|White)__ = P(White|interaction) * P(interaction) / P(White) = 0.864209651838985 = __86.4210%__\n",
    "\n",
    "P(White) = 26482 / 121213 = 0.2184749160568586\n",
    "P(White|interaction) = 22886 / 82725 = 0.2766515563614385\n",
    "\n",
    "### East African: \n",
    "__P(interaction|East African)__ = P(East African|interaction) * P(interaction) / P(East African) = 0.9061185468451244 = __90.6119%__\n",
    "\n",
    "\n",
    "P(East African|interaction) = 4739 / 82725 = 0.057286189181021456\n",
    "P(East African) = 5230 / 121213 = 0.04314718718289293"
   ]
  },
  {
   "cell_type": "markdown",
   "metadata": {},
   "source": [
    "## What to do?\n",
    "\n",
    "After looking at this data, one solution I thought the Minneapolis Police should consider is implicit bias training for its officers. [This PBS NewsHour segment](https://www.pbs.org/newshour/show/this-police-training-uncovers-the-implicit-bias-in-all-of-us) explores the concept of implicit bias (emphasis mine):\n",
    "\n",
    ">__Charlayne Hunter-Gault:__<br>\n",
    ">But that leads me to the definition. What is implicit bias?\n",
    "\n",
    ">__Lorie Fridell:__<br>\n",
    ">So, explicit bias would be like a racist. It's conscious. It's deliberate. The stereotypes that a person has is based on animus and hostility.<br><br>\n",
    ">_With implicit bias, we still have stereotypes about groups, but it's not conscious and deliberate. And, in fact, implicit biases can impact us outside of conscious awareness, and it impacts even on individuals who at the conscious level reject biases and stereotypes and prejudice._<br><br>\n",
    ">One of the critical aspects of this training is not just telling them about implicit biases, and so they recognize them, but they need to have tools to reduce and manage biases.\n",
    "\n",
    ">__Charlayne Hunter-Gault:__<br>\n",
    ">Like?\n",
    "\n",
    ">__Lorie Fridell:__<br>\n",
    ">If we recognize our implicit biases, and we're motivated, we can actually overcome our biases and implement bias-free behavior.\n",
    "\n",
    ">__Charlayne Hunter-Gault:__<br>\n",
    ">So the motivation has to come from these classes or these sessions?\n",
    "\n",
    ">__Lorie Fridell:__<br>\n",
    ">It does, but it also comes — again, most cops are well-meaning individuals.\n",
    "And so once they understand that their mind is playing tricks on them, and it might produce discriminatory behavior, a large number that say, I want to do better.\n",
    "\n",
    "After some additional research, I discovered that [Minneapolis has in fact been participating in a pilot program directly addressing implicit bias](https://trustandjustice.org/pilot-sites/info/minneapolis-minnesota) for the past three years--one of six sites in the nation to do so."
   ]
  },
  {
   "cell_type": "markdown",
   "metadata": {},
   "source": [
    "## Proposed Experiment\n",
    "\n",
    "In the PBS Newshour segment, Lorie Fridell indicates that the timeline for real change after the implementation of implicit bias training will be “generational” in scale. The Minneapolis pilot program has only been active for three years so far--2018 year-end accomplishments include establishing new base training guidelines for officers, and renewed and enlightened effort in community outreach.\n",
    "\n",
    "The open data analyzed here, and the MPD's [data dashboard](https://www.insidempd.com/datadashboard/) are a result of this pilot program. However, despite collecting this data, the primary measure for the success of the pilot program is surveys, conducted as in-person interviews, with people in Minneapolis neighborhoods experiencing higher crime rates.\n",
    "\n",
    "__The experiment I propose is to use the collected data to tell the story. I think this three-prong approach (implicit bias training; procedural justice training; community reconciliation) will ultimately be successful.__ \n",
    "\n",
    "An experiment that lasts for a generation is probably not going to be acceptable, but __we can measure results year over year, and see a gradual decline in 1) the number of reported incidents; 2) the severity of dispositions will drop (fewer arrests and citations issued); 3) the pronounced racial bias of the current data (Oct 2016 - May 2019) will also be reduced.__\n",
    "\n",
    "We currently have two full years' worth of data available, for 2017, and 2018, that we can use to demonstrate how to measure success for these three outcomes. We can also use these two \"early\" years in the experiment to establish a baseline, and see what kind of drops we may expect in total incidents, disposition severity, and racial bias as time passes.\n",
    "\n",
    "I feel safest working with full years, rather than a smaller unit of time like a quarter or a month, because the longer period helps alleviate issues comparing different times of the year, since [some types of crime are cyclical and seasonal](https://www.bjs.gov/index.cfm?ty=pbdetail&iid=5028)."
   ]
  },
  {
   "cell_type": "markdown",
   "metadata": {},
   "source": [
    "## 1. Decline in the number of reported incidents, 2017 to 2018\n",
    "\n",
    "Between 2017 and 2018, there was a drop in the number of calls falling under the categories I grouped together as \"interactions\" above, across all racial groups."
   ]
  },
  {
   "cell_type": "code",
   "execution_count": 25,
   "metadata": {
    "scrolled": true
   },
   "outputs": [],
   "source": [
    "# Timestamp format\n",
    "resp_timestamp = '%Y-%m-%dT%H:%M:%S.%fZ'\n",
    "\n",
    "# Extract 4-digit year + 2-digit month, so we can perform monthly breakdown\n",
    "df['response_year'] = df['responseDate'].apply(lambda x: \n",
    "                                               datetime.datetime.strptime(x, resp_timestamp).year)"
   ]
  },
  {
   "cell_type": "code",
   "execution_count": 26,
   "metadata": {},
   "outputs": [],
   "source": [
    "df_interactions_2017 = df.loc[(df['callDisposition'].isin(interactions)) & \\\n",
    "                                            (df['response_year'] == 2017)]\n",
    "df_interactions_2018 = df.loc[(df['callDisposition'].isin(interactions)) & \\\n",
    "                                            (df['response_year'] == 2018)]"
   ]
  },
  {
   "cell_type": "code",
   "execution_count": 27,
   "metadata": {},
   "outputs": [
    {
     "data": {
      "text/plain": [
       "race\n",
       "Asian                611\n",
       "Black              13321\n",
       "East African        2015\n",
       "Latino              1624\n",
       "Native American     1204\n",
       "Other               1133\n",
       "Unknown             1734\n",
       "White              10337\n",
       "dtype: int64"
      ]
     },
     "execution_count": 27,
     "metadata": {},
     "output_type": "execute_result"
    }
   ],
   "source": [
    "df_race_totals_2017 = df_interactions_2017.groupby(['race']).size()\n",
    "df_race_totals_2017"
   ]
  },
  {
   "cell_type": "code",
   "execution_count": 28,
   "metadata": {},
   "outputs": [
    {
     "data": {
      "text/plain": [
       "31979"
      ]
     },
     "execution_count": 28,
     "metadata": {},
     "output_type": "execute_result"
    }
   ],
   "source": [
    "df_race_totals_2017.sum()"
   ]
  },
  {
   "cell_type": "code",
   "execution_count": 29,
   "metadata": {},
   "outputs": [
    {
     "data": {
      "text/plain": [
       "race\n",
       "Asian                534\n",
       "Black              12479\n",
       "East African        1844\n",
       "Latino              1415\n",
       "Native American      803\n",
       "Other                867\n",
       "Unknown             1605\n",
       "White               8788\n",
       "dtype: int64"
      ]
     },
     "execution_count": 29,
     "metadata": {},
     "output_type": "execute_result"
    }
   ],
   "source": [
    "df_race_totals_2018 = df_interactions_2018.groupby(['race']).size()\n",
    "df_race_totals_2018"
   ]
  },
  {
   "cell_type": "code",
   "execution_count": 30,
   "metadata": {},
   "outputs": [
    {
     "data": {
      "text/plain": [
       "28335"
      ]
     },
     "execution_count": 30,
     "metadata": {},
     "output_type": "execute_result"
    }
   ],
   "source": [
    "df_race_totals_2018.sum()"
   ]
  },
  {
   "cell_type": "markdown",
   "metadata": {},
   "source": [
    "## 2. Drop in severity of dispositions, 2017 to 2018\n",
    "\n",
    "For this section, we are only looking at calls that ended with an arrest or a citation of some kind. If the implicit bias/procedural justice training is successful, we should see over time that calls end with fewer of these dispositions.\n",
    "\n",
    "If we use 2017 as a base (being the first full year of available data), we can measure subsequent years against it to determine whether or not the severity of call dispositions drops over time.\n",
    "\n",
    "Because this is all categorical data, we can use the chi-squared test instead of a t-test to determine how alike the sample distributions are. The combinations of problem and call disposition can be reshaped as a contingency table that we can use to calculate a chi-squared statistic and p-value."
   ]
  },
  {
   "cell_type": "code",
   "execution_count": 31,
   "metadata": {},
   "outputs": [],
   "source": [
    "disp_severe = sum([arrested,ticket_tow],[])"
   ]
  },
  {
   "cell_type": "markdown",
   "metadata": {},
   "source": [
    "# I think this work may not be correct. The contingency table function calculates expected values based on the totals of the single table we give it. We're only giving this function a single year at a time, so it's not comparing, say, 2017 to 2018, with 2017 as the \"expected\" values."
   ]
  },
  {
   "cell_type": "code",
   "execution_count": 113,
   "metadata": {},
   "outputs": [],
   "source": [
    "def severity_contingency(df):\n",
    "    df_pivot = pd.DataFrame\n",
    "    for in_race in df['race'].unique():\n",
    "        df_pivot = df.loc[(df['race'] == in_race)]\\\n",
    "                     .pivot(index='callDisposition',columns='problem',values='count')\n",
    "        # The chi2_contingency function doesn't like NaNs\n",
    "        df_pivot.fillna(value=0,inplace=True)\n",
    "        chi2_stat, p_value, dof, jarr = stats.chi2_contingency(df_pivot)\n",
    "        crit = stats.chi2.ppf(q = 0.95, # Find the critical value for 95% confidence*\n",
    "                              df = dof)\n",
    "        print(\"For {}:\\n Chi-squared statistic: {}\\n P-value: {}\\n Degrees of freedom: {}\\n Critical value: {}\\n\"\\\n",
    "              .format(in_race,chi2_stat,p_value,dof,crit)\n",
    "             )"
   ]
  },
  {
   "cell_type": "markdown",
   "metadata": {},
   "source": [
    "Let's take a quick look at how the relevant data looks for 2017: here we have grouped records by race, problem, and call disposition, to get an idea of which combinations of these three columns show up the most frequently."
   ]
  },
  {
   "cell_type": "code",
   "execution_count": 94,
   "metadata": {
    "scrolled": true
   },
   "outputs": [
    {
     "data": {
      "text/html": [
       "<div>\n",
       "<style scoped>\n",
       "    .dataframe tbody tr th:only-of-type {\n",
       "        vertical-align: middle;\n",
       "    }\n",
       "\n",
       "    .dataframe tbody tr th {\n",
       "        vertical-align: top;\n",
       "    }\n",
       "\n",
       "    .dataframe thead th {\n",
       "        text-align: right;\n",
       "    }\n",
       "</style>\n",
       "<table border=\"1\" class=\"dataframe\">\n",
       "  <thead>\n",
       "    <tr style=\"text-align: right;\">\n",
       "      <th></th>\n",
       "      <th>race</th>\n",
       "      <th>problem</th>\n",
       "      <th>callDisposition</th>\n",
       "      <th>count</th>\n",
       "    </tr>\n",
       "  </thead>\n",
       "  <tbody>\n",
       "    <tr>\n",
       "      <th>34</th>\n",
       "      <td>Black</td>\n",
       "      <td>Traffic Law Enforcement (P)</td>\n",
       "      <td>TAG-Tagged</td>\n",
       "      <td>2477</td>\n",
       "    </tr>\n",
       "    <tr>\n",
       "      <th>152</th>\n",
       "      <td>White</td>\n",
       "      <td>Traffic Law Enforcement (P)</td>\n",
       "      <td>TAG-Tagged</td>\n",
       "      <td>1656</td>\n",
       "    </tr>\n",
       "    <tr>\n",
       "      <th>31</th>\n",
       "      <td>Black</td>\n",
       "      <td>Traffic Law Enforcement (P)</td>\n",
       "      <td>BKG-Booking</td>\n",
       "      <td>611</td>\n",
       "    </tr>\n",
       "    <tr>\n",
       "      <th>19</th>\n",
       "      <td>Black</td>\n",
       "      <td>Suspicious Person (P)</td>\n",
       "      <td>BKG-Booking</td>\n",
       "      <td>535</td>\n",
       "    </tr>\n",
       "    <tr>\n",
       "      <th>72</th>\n",
       "      <td>Latino</td>\n",
       "      <td>Traffic Law Enforcement (P)</td>\n",
       "      <td>TAG-Tagged</td>\n",
       "      <td>345</td>\n",
       "    </tr>\n",
       "    <tr>\n",
       "      <th>25</th>\n",
       "      <td>Black</td>\n",
       "      <td>Suspicious Vehicle (P)</td>\n",
       "      <td>BKG-Booking</td>\n",
       "      <td>301</td>\n",
       "    </tr>\n",
       "    <tr>\n",
       "      <th>54</th>\n",
       "      <td>East African</td>\n",
       "      <td>Traffic Law Enforcement (P)</td>\n",
       "      <td>TAG-Tagged</td>\n",
       "      <td>281</td>\n",
       "    </tr>\n",
       "    <tr>\n",
       "      <th>129</th>\n",
       "      <td>Unknown</td>\n",
       "      <td>Traffic Law Enforcement (P)</td>\n",
       "      <td>TAG-Tagged</td>\n",
       "      <td>241</td>\n",
       "    </tr>\n",
       "    <tr>\n",
       "      <th>149</th>\n",
       "      <td>White</td>\n",
       "      <td>Traffic Law Enforcement (P)</td>\n",
       "      <td>BKG-Booking</td>\n",
       "      <td>225</td>\n",
       "    </tr>\n",
       "    <tr>\n",
       "      <th>22</th>\n",
       "      <td>Black</td>\n",
       "      <td>Suspicious Person (P)</td>\n",
       "      <td>TAG-Tagged</td>\n",
       "      <td>225</td>\n",
       "    </tr>\n",
       "    <tr>\n",
       "      <th>124</th>\n",
       "      <td>Unknown</td>\n",
       "      <td>Suspicious Vehicle (P)</td>\n",
       "      <td>TAG-Tagged</td>\n",
       "      <td>198</td>\n",
       "    </tr>\n",
       "    <tr>\n",
       "      <th>125</th>\n",
       "      <td>Unknown</td>\n",
       "      <td>Suspicious Vehicle (P)</td>\n",
       "      <td>TOW-Towed</td>\n",
       "      <td>187</td>\n",
       "    </tr>\n",
       "    <tr>\n",
       "      <th>138</th>\n",
       "      <td>White</td>\n",
       "      <td>Suspicious Person (P)</td>\n",
       "      <td>BKG-Booking</td>\n",
       "      <td>183</td>\n",
       "    </tr>\n",
       "    <tr>\n",
       "      <th>79</th>\n",
       "      <td>Native American</td>\n",
       "      <td>Suspicious Person (P)</td>\n",
       "      <td>BKG-Booking</td>\n",
       "      <td>169</td>\n",
       "    </tr>\n",
       "    <tr>\n",
       "      <th>28</th>\n",
       "      <td>Black</td>\n",
       "      <td>Suspicious Vehicle (P)</td>\n",
       "      <td>TAG-Tagged</td>\n",
       "      <td>158</td>\n",
       "    </tr>\n",
       "    <tr>\n",
       "      <th>109</th>\n",
       "      <td>Other</td>\n",
       "      <td>Traffic Law Enforcement (P)</td>\n",
       "      <td>TAG-Tagged</td>\n",
       "      <td>154</td>\n",
       "    </tr>\n",
       "    <tr>\n",
       "      <th>13</th>\n",
       "      <td>Black</td>\n",
       "      <td>Attempt Pick-Up (P)</td>\n",
       "      <td>BKG-Booking</td>\n",
       "      <td>121</td>\n",
       "    </tr>\n",
       "    <tr>\n",
       "      <th>11</th>\n",
       "      <td>Asian</td>\n",
       "      <td>Traffic Law Enforcement (P)</td>\n",
       "      <td>TAG-Tagged</td>\n",
       "      <td>108</td>\n",
       "    </tr>\n",
       "    <tr>\n",
       "      <th>143</th>\n",
       "      <td>White</td>\n",
       "      <td>Suspicious Vehicle (P)</td>\n",
       "      <td>BKG-Booking</td>\n",
       "      <td>96</td>\n",
       "    </tr>\n",
       "    <tr>\n",
       "      <th>141</th>\n",
       "      <td>White</td>\n",
       "      <td>Suspicious Person (P)</td>\n",
       "      <td>TAG-Tagged</td>\n",
       "      <td>95</td>\n",
       "    </tr>\n",
       "    <tr>\n",
       "      <th>91</th>\n",
       "      <td>Native American</td>\n",
       "      <td>Traffic Law Enforcement (P)</td>\n",
       "      <td>TAG-Tagged</td>\n",
       "      <td>72</td>\n",
       "    </tr>\n",
       "    <tr>\n",
       "      <th>84</th>\n",
       "      <td>Native American</td>\n",
       "      <td>Suspicious Vehicle (P)</td>\n",
       "      <td>BKG-Booking</td>\n",
       "      <td>61</td>\n",
       "    </tr>\n",
       "    <tr>\n",
       "      <th>146</th>\n",
       "      <td>White</td>\n",
       "      <td>Suspicious Vehicle (P)</td>\n",
       "      <td>TAG-Tagged</td>\n",
       "      <td>60</td>\n",
       "    </tr>\n",
       "    <tr>\n",
       "      <th>89</th>\n",
       "      <td>Native American</td>\n",
       "      <td>Traffic Law Enforcement (P)</td>\n",
       "      <td>BKG-Booking</td>\n",
       "      <td>58</td>\n",
       "    </tr>\n",
       "    <tr>\n",
       "      <th>132</th>\n",
       "      <td>White</td>\n",
       "      <td>Attempt Pick-Up (P)</td>\n",
       "      <td>BKG-Booking</td>\n",
       "      <td>58</td>\n",
       "    </tr>\n",
       "    <tr>\n",
       "      <th>70</th>\n",
       "      <td>Latino</td>\n",
       "      <td>Traffic Law Enforcement (P)</td>\n",
       "      <td>BKG-Booking</td>\n",
       "      <td>55</td>\n",
       "    </tr>\n",
       "    <tr>\n",
       "      <th>82</th>\n",
       "      <td>Native American</td>\n",
       "      <td>Suspicious Person (P)</td>\n",
       "      <td>TAG-Tagged</td>\n",
       "      <td>49</td>\n",
       "    </tr>\n",
       "    <tr>\n",
       "      <th>107</th>\n",
       "      <td>Other</td>\n",
       "      <td>Traffic Law Enforcement (P)</td>\n",
       "      <td>BKG-Booking</td>\n",
       "      <td>32</td>\n",
       "    </tr>\n",
       "    <tr>\n",
       "      <th>76</th>\n",
       "      <td>Native American</td>\n",
       "      <td>Attempt Pick-Up (P)</td>\n",
       "      <td>BKG-Booking</td>\n",
       "      <td>31</td>\n",
       "    </tr>\n",
       "    <tr>\n",
       "      <th>35</th>\n",
       "      <td>Black</td>\n",
       "      <td>Traffic Law Enforcement (P)</td>\n",
       "      <td>TOW-Towed</td>\n",
       "      <td>29</td>\n",
       "    </tr>\n",
       "    <tr>\n",
       "      <th>...</th>\n",
       "      <td>...</td>\n",
       "      <td>...</td>\n",
       "      <td>...</td>\n",
       "      <td>...</td>\n",
       "    </tr>\n",
       "    <tr>\n",
       "      <th>2</th>\n",
       "      <td>Asian</td>\n",
       "      <td>Suspicious Person (P)</td>\n",
       "      <td>BKG-Booking</td>\n",
       "      <td>11</td>\n",
       "    </tr>\n",
       "    <tr>\n",
       "      <th>147</th>\n",
       "      <td>White</td>\n",
       "      <td>Suspicious Vehicle (P)</td>\n",
       "      <td>TOW-Towed</td>\n",
       "      <td>9</td>\n",
       "    </tr>\n",
       "    <tr>\n",
       "      <th>121</th>\n",
       "      <td>Unknown</td>\n",
       "      <td>Suspicious Vehicle (P)</td>\n",
       "      <td>BKG-Booking</td>\n",
       "      <td>9</td>\n",
       "    </tr>\n",
       "    <tr>\n",
       "      <th>100</th>\n",
       "      <td>Other</td>\n",
       "      <td>Suspicious Person (P)</td>\n",
       "      <td>TAG-Tagged</td>\n",
       "      <td>8</td>\n",
       "    </tr>\n",
       "    <tr>\n",
       "      <th>57</th>\n",
       "      <td>Latino</td>\n",
       "      <td>Attempt Pick-Up (P)</td>\n",
       "      <td>BKG-Booking</td>\n",
       "      <td>8</td>\n",
       "    </tr>\n",
       "    <tr>\n",
       "      <th>86</th>\n",
       "      <td>Native American</td>\n",
       "      <td>Suspicious Vehicle (P)</td>\n",
       "      <td>TAG-Tagged</td>\n",
       "      <td>7</td>\n",
       "    </tr>\n",
       "    <tr>\n",
       "      <th>6</th>\n",
       "      <td>Asian</td>\n",
       "      <td>Suspicious Vehicle (P)</td>\n",
       "      <td>BKG-Booking</td>\n",
       "      <td>7</td>\n",
       "    </tr>\n",
       "    <tr>\n",
       "      <th>130</th>\n",
       "      <td>Unknown</td>\n",
       "      <td>Traffic Law Enforcement (P)</td>\n",
       "      <td>TOW-Towed</td>\n",
       "      <td>6</td>\n",
       "    </tr>\n",
       "    <tr>\n",
       "      <th>153</th>\n",
       "      <td>White</td>\n",
       "      <td>Traffic Law Enforcement (P)</td>\n",
       "      <td>TOW-Towed</td>\n",
       "      <td>6</td>\n",
       "    </tr>\n",
       "    <tr>\n",
       "      <th>87</th>\n",
       "      <td>Native American</td>\n",
       "      <td>Suspicious Vehicle (P)</td>\n",
       "      <td>TOW-Towed</td>\n",
       "      <td>6</td>\n",
       "    </tr>\n",
       "    <tr>\n",
       "      <th>4</th>\n",
       "      <td>Asian</td>\n",
       "      <td>Suspicious Person (P)</td>\n",
       "      <td>TAG-Tagged</td>\n",
       "      <td>5</td>\n",
       "    </tr>\n",
       "    <tr>\n",
       "      <th>38</th>\n",
       "      <td>East African</td>\n",
       "      <td>Attempt Pick-Up (P)</td>\n",
       "      <td>BKG-Booking</td>\n",
       "      <td>5</td>\n",
       "    </tr>\n",
       "    <tr>\n",
       "      <th>55</th>\n",
       "      <td>East African</td>\n",
       "      <td>Traffic Law Enforcement (P)</td>\n",
       "      <td>TOW-Towed</td>\n",
       "      <td>4</td>\n",
       "    </tr>\n",
       "    <tr>\n",
       "      <th>113</th>\n",
       "      <td>Unknown</td>\n",
       "      <td>Attempt Pick-Up (P)</td>\n",
       "      <td>BKG-Booking</td>\n",
       "      <td>4</td>\n",
       "    </tr>\n",
       "    <tr>\n",
       "      <th>68</th>\n",
       "      <td>Latino</td>\n",
       "      <td>Suspicious Vehicle (P)</td>\n",
       "      <td>TOW-Towed</td>\n",
       "      <td>3</td>\n",
       "    </tr>\n",
       "    <tr>\n",
       "      <th>8</th>\n",
       "      <td>Asian</td>\n",
       "      <td>Suspicious Vehicle (P)</td>\n",
       "      <td>TAG-Tagged</td>\n",
       "      <td>3</td>\n",
       "    </tr>\n",
       "    <tr>\n",
       "      <th>23</th>\n",
       "      <td>Black</td>\n",
       "      <td>Suspicious Person (P)</td>\n",
       "      <td>TOW-Towed</td>\n",
       "      <td>3</td>\n",
       "    </tr>\n",
       "    <tr>\n",
       "      <th>0</th>\n",
       "      <td>Asian</td>\n",
       "      <td>Attempt Pick-Up (P)</td>\n",
       "      <td>BKG-Booking</td>\n",
       "      <td>3</td>\n",
       "    </tr>\n",
       "    <tr>\n",
       "      <th>118</th>\n",
       "      <td>Unknown</td>\n",
       "      <td>Suspicious Person (P)</td>\n",
       "      <td>TAG-Tagged</td>\n",
       "      <td>3</td>\n",
       "    </tr>\n",
       "    <tr>\n",
       "      <th>73</th>\n",
       "      <td>Latino</td>\n",
       "      <td>Traffic Law Enforcement (P)</td>\n",
       "      <td>TOW-Towed</td>\n",
       "      <td>2</td>\n",
       "    </tr>\n",
       "    <tr>\n",
       "      <th>110</th>\n",
       "      <td>Other</td>\n",
       "      <td>Traffic Law Enforcement (P)</td>\n",
       "      <td>TOW-Towed</td>\n",
       "      <td>2</td>\n",
       "    </tr>\n",
       "    <tr>\n",
       "      <th>92</th>\n",
       "      <td>Native American</td>\n",
       "      <td>Traffic Law Enforcement (P)</td>\n",
       "      <td>TOW-Towed</td>\n",
       "      <td>1</td>\n",
       "    </tr>\n",
       "    <tr>\n",
       "      <th>134</th>\n",
       "      <td>White</td>\n",
       "      <td>Attempt Pick-Up (P)</td>\n",
       "      <td>TAG-Tagged</td>\n",
       "      <td>1</td>\n",
       "    </tr>\n",
       "    <tr>\n",
       "      <th>136</th>\n",
       "      <td>White</td>\n",
       "      <td>Curfew Violations (P)</td>\n",
       "      <td>TAG-Tagged</td>\n",
       "      <td>1</td>\n",
       "    </tr>\n",
       "    <tr>\n",
       "      <th>49</th>\n",
       "      <td>East African</td>\n",
       "      <td>Suspicious Vehicle (P)</td>\n",
       "      <td>TOW-Towed</td>\n",
       "      <td>1</td>\n",
       "    </tr>\n",
       "    <tr>\n",
       "      <th>39</th>\n",
       "      <td>East African</td>\n",
       "      <td>Curfew Violations (P)</td>\n",
       "      <td>TAG-Tagged</td>\n",
       "      <td>1</td>\n",
       "    </tr>\n",
       "    <tr>\n",
       "      <th>96</th>\n",
       "      <td>Other</td>\n",
       "      <td>Curfew Violations (P)</td>\n",
       "      <td>TAG-Tagged</td>\n",
       "      <td>1</td>\n",
       "    </tr>\n",
       "    <tr>\n",
       "      <th>15</th>\n",
       "      <td>Black</td>\n",
       "      <td>Curfew Violations (P)</td>\n",
       "      <td>BKG-Booking</td>\n",
       "      <td>1</td>\n",
       "    </tr>\n",
       "    <tr>\n",
       "      <th>119</th>\n",
       "      <td>Unknown</td>\n",
       "      <td>Suspicious Person (P)</td>\n",
       "      <td>TOW-Towed</td>\n",
       "      <td>1</td>\n",
       "    </tr>\n",
       "    <tr>\n",
       "      <th>114</th>\n",
       "      <td>Unknown</td>\n",
       "      <td>Attempt Pick-Up (P)</td>\n",
       "      <td>TOW-Towed</td>\n",
       "      <td>1</td>\n",
       "    </tr>\n",
       "  </tbody>\n",
       "</table>\n",
       "<p>79 rows × 4 columns</p>\n",
       "</div>"
      ],
      "text/plain": [
       "                race                      problem callDisposition  count\n",
       "34             Black  Traffic Law Enforcement (P)      TAG-Tagged   2477\n",
       "152            White  Traffic Law Enforcement (P)      TAG-Tagged   1656\n",
       "31             Black  Traffic Law Enforcement (P)     BKG-Booking    611\n",
       "19             Black        Suspicious Person (P)     BKG-Booking    535\n",
       "72            Latino  Traffic Law Enforcement (P)      TAG-Tagged    345\n",
       "25             Black       Suspicious Vehicle (P)     BKG-Booking    301\n",
       "54      East African  Traffic Law Enforcement (P)      TAG-Tagged    281\n",
       "129          Unknown  Traffic Law Enforcement (P)      TAG-Tagged    241\n",
       "149            White  Traffic Law Enforcement (P)     BKG-Booking    225\n",
       "22             Black        Suspicious Person (P)      TAG-Tagged    225\n",
       "124          Unknown       Suspicious Vehicle (P)      TAG-Tagged    198\n",
       "125          Unknown       Suspicious Vehicle (P)       TOW-Towed    187\n",
       "138            White        Suspicious Person (P)     BKG-Booking    183\n",
       "79   Native American        Suspicious Person (P)     BKG-Booking    169\n",
       "28             Black       Suspicious Vehicle (P)      TAG-Tagged    158\n",
       "109            Other  Traffic Law Enforcement (P)      TAG-Tagged    154\n",
       "13             Black          Attempt Pick-Up (P)     BKG-Booking    121\n",
       "11             Asian  Traffic Law Enforcement (P)      TAG-Tagged    108\n",
       "143            White       Suspicious Vehicle (P)     BKG-Booking     96\n",
       "141            White        Suspicious Person (P)      TAG-Tagged     95\n",
       "91   Native American  Traffic Law Enforcement (P)      TAG-Tagged     72\n",
       "84   Native American       Suspicious Vehicle (P)     BKG-Booking     61\n",
       "146            White       Suspicious Vehicle (P)      TAG-Tagged     60\n",
       "89   Native American  Traffic Law Enforcement (P)     BKG-Booking     58\n",
       "132            White          Attempt Pick-Up (P)     BKG-Booking     58\n",
       "70            Latino  Traffic Law Enforcement (P)     BKG-Booking     55\n",
       "82   Native American        Suspicious Person (P)      TAG-Tagged     49\n",
       "107            Other  Traffic Law Enforcement (P)     BKG-Booking     32\n",
       "76   Native American          Attempt Pick-Up (P)     BKG-Booking     31\n",
       "35             Black  Traffic Law Enforcement (P)       TOW-Towed     29\n",
       "..               ...                          ...             ...    ...\n",
       "2              Asian        Suspicious Person (P)     BKG-Booking     11\n",
       "147            White       Suspicious Vehicle (P)       TOW-Towed      9\n",
       "121          Unknown       Suspicious Vehicle (P)     BKG-Booking      9\n",
       "100            Other        Suspicious Person (P)      TAG-Tagged      8\n",
       "57            Latino          Attempt Pick-Up (P)     BKG-Booking      8\n",
       "86   Native American       Suspicious Vehicle (P)      TAG-Tagged      7\n",
       "6              Asian       Suspicious Vehicle (P)     BKG-Booking      7\n",
       "130          Unknown  Traffic Law Enforcement (P)       TOW-Towed      6\n",
       "153            White  Traffic Law Enforcement (P)       TOW-Towed      6\n",
       "87   Native American       Suspicious Vehicle (P)       TOW-Towed      6\n",
       "4              Asian        Suspicious Person (P)      TAG-Tagged      5\n",
       "38      East African          Attempt Pick-Up (P)     BKG-Booking      5\n",
       "55      East African  Traffic Law Enforcement (P)       TOW-Towed      4\n",
       "113          Unknown          Attempt Pick-Up (P)     BKG-Booking      4\n",
       "68            Latino       Suspicious Vehicle (P)       TOW-Towed      3\n",
       "8              Asian       Suspicious Vehicle (P)      TAG-Tagged      3\n",
       "23             Black        Suspicious Person (P)       TOW-Towed      3\n",
       "0              Asian          Attempt Pick-Up (P)     BKG-Booking      3\n",
       "118          Unknown        Suspicious Person (P)      TAG-Tagged      3\n",
       "73            Latino  Traffic Law Enforcement (P)       TOW-Towed      2\n",
       "110            Other  Traffic Law Enforcement (P)       TOW-Towed      2\n",
       "92   Native American  Traffic Law Enforcement (P)       TOW-Towed      1\n",
       "134            White          Attempt Pick-Up (P)      TAG-Tagged      1\n",
       "136            White        Curfew Violations (P)      TAG-Tagged      1\n",
       "49      East African       Suspicious Vehicle (P)       TOW-Towed      1\n",
       "39      East African        Curfew Violations (P)      TAG-Tagged      1\n",
       "96             Other        Curfew Violations (P)      TAG-Tagged      1\n",
       "15             Black        Curfew Violations (P)     BKG-Booking      1\n",
       "119          Unknown        Suspicious Person (P)       TOW-Towed      1\n",
       "114          Unknown          Attempt Pick-Up (P)       TOW-Towed      1\n",
       "\n",
       "[79 rows x 4 columns]"
      ]
     },
     "execution_count": 94,
     "metadata": {},
     "output_type": "execute_result"
    }
   ],
   "source": [
    "df_race_problem_disp_2017 = df_interactions_2017.groupby(['race','problem','callDisposition'])\\\n",
    "                                                .size().reset_index(name='count')\n",
    "df_race_problem_disp_2017.loc[df_race_problem_disp_2017['callDisposition'].isin(disp_severe)]\\\n",
    "                         .sort_values(by='count',ascending=False)"
   ]
  },
  {
   "cell_type": "markdown",
   "metadata": {},
   "source": [
    "Here's an example of a contingency table, for just Black people, for 2017:"
   ]
  },
  {
   "cell_type": "code",
   "execution_count": 116,
   "metadata": {},
   "outputs": [
    {
     "data": {
      "text/html": [
       "<div>\n",
       "<style scoped>\n",
       "    .dataframe tbody tr th:only-of-type {\n",
       "        vertical-align: middle;\n",
       "    }\n",
       "\n",
       "    .dataframe tbody tr th {\n",
       "        vertical-align: top;\n",
       "    }\n",
       "\n",
       "    .dataframe thead th {\n",
       "        text-align: right;\n",
       "    }\n",
       "</style>\n",
       "<table border=\"1\" class=\"dataframe\">\n",
       "  <thead>\n",
       "    <tr style=\"text-align: right;\">\n",
       "      <th>problem</th>\n",
       "      <th>Attempt Pick-Up (P)</th>\n",
       "      <th>Curfew Violations (P)</th>\n",
       "      <th>Suspicious Person (P)</th>\n",
       "      <th>Suspicious Vehicle (P)</th>\n",
       "      <th>Traffic Law Enforcement (P)</th>\n",
       "    </tr>\n",
       "    <tr>\n",
       "      <th>callDisposition</th>\n",
       "      <th></th>\n",
       "      <th></th>\n",
       "      <th></th>\n",
       "      <th></th>\n",
       "      <th></th>\n",
       "    </tr>\n",
       "  </thead>\n",
       "  <tbody>\n",
       "    <tr>\n",
       "      <th>BKG-Booking</th>\n",
       "      <td>121.0</td>\n",
       "      <td>1.0</td>\n",
       "      <td>535.0</td>\n",
       "      <td>301.0</td>\n",
       "      <td>611.0</td>\n",
       "    </tr>\n",
       "    <tr>\n",
       "      <th>TAG-Tagged</th>\n",
       "      <td>0.0</td>\n",
       "      <td>14.0</td>\n",
       "      <td>225.0</td>\n",
       "      <td>158.0</td>\n",
       "      <td>2477.0</td>\n",
       "    </tr>\n",
       "    <tr>\n",
       "      <th>TOW-Towed</th>\n",
       "      <td>0.0</td>\n",
       "      <td>0.0</td>\n",
       "      <td>3.0</td>\n",
       "      <td>26.0</td>\n",
       "      <td>29.0</td>\n",
       "    </tr>\n",
       "  </tbody>\n",
       "</table>\n",
       "</div>"
      ],
      "text/plain": [
       "problem          Attempt Pick-Up (P)  Curfew Violations (P)  \\\n",
       "callDisposition                                               \n",
       "BKG-Booking                    121.0                    1.0   \n",
       "TAG-Tagged                       0.0                   14.0   \n",
       "TOW-Towed                        0.0                    0.0   \n",
       "\n",
       "problem          Suspicious Person (P)  Suspicious Vehicle (P)  \\\n",
       "callDisposition                                                  \n",
       "BKG-Booking                      535.0                   301.0   \n",
       "TAG-Tagged                       225.0                   158.0   \n",
       "TOW-Towed                          3.0                    26.0   \n",
       "\n",
       "problem          Traffic Law Enforcement (P)  \n",
       "callDisposition                               \n",
       "BKG-Booking                            611.0  \n",
       "TAG-Tagged                            2477.0  \n",
       "TOW-Towed                               29.0  "
      ]
     },
     "execution_count": 116,
     "metadata": {},
     "output_type": "execute_result"
    }
   ],
   "source": [
    "df_pivot_2017 = df_race_problem_disp_2017.loc[(df_race_problem_disp_2017['race'] == 'Black') &\n",
    "                                              (df_race_problem_disp_2017['callDisposition'].isin(disp_severe))]\\\n",
    "                                         .pivot(index='callDisposition',columns='problem',values='count')\n",
    "df_pivot_2017.fillna(value=0,inplace=True)\n",
    "df_pivot_2017"
   ]
  },
  {
   "cell_type": "markdown",
   "metadata": {},
   "source": [
    "And here are the chi-squared stats generated for 2017 calls that ended in a \"severe\" disposition (a booking/arrest, or a citation/ticket, or a vehicle tow):"
   ]
  },
  {
   "cell_type": "code",
   "execution_count": 115,
   "metadata": {
    "scrolled": true
   },
   "outputs": [
    {
     "name": "stdout",
     "output_type": "stream",
     "text": [
      "For Asian:\n",
      " Chi-squared statistic: 43.658296624352666\n",
      " P-value: 1.783697295994587e-09\n",
      " Degrees of freedom: 3\n",
      " Critical value: 7.814727903251179\n",
      "\n",
      "For Black:\n",
      " Chi-squared statistic: 1219.6691802646403\n",
      " P-value: 5.39294192554306e-258\n",
      " Degrees of freedom: 8\n",
      " Critical value: 15.50731305586545\n",
      "\n",
      "For East African:\n",
      " Chi-squared statistic: 115.52926352765787\n",
      " P-value: 2.7715159597798744e-21\n",
      " Degrees of freedom: 8\n",
      " Critical value: 15.50731305586545\n",
      "\n",
      "For Latino:\n",
      " Chi-squared statistic: 133.01240593883378\n",
      " P-value: 2.9817806666301425e-26\n",
      " Degrees of freedom: 6\n",
      " Critical value: 12.591587243743977\n",
      "\n",
      "For Native American:\n",
      " Chi-squared statistic: 98.50721296203625\n",
      " P-value: 5.139334673592015e-19\n",
      " Degrees of freedom: 6\n",
      " Critical value: 12.591587243743977\n",
      "\n",
      "For Other:\n",
      " Chi-squared statistic: 151.8483792782999\n",
      " P-value: 8.068688850752811e-29\n",
      " Degrees of freedom: 8\n",
      " Critical value: 15.50731305586545\n",
      "\n",
      "For Unknown:\n",
      " Chi-squared statistic: 413.47333220297446\n",
      " P-value: 3.543342129786797e-86\n",
      " Degrees of freedom: 6\n",
      " Critical value: 12.591587243743977\n",
      "\n",
      "For White:\n",
      " Chi-squared statistic: 786.3412987156211\n",
      " P-value: 1.8074510124732568e-164\n",
      " Degrees of freedom: 8\n",
      " Critical value: 15.50731305586545\n",
      "\n"
     ]
    }
   ],
   "source": [
    "severity_contingency(df_race_problem_disp_2017.loc[df_race_problem_disp_2017['callDisposition'].isin(disp_severe)])"
   ]
  },
  {
   "cell_type": "markdown",
   "metadata": {},
   "source": [
    "The comparable 2018 stats look like this:"
   ]
  },
  {
   "cell_type": "code",
   "execution_count": 114,
   "metadata": {
    "scrolled": true
   },
   "outputs": [
    {
     "name": "stdout",
     "output_type": "stream",
     "text": [
      "For Asian:\n",
      " Chi-squared statistic: 47.48440675188462\n",
      " P-value: 2.7414534057243023e-10\n",
      " Degrees of freedom: 3\n",
      " Critical value: 7.814727903251179\n",
      "\n",
      "For Black:\n",
      " Chi-squared statistic: 1069.6689539718316\n",
      " P-value: 1.359199380321892e-225\n",
      " Degrees of freedom: 8\n",
      " Critical value: 15.50731305586545\n",
      "\n",
      "For East African:\n",
      " Chi-squared statistic: 71.48081116973326\n",
      " P-value: 2.0310405061079938e-13\n",
      " Degrees of freedom: 6\n",
      " Critical value: 12.591587243743977\n",
      "\n",
      "For Latino:\n",
      " Chi-squared statistic: 113.53928830059752\n",
      " P-value: 7.12195713069541e-21\n",
      " Degrees of freedom: 8\n",
      " Critical value: 15.50731305586545\n",
      "\n",
      "For Native American:\n",
      " Chi-squared statistic: 35.53483394390339\n",
      " P-value: 2.1359192136036597e-05\n",
      " Degrees of freedom: 8\n",
      " Critical value: 15.50731305586545\n",
      "\n",
      "For Other:\n",
      " Chi-squared statistic: 121.42265377734967\n",
      " P-value: 8.188786362164827e-24\n",
      " Degrees of freedom: 6\n",
      " Critical value: 12.591587243743977\n",
      "\n",
      "For Unknown:\n",
      " Chi-squared statistic: 206.95559777395846\n",
      " P-value: 6.26932467755531e-42\n",
      " Degrees of freedom: 6\n",
      " Critical value: 12.591587243743977\n",
      "\n",
      "For White:\n",
      " Chi-squared statistic: 831.3091488532827\n",
      " P-value: 3.670258711179491e-174\n",
      " Degrees of freedom: 8\n",
      " Critical value: 15.50731305586545\n",
      "\n"
     ]
    }
   ],
   "source": [
    "df_race_problem_disp_2018 = df_interactions_2018.groupby(['race','problem','callDisposition'])\\\n",
    "                                                .size().reset_index(name='count')\n",
    "severity_contingency(df_race_problem_disp_2018.loc[df_race_problem_disp_2018['callDisposition'].isin(disp_severe)])"
   ]
  },
  {
   "cell_type": "markdown",
   "metadata": {},
   "source": [
    "## 3. Reduction in racial bias, 2017 to 2018\n",
    "\n",
    "This is a comparison of overall percentages of calls by race, where race is known. Between 2017 and 2018, there were small declines for every race except Black--so there is still work to be done here."
   ]
  },
  {
   "cell_type": "code",
   "execution_count": 40,
   "metadata": {},
   "outputs": [
    {
     "data": {
      "text/plain": [
       "Black              0.442830\n",
       "White              0.337493\n",
       "East African       0.062400\n",
       "Latino             0.053538\n",
       "Native American    0.044984\n",
       "Other              0.039880\n",
       "Asian              0.018874\n",
       "Name: race, dtype: float64"
      ]
     },
     "execution_count": 40,
     "metadata": {},
     "output_type": "execute_result"
    }
   ],
   "source": [
    "df_2017 = df.loc[(df['response_year'] == 2017) & (df['race'] != 'Unknown')]\n",
    "df_2018 = df.loc[(df['response_year'] == 2018) & (df['race'] != 'Unknown')]\n",
    "\n",
    "df_2017['race'].value_counts(normalize=True)"
   ]
  },
  {
   "cell_type": "code",
   "execution_count": 41,
   "metadata": {},
   "outputs": [
    {
     "data": {
      "text/plain": [
       "Black              0.470263\n",
       "White              0.324391\n",
       "East African       0.065425\n",
       "Latino             0.053073\n",
       "Other              0.034449\n",
       "Native American    0.033645\n",
       "Asian              0.018753\n",
       "Name: race, dtype: float64"
      ]
     },
     "execution_count": 41,
     "metadata": {},
     "output_type": "execute_result"
    }
   ],
   "source": [
    "df_2018['race'].value_counts(normalize=True)"
   ]
  },
  {
   "cell_type": "markdown",
   "metadata": {},
   "source": [
    "We can compare the totals to the city's total population--less biased policing practices will show a closer match to the city's actual demographics, while more bias can be seen when a race is involved in police calls disproportionate to their representation in the total municipal population."
   ]
  },
  {
   "cell_type": "code",
   "execution_count": 117,
   "metadata": {},
   "outputs": [
    {
     "name": "stdout",
     "output_type": "stream",
     "text": [
      "\n",
      "Population\n",
      " Asian               25524.0\n",
      "Black               80401.0\n",
      "East African        50000.0\n",
      "Latino              41689.0\n",
      "Native American      5105.0\n",
      "Other               20845.0\n",
      "White              254816.0\n",
      "Name: count, dtype: float64\n",
      "\n",
      "Observed counts\n",
      " Asian                673\n",
      "Black              15790\n",
      "East African        2225\n",
      "Latino              1909\n",
      "Native American     1604\n",
      "Other               1422\n",
      "White              12034\n",
      "Name: race, dtype: int64\n",
      "\n",
      "Expected counts\n",
      " Asian               2670.660000\n",
      "Black               8412.579000\n",
      "East African        5231.627422\n",
      "Latino              4362.078000\n",
      "Native American      534.132000\n",
      "Other               2181.039000\n",
      "White              26662.089000\n",
      "Name: percentage, dtype: float64\n",
      "\n",
      "Chi^2 stat:\n",
      " 21504.103820566794\n",
      "Critical value\n",
      "12.591587243743977\n",
      "P value\n",
      "1.0\n"
     ]
    }
   ],
   "source": [
    "chi2_racial_bias(df_population, df_2017['race'])"
   ]
  },
  {
   "cell_type": "code",
   "execution_count": 44,
   "metadata": {},
   "outputs": [
    {
     "name": "stdout",
     "output_type": "stream",
     "text": [
      "\n",
      "Population\n",
      " Asian               25524.0\n",
      "Black               80401.0\n",
      "East African        50000.0\n",
      "Latino              41689.0\n",
      "Native American      5105.0\n",
      "Other               20845.0\n",
      "White              254816.0\n",
      "Name: count, dtype: float64\n",
      "\n",
      "Observed counts\n",
      " Asian                583\n",
      "Black              14620\n",
      "East African        2034\n",
      "Latino              1650\n",
      "Native American     1046\n",
      "Other               1071\n",
      "White              10085\n",
      "Name: race, dtype: int64\n",
      "\n",
      "Expected counts\n",
      " Asian               2334.360000\n",
      "Black               7353.234000\n",
      "East African        4572.840342\n",
      "Latino              3812.788000\n",
      "Native American      466.872000\n",
      "Other               1906.394000\n",
      "White              23304.694000\n",
      "Name: percentage, dtype: float64\n",
      "\n",
      "Chi^2 stat:\n",
      " 19715.055534650885\n",
      "Critical value\n",
      "12.591587243743977\n",
      "P value\n",
      "1.0\n"
     ]
    }
   ],
   "source": [
    "chi2_racial_bias(df_population, df_2018['race'])"
   ]
  }
 ],
 "metadata": {
  "kernelspec": {
   "display_name": "Python 3",
   "language": "python",
   "name": "python3"
  },
  "language_info": {
   "codemirror_mode": {
    "name": "ipython",
    "version": 3
   },
   "file_extension": ".py",
   "mimetype": "text/x-python",
   "name": "python",
   "nbconvert_exporter": "python",
   "pygments_lexer": "ipython3",
   "version": "3.6.7"
  }
 },
 "nbformat": 4,
 "nbformat_minor": 2
}
