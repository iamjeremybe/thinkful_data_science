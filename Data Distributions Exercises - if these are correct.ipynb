{
 "cells": [
  {
   "cell_type": "code",
   "execution_count": 1,
   "metadata": {},
   "outputs": [],
   "source": [
    "import numpy as np\n",
    "import pandas as pd\n",
    "import matplotlib.pyplot as plt\n",
    "%matplotlib inline"
   ]
  },
  {
   "cell_type": "markdown",
   "metadata": {},
   "source": [
    "## Distribution 1: Normal"
   ]
  },
  {
   "cell_type": "code",
   "execution_count": 145,
   "metadata": {},
   "outputs": [
    {
     "name": "stdout",
     "output_type": "stream",
     "text": [
      "The mean is 1288.1578191900642; the standard deviation is 616.0200562332072\n"
     ]
    },
    {
     "data": {
      "image/png": "[encoded data removed]",
      "text/plain": [
       "<Figure size 432x288 with 1 Axes>"
      ]
     },
     "metadata": {
      "needs_background": "light"
     },
     "output_type": "display_data"
    }
   ],
   "source": [
    "# 1. Generate a variable.\n",
    "# Inputs are defined as \"loc\" and \"scale\"--they represent mean and standard deviation.\n",
    "normal_distribution = np.random.normal(1205,615,size=100)\n",
    "\n",
    "# 2. Graph the variable using a histogram.\n",
    "df = pd.DataFrame(normal_distribution)\n",
    "df.hist()\n",
    "\n",
    "# 3. Compute the mean and the standard deviation, and plot them as vertical lines on the histogram.\n",
    "#    Borrowing generously from the examples in the text...\n",
    "normal_mean = normal_distribution.mean()\n",
    "normal_std_dev = normal_distribution.std()\n",
    "print(\"The mean is {}; the standard deviation is {}\".format(normal_mean,normal_std_dev))\n",
    "\n",
    "# Add a vertical line at the mean.\n",
    "plt.axvline(normal_mean, color='b', linestyle='solid', linewidth=2)\n",
    "\n",
    "# Add a vertical line at one standard deviation above the mean.\n",
    "plt.axvline(normal_mean + normal_std_dev, color='b', linestyle='dashed', linewidth=2)\n",
    "\n",
    "# Add a vertical line at one standard deviation below the mean.\n",
    "plt.axvline(normal_mean - normal_std_dev, color='b', linestyle='dashed', linewidth=2) \n",
    "\n",
    "# Inline printing the histogram\n",
    "plt.show()"
   ]
  },
  {
   "cell_type": "markdown",
   "metadata": {},
   "source": [
    "`4. This is just a normal distribution, so yes, the mean and standard deviation are very helpful in understanding the data. I defined both when I generated the set of data.`"
   ]
  },
  {
   "cell_type": "markdown",
   "metadata": {},
   "source": [
    "## Distribution 2: Pareto (II?)"
   ]
  },
  {
   "cell_type": "code",
   "execution_count": 37,
   "metadata": {},
   "outputs": [
    {
     "name": "stdout",
     "output_type": "stream",
     "text": [
      "The mean is 4.722148685042814; the standard deviation is 10.44392659063713\n"
     ]
    },
    {
     "data": {
      "image/png": "[encoded data removed]",
      "text/plain": [
       "<Figure size 432x288 with 1 Axes>"
      ]
     },
     "metadata": {
      "needs_background": "light"
     },
     "output_type": "display_data"
    }
   ],
   "source": [
    "# 1. Generate a variable.\n",
    "# I had to look up a Pareto distribution to understand what numbers made sense to plug in.\n",
    "# I also entered a few different values for a (.5, .75, 1, 2, 4) to get an idea of how the distribution changes.\n",
    "pareto_distribution = np.random.pareto(1,size=100)\n",
    "\n",
    "# 2. Graph the variable using a histogram.\n",
    "df2 = pd.DataFrame(pareto_distribution)\n",
    "df2.hist()\n",
    "\n",
    "# 3. Compute the mean and the standard deviation, and plot them as vertical lines on the histogram.\n",
    "#    Borrowing generously from the examples in the text...\n",
    "pareto_mean = pareto_distribution.mean()\n",
    "pareto_std_dev = pareto_distribution.std()\n",
    "print(\"The mean is {}; the standard deviation is {}\".format(pareto_mean,pareto_std_dev))\n",
    "\n",
    "# Add a vertical line at the mean.\n",
    "plt.axvline(pareto_mean, color='b', linestyle='solid', linewidth=2)\n",
    "\n",
    "# Add a vertical line at one standard deviation above the mean.\n",
    "plt.axvline(pareto_mean + pareto_std_dev, color='b', linestyle='dashed', linewidth=2)\n",
    "\n",
    "# Add a vertical line at one standard deviation below the mean.\n",
    "plt.axvline(pareto_mean - pareto_std_dev, color='b', linestyle='dashed', linewidth=2) \n",
    "\n",
    "# Inline printing the histogram\n",
    "plt.show()"
   ]
  },
  {
   "cell_type": "markdown",
   "metadata": {},
   "source": [
    "`4. Roughly 80% of the data points in a Pareto distribution are in the 20% of the lowest part of the range. In this case, the mean can help us understand how \"steep\" the curve is. (Values of a approaching zero will make a really steep curve; the mean will approach 0 for a steeper curve.) The mean seems to stay within a reasonably close range for a given value of a.`\n",
    "\n",
    "`The standard deviation doesn't seem to be useful in this distribution. As I reran the code above, the standard deviation varied wildly, without changing the value of a.`"
   ]
  },
  {
   "cell_type": "markdown",
   "metadata": {},
   "source": [
    "## Distribution 3: Binomial"
   ]
  },
  {
   "cell_type": "code",
   "execution_count": 73,
   "metadata": {},
   "outputs": [
    {
     "name": "stdout",
     "output_type": "stream",
     "text": [
      "The mean is 3.85; the standard deviation is 1.774119499921017\n"
     ]
    },
    {
     "data": {
      "image/png": "[encoded data removed]",
      "text/plain": [
       "<Figure size 432x288 with 1 Axes>"
      ]
     },
     "metadata": {
      "needs_background": "light"
     },
     "output_type": "display_data"
    }
   ],
   "source": [
    "# 1. Generate a variable.\n",
    "# This function is np.random.binomial(n,p,size)\n",
    "# \"where n is the number of trials, p is the probability of success, and N is the number of successes.\"\n",
    "# After playing with values--n seems to represent the range of possible outcomes (10=values [0,10]),\n",
    "# while size defines the number of data points.\n",
    "# If defined as a float, n is truncated to an integer.\n",
    "# 0 <= p <= 1. p * size seems to approximate the mean.\n",
    "binomial_distribution = np.random.binomial(10,.4,size=100)\n",
    "\n",
    "# 2. Graph the variable using a histogram.\n",
    "df3 = pd.DataFrame(binomial_distribution)\n",
    "df3.hist()\n",
    "\n",
    "# 3. Compute the mean and the standard deviation, and plot them as vertical lines on the histogram.\n",
    "#    Borrowing generously from the examples in the text...\n",
    "binomial_mean = binomial_distribution.mean()\n",
    "binomial_std_dev = binomial_distribution.std()\n",
    "print(\"The mean is {}; the standard deviation is {}\".format(binomial_mean,binomial_std_dev))\n",
    "\n",
    "# Add a vertical line at the mean.\n",
    "plt.axvline(binomial_mean, color='b', linestyle='solid', linewidth=2)\n",
    "\n",
    "# Add a vertical line at one standard deviation above the mean.\n",
    "plt.axvline(binomial_mean + binomial_std_dev, color='b', linestyle='dashed', linewidth=2)\n",
    "\n",
    "# Add a vertical line at one standard deviation below the mean.\n",
    "plt.axvline(binomial_mean - binomial_std_dev, color='b', linestyle='dashed', linewidth=2) \n",
    "\n",
    "# Inline printing the histogram\n",
    "plt.show()"
   ]
  },
  {
   "cell_type": "markdown",
   "metadata": {},
   "source": [
    "`4. Just eyeballing the graph, this distribution seems more or less normal. As I noted above, the mean seems to stick close to p * size. The standard deviation is fairly consistent when n and p don't change.`"
   ]
  },
  {
   "cell_type": "markdown",
   "metadata": {},
   "source": [
    "## Distribution 4: Gamma"
   ]
  },
  {
   "cell_type": "code",
   "execution_count": 146,
   "metadata": {},
   "outputs": [
    {
     "name": "stdout",
     "output_type": "stream",
     "text": [
      "The mean is 1.9916784585370126; the standard deviation is 0.5846757276072732\n"
     ]
    },
    {
     "data": {
      "image/png": "[encoded data removed]",
      "text/plain": [
       "<Figure size 432x288 with 1 Axes>"
      ]
     },
     "metadata": {
      "needs_background": "light"
     },
     "output_type": "display_data"
    }
   ],
   "source": [
    "# 1. Generate a variable.\n",
    "# This function is np.random.gamma(shape,scale,size)\n",
    "# shape looks like it defines the range of values (10=[0,10]).\n",
    "# shape * scale is basically the mean.\n",
    "gamma_distribution = np.random.gamma(10,.2,size=100)\n",
    "\n",
    "# 2. Graph the variable using a histogram.\n",
    "df4 = pd.DataFrame(gamma_distribution)\n",
    "df4.hist()\n",
    "\n",
    "# 3. Compute the mean and the standard deviation, and plot them as vertical lines on the histogram.\n",
    "#    Borrowing generously from the examples in the text...\n",
    "gamma_mean = gamma_distribution.mean()\n",
    "gamma_std_dev = gamma_distribution.std()\n",
    "print(\"The mean is {}; the standard deviation is {}\".format(gamma_mean,gamma_std_dev))\n",
    "\n",
    "# Add a vertical line at the mean.\n",
    "plt.axvline(gamma_mean, color='b', linestyle='solid', linewidth=2)\n",
    "\n",
    "# Add a vertical line at one standard deviation above the mean.\n",
    "plt.axvline(gamma_mean + gamma_std_dev, color='b', linestyle='dashed', linewidth=2)\n",
    "\n",
    "# Add a vertical line at one standard deviation below the mean.\n",
    "plt.axvline(gamma_mean - gamma_std_dev, color='b', linestyle='dashed', linewidth=2) \n",
    "\n",
    "# Inline printing the histogram\n",
    "plt.show()"
   ]
  },
  {
   "cell_type": "markdown",
   "metadata": {},
   "source": [
    "`4. Mean is super useful here. Gamma distributions are often used to show the probability of a single event over a period of time--in that case the mean is the most likely time that event will occur.`\n",
    "\n",
    "`The standard deviation is similarly useful, defining the window of highest probability of the event.`"
   ]
  },
  {
   "cell_type": "markdown",
   "metadata": {},
   "source": [
    "## Distribution 5: Poisson"
   ]
  },
  {
   "cell_type": "code",
   "execution_count": 110,
   "metadata": {},
   "outputs": [
    {
     "name": "stdout",
     "output_type": "stream",
     "text": [
      "The mean is 10.26; the standard deviation is 3.312461320528891\n"
     ]
    },
    {
     "data": {
      "image/png": "[encoded data removed]",
      "text/plain": [
       "<Figure size 432x288 with 1 Axes>"
      ]
     },
     "metadata": {
      "needs_background": "light"
     },
     "output_type": "display_data"
    }
   ],
   "source": [
    "# 1. Generate a variable.\n",
    "# Single parameter, lambda, defines the amount of time for k events to occur.\n",
    "# k is the x axis; y axis is the frequency for a result of k over 100 trials.\n",
    "poisson_distribution = np.random.poisson(10,size=100)\n",
    "\n",
    "# 2. Graph the variable using a histogram.\n",
    "df5 = pd.DataFrame(poisson_distribution)\n",
    "df5.hist()\n",
    "\n",
    "# 3. Compute the mean and the standard deviation, and plot them as vertical lines on the histogram.\n",
    "#    Borrowing generously from the examples in the text...\n",
    "poisson_mean = poisson_distribution.mean()\n",
    "poisson_std_dev = poisson_distribution.std()\n",
    "print(\"The mean is {}; the standard deviation is {}\".format(poisson_mean,poisson_std_dev))\n",
    "\n",
    "# Add a vertical line at the mean.\n",
    "plt.axvline(poisson_mean, color='b', linestyle='solid', linewidth=2)\n",
    "\n",
    "# Add a vertical line at one standard deviation above the mean.\n",
    "plt.axvline(poisson_mean + poisson_std_dev, color='b', linestyle='dashed', linewidth=2)\n",
    "\n",
    "# Add a vertical line at one standard deviation below the mean.\n",
    "plt.axvline(poisson_mean - poisson_std_dev, color='b', linestyle='dashed', linewidth=2) \n",
    "\n",
    "# Inline printing the histogram\n",
    "plt.show()"
   ]
  },
  {
   "cell_type": "markdown",
   "metadata": {},
   "source": [
    "`4. Lambda is already the average number of events in a given interval of time--the mean is approximately the value I plug in for lambda.`\n",
    "\n",
    "`The standard deviation is useful here. Since we are measuring the average number of k events in an interval of time, it makes sense that the highest probabilities are clustered together. (It would be odd to find that the average number of a given event is, say, 10, but the other most frequent numbers of occurrences are far above or below 10.)`"
   ]
  },
  {
   "cell_type": "markdown",
   "metadata": {},
   "source": [
    "## Distribution 6: Rayleigh"
   ]
  },
  {
   "cell_type": "code",
   "execution_count": 143,
   "metadata": {},
   "outputs": [
    {
     "name": "stdout",
     "output_type": "stream",
     "text": [
      "The mean is 1205.6040389639625; the standard deviation is 615.5066326030759\n"
     ]
    },
    {
     "data": {
      "image/png": "[encoded data removed]",
      "text/plain": [
       "<Figure size 432x288 with 1 Axes>"
      ]
     },
     "metadata": {
      "needs_background": "light"
     },
     "output_type": "display_data"
    }
   ],
   "source": [
    "# 1. Generate a variable.\n",
    "# Scale is the single parameter. \n",
    "rayleigh_distribution = np.random.rayleigh(1000,size=100)\n",
    "#print(rayleigh_distribution)\n",
    "# 2. Graph the variable using a histogram.\n",
    "df6 = pd.DataFrame(rayleigh_distribution)\n",
    "df6.hist()\n",
    "\n",
    "# 3. Compute the mean and the standard deviation, and plot them as vertical lines on the histogram.\n",
    "#    Borrowing generously from the examples in the text...\n",
    "rayleigh_mean = rayleigh_distribution.mean()\n",
    "rayleigh_std_dev = rayleigh_distribution.std()\n",
    "print(\"The mean is {}; the standard deviation is {}\".format(rayleigh_mean,rayleigh_std_dev))\n",
    "\n",
    "# Add a vertical line at the mean.\n",
    "plt.axvline(rayleigh_mean, color='b', linestyle='solid', linewidth=2)\n",
    "\n",
    "# Add a vertical line at one standard deviation above the mean.\n",
    "plt.axvline(rayleigh_mean + rayleigh_std_dev, color='b', linestyle='dashed', linewidth=2)\n",
    "\n",
    "# Add a vertical line at one standard deviation below the mean.\n",
    "plt.axvline(rayleigh_mean - rayleigh_std_dev, color='b', linestyle='dashed', linewidth=2) \n",
    "\n",
    "# Inline printing the histogram\n",
    "plt.show()"
   ]
  },
  {
   "cell_type": "markdown",
   "metadata": {},
   "source": [
    "`4. The mean is close to the input value for scale. Standard deviation seems to remain consistent for a given value of scale as well.`\n",
    "\n",
    "`During my Googling about Rayleigh distributions, I read a description of Rayleigh as a 'fat-tailed' distribution. I see how that description fits when I look at the histogram.`"
   ]
  },
  {
   "cell_type": "markdown",
   "metadata": {},
   "source": [
    "## Additionally:"
   ]
  },
  {
   "cell_type": "code",
   "execution_count": 156,
   "metadata": {},
   "outputs": [
    {
     "name": "stdout",
     "output_type": "stream",
     "text": [
      "rando_sum: The mean is 15.036597041141572; the standard deviation is 0.9696879469934094\n"
     ]
    },
    {
     "data": {
      "image/png": "[encoded data removed]",
      "text/plain": [
       "<Figure size 432x288 with 1 Axes>"
      ]
     },
     "metadata": {
      "needs_background": "light"
     },
     "output_type": "display_data"
    }
   ],
   "source": [
    "# 1. Generate two normally-distributed variables, \n",
    "#  one with a mean of 5 and standard deviation of 0.5, \n",
    "#  and the other with a mean of 10 and standard deviation of 1.\n",
    "rando1 = np.random.normal(5,.5,size=100)\n",
    "rando2 = np.random.normal(10,1,size=100)\n",
    "\n",
    "#print(rando1)\n",
    "#print(rando2)\n",
    "#df_rando1 = pd.DataFrame(rando1)\n",
    "#df_rando1.hist()\n",
    "#df_rando2 = pd.DataFrame(rando2)\n",
    "#df_rando2.hist()\n",
    "#print(\"rando1: The mean is {}; the standard deviation is {}\".format(rando1.mean(),rando1.std()))\n",
    "#print(\"rando2: The mean is {}; the standard deviation is {}\".format(rando2.mean(),rando2.std()))\n",
    "#print(\"rando1: Variance is {}. rando2: Variance is {}\".format(rando1.var(),rando2.var()))\n",
    "\n",
    "# 2. Add them together to create a third variable.\n",
    "rando_sum = rando1 + rando2\n",
    "#print(rando_sum)\n",
    "\n",
    "# 3. Graph the third variable using a histogram.\n",
    "df_rando = pd.DataFrame(rando_sum)\n",
    "df_rando.hist()\n",
    "\n",
    "# 4. Compute the mean and standard deviation and plot them as vertical lines on the histogram.\n",
    "rando_sum_mean_attr = rando_sum.mean()\n",
    "rando_sum_mean = np.mean(rando_sum)\n",
    "rando_sum_std_dev_attr = rando_sum.std()\n",
    "rando_sum_std_dev = np.std(rando_sum)\n",
    "#print(\"rando_sum: The mean is {} or {}; the standard deviation is {} or {}\".format(rando_sum_mean,rando_sum_mean_attr,rando_sum_std_dev,rando_sum_std_dev_attr))\n",
    "print(\"rando_sum: The mean is {}; the standard deviation is {}\".format(rando_sum_mean,rando_sum_std_dev))\n",
    "#print(\"rando_sum: The variance is {}. Sum of variance of rando1 and rando2 is {}\".format(rando_sum.var(),rando1.var()+rando2.var()))\n",
    "\n",
    "# Add a vertical line at the mean.\n",
    "plt.axvline(rando_sum_mean, color='b', linestyle='solid', linewidth=2)\n",
    "\n",
    "# Add a vertical line at one standard deviation above the mean.\n",
    "plt.axvline(rando_sum_mean + rando_sum_std_dev, color='b', linestyle='dashed', linewidth=2)\n",
    "\n",
    "# Add a vertical line at one standard deviation below the mean.\n",
    "plt.axvline(rando_sum_mean - rando_sum_std_dev, color='b', linestyle='dashed', linewidth=2) \n",
    "\n",
    "# Inline printing the histogram\n",
    "plt.show()"
   ]
  },
  {
   "cell_type": "markdown",
   "metadata": {},
   "source": [
    "`5. The sum of two normal distributions appears to also be a normal distribution. The mean of the summed distribution is roughly equal to the defined means for the two original distributions.`\n",
    "\n",
    "`The standard deviation...? I think I'm supposed to find that the standard deviation of the summed distribution equals the sum of the standard deviations of the two original distributions, but that doesn't appear to be true...`"
   ]
  }
 ],
 "metadata": {
  "kernelspec": {
   "display_name": "Python 3",
   "language": "python",
   "name": "python3"
  },
  "language_info": {
   "codemirror_mode": {
    "name": "ipython",
    "version": 3
   },
   "file_extension": ".py",
   "mimetype": "text/x-python",
   "name": "python",
   "nbconvert_exporter": "python",
   "pygments_lexer": "ipython3",
   "version": "3.6.7"
  }
 },
 "nbformat": 4,
 "nbformat_minor": 2
}
