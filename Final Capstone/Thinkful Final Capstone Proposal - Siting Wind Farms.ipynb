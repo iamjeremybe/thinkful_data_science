{
 "cells": [
  {
   "cell_type": "markdown",
   "metadata": {},
   "source": [
    "# Thinkful - Final Capstone Project Proposal: Siting Wind Farms\n",
    "\n",
    "### Jeremy Brezovan, December 2019\n"
   ]
  },
  {
   "cell_type": "markdown",
   "metadata": {},
   "source": [
    "My parents still live in the bedroom community in which I was raised, in north central Iowa. On a trip home this summer, my dad and I talked about the large number of windmills that have popped up in the farmland south of town in the past decade (I have since learned these windmills are collectively named the [Lundgren Project](https://eerscmap.usgs.gov/uswtdb/viewer/#11.76/42.3582/-94.1259)). Dad and I wondered how these fields were chosen as a location for so many windmills.\n"
   ]
  },
  {
   "cell_type": "markdown",
   "metadata": {},
   "source": [
    "## What is the problem you are attempting to solve?\n",
    "\n",
    "__For this capstone, I would like to build a model to determine strong candidate sites for new wind farms.__\n"
   ]
  },
  {
   "cell_type": "markdown",
   "metadata": {},
   "source": [
    "## How is your solution valuable?\n",
    "__Renewable energy, including wind, is a growing business.__ [This wind energy factsheet from the University of Michigan](http://css.umich.edu/factsheets/wind-energy-factsheet) contains a lot of great information, including the following graph, which shows the steady increase in windpower capacity in the US since the year 2001:\n"
   ]
  },
  {
   "cell_type": "markdown",
   "metadata": {},
   "source": [
    "![Growth of wind energy in the US](http://css.umich.edu/sites/default/files/styles/factsheet_image/public/Figure%203%20Cumulative%20Wind%20Capacity.png?itok=ukF-S7vG)"
   ]
  },
  {
   "cell_type": "markdown",
   "metadata": {},
   "source": [
    "Current US capacity is 96.7 GW--1 GW is roughly enough to power around 725,000 homes (discussion about that number [here](https://www.quora.com/How-many-homes-can-one-gigawatt-in-energy-capacity-provide-for)), so current capacity can power well over 70 million homes. Capacity could increase to cover 20% of all US energy needs by 2030, and 35% by 2050 (also from the U of M factsheet).\n",
    "\n",
    "__A model like the one I propose could be useful to multiple stakeholders in potential wind energy projects:__\n",
    "* Investors looking for optimal locations for new wind farms, who can more easily identify and prioritize potential sites;\n",
    "* Turbine manufacturers interested in submitting proposals for projects could use this model to help them determine which of their products would be more suitable (in terms of height and output capacity, for instance);\n",
    "* The general public, by quantifying and illustrating the reasons why particular sites are favored over others. The placement of wind farms has been an occasionally contentious issue, particularly for residents who live in proximity to a selected site, or who have concerns about windmills’ effects on local wildlife.\n",
    "\n",
    "With additional work, this model could serve as the core of a tool where a user could enter the GPS coordinates of a point or area, and receive up-to-date information about that site’s viability.\n"
   ]
  },
  {
   "cell_type": "markdown",
   "metadata": {},
   "source": [
    "## What is your data source and how will you access it?\n",
    "At least four major factors come into play when siting a wind project, according to the [American Wind Energy Association](https://www.awea.org/wind-101/siting-a-project). Scope and data availability may limit the number of factors actually used in this capstone:\n",
    "\n",
    "\n",
    "1. __Strong and consistent winds;__\n",
    "2. __Large, open space, such as agricultural land.__ [NREL has datasets](https://www.nrel.gov/gis/data-wind.html) featuring “wind power classes” derived from both mean wind speeds and basic topographic features--the shapefile that includes data for the entire US, excluding areas unsuited to wind farm construction due to topography, will be used here. If found, additional data about topography and population density may also be sourced, but the US dataset “with exclusions” has already removed “protected areas (wilderness, wildlife refuges, parks, etc.), incompatible land use (wetlands, urban areas), and other criteria from the available wind resource”;\n",
    "3. __Minimal risk to wildlife.__ This includes both birds and bats, [which can be especially hard-hit by poorly tuned wind farms](http://www.anthropocenemagazine.org/2017/03/wind-energy-bat-deaths); use data for migratory bird/bat populations, or locations of flyways, and see which areas have a higher population density--[the US Fish and Wildlife Service](https://www.fws.gov/birds/management/flyways.php) has basic shape files outlining the four main flyways of the continental US, but does not further break them down to specific flight paths. The more I read about this factor, the more it felt that it was a topic of research for each proposed wind project and unfortunately does not immediately lend itself well to automation/machine learning;\n",
    "4. __Community acceptance.__ If written community survey/commentary was available for an area, sentiment analysis could help determine acceptance. Lacking available data, I scanned Twitter hashtags ([#windpower](https://twitter.com/hashtag/windpower?lang=en), [#windenergy](https://twitter.com/hashtag/windenergy?lang=en), [#windfarm](https://twitter.com/hashtag/windfarm?lang=en)) hoping to find discussions that could be analyzed instead. Unfortunately, I mostly found wind energy company tweets, and retweets by proponents. Wind farm opponents were typically found outside of the US. In a recent example that generated some discussion, a wind project already underway in Ontario, Canada was halted, and the partially-completed construction removed from the site, [over concerns about the impact of the project on the local bat population](https://ottawacitizen.com/news/local-news/ontario-cancels-nearly-built-200m-wind-farm-over-threat-to-bat-populations).\n",
    "\n",
    "__Additional factors could include:__\n",
    "* __Proximity to transmission lines that can carry the generated power to customers__ (data available as a shapefile on the [Homeland Infrastructure Foundation website](https://hifld-geoplatform.opendata.arcgis.com/datasets/electric-power-transmission-lines));\n",
    "* __Placement to minimize “shadow flicker”__, the repetitive shadow cast on nearby homes and business by rotating blades, usually during sunrise and sunset. Given the height of an average windmill and the location of the sun on the horizon at sunrise/sunset throughout an average year, some basic calculations could define a buffer zone that would guarantee shadow flicker from a given windmill is minimized. This may be too much detail for this capstone, but in a more advanced version of this tool, a site such as [suncalc.org](https://www.suncalc.org/#/44.9537,-93.2199,3/2019.12.12/19:48/1/3) (and its [API](https://www.torsten-hoffmann.de/apis/suncalcmooncalc/link_en.html)) may be able to provide the information about the sun’s angles relative to the horizon throughout the year.\n",
    "\n",
    "AWEA goes into more detail about the overall resource assessment process [here](http://awea.org/wind-101/siting-a-project/resource-assessment). CRC Press also has [an article about siting wind farms](https://www.crcpress.com/blog/article/how-to-select-a-location-for-a-wind-farm), though unfortunately links to some of their suggested data sources appear to be stale.\n"
   ]
  },
  {
   "cell_type": "markdown",
   "metadata": {},
   "source": [
    "## What techniques from the course do you anticipate using?\n",
    "NREL’s wind class dataset is a representation of the lower 48 states as a grid, with cells ¼ degree of latitude by ⅓ degree of longitude.\n",
    "\n",
    "__A supervised model__ using data from the above sources will be trained, with the locations of existing wind projects (extracted from [Berkeley Lab’s database of US Wind Turbines](https://emp.lbl.gov/news/largest-ever-database-us-wind-turbines)) as a target.\n",
    "\n",
    "For each cell in the NREL data that contains windmills, the supervised model can use NREL’s wind class, and features derived from other data sources (details about some of these features are discussed below), to predict which other cells would be best suited to wind farm development.\n",
    "\n",
    "### In the following map, wind classes are shown in grey - green - blue - orange, with orange being the highest class. Locations of existing windmills are in red:"
   ]
  },
  {
   "cell_type": "markdown",
   "metadata": {},
   "source": [
    "![Map showing NREL wind class and windmill locations](./Screenshot_2019-12-12_21-04-13.png)"
   ]
  },
  {
   "cell_type": "markdown",
   "metadata": {},
   "source": [
    "Another useful feature will be based on the distance between a given cell and suitable transmission lines. The ability to piggyback on existing infrastructure can cut the costs for a new wind project. States east of the Mississippi River will have the easiest time here, despite having few sites with an NREL wind class of 3 or above. Parts of the West (roughly Montana, Idaho, Wyoming, Utah, and Colorado) will have longer mean distances to transmission lines.\n",
    "\n",
    "I'd like to create some kind of weight based on density of transmission lines, in addition to measuring proximity. My idea is that being close to more lines is better, but only to a point--past this point, a density of transmission lines probably indicates high population density (see: [the Northeast megalopolis](https://en.wikipedia.org/wiki/Megalopolis#/media/File:BosWash-Night-Labeled.png)). Proximity should be penalized in this case."
   ]
  },
  {
   "cell_type": "markdown",
   "metadata": {},
   "source": [
    "The [codebook](https://emp.lbl.gov/publications/us-wind-turbine-database-files) for the US Wind Turbine Database lists a number of potentially useful attributes that could be fed to __an unsupervised learning model__.\n",
    "\n",
    "These project/turbine attributes in particular could lend themselves well to a way to classify locations by the type of projects/turbines already installed.\n",
    "\n",
    "* p_name - project name\n",
    "* p_year - year project became operational\n",
    "* p_tnum - number of turbines in project\n",
    "* p_cap - project capacity (MW)\n",
    "* t_manu - turbine original equipment manufacturer\n",
    "* t_model - turbine model\n",
    "* t_cap - turbine capacity (kW)\n",
    "* t_hh - turbine hub height (meters)\n",
    "* t_rd - turbine rotor diameter (meters) \n",
    "* t_rsa - turbine rotor swept area (meters^2)\n",
    "* t_ttlh - turbine total height - calculated (meters)\n",
    "* t_conf_atr - turbine characteristic confidence (0-3)\n",
    "* t_conf_loc - location confidence (0 -3)\n",
    "\n",
    "The output from the unsupervised learning model could be treated as a classification of the type of windmills suitable for a location. This will serve as an additional input feature for the supervised learning model.\n",
    "\n",
    "Power output is an especially important factor to consider--for instance, in my initial analysis, I noticed that the sites for many windmills, particularly in central and southern Texas, do not line up with NREL’s wind classes for large-scale use. Despite being #1 in number of windmills deployed, Texas’ mean power output per windmill is below that of #3 state, Iowa."
   ]
  },
  {
   "cell_type": "markdown",
   "metadata": {},
   "source": [
    "## What do you anticipate to be the biggest challenge you’ll face?\n",
    "Time, and resources are my primary concerns.\n",
    "\n",
    "In order to save some time, and definitely to save resources, I’d like to limit this model to just the contiguous 48 states. Wind and solar will play a necessary part in the future of renewable energy in remote locales like Hawaii, Alaska, and Puerto Rico--but focusing on the \"lower 48\" for the purposes of this capstone will lessen the load on my PC. (Looking forward--besides making this tool more interactive, and incorporating data for other parts of the world, another future improvement would be to deploy it to the cloud, where resources can be called upon as needed.)"
   ]
  }
 ],
 "metadata": {
  "kernelspec": {
   "display_name": "Python 3",
   "language": "python",
   "name": "python3"
  },
  "language_info": {
   "codemirror_mode": {
    "name": "ipython",
    "version": 3
   },
   "file_extension": ".py",
   "mimetype": "text/x-python",
   "name": "python",
   "nbconvert_exporter": "python",
   "pygments_lexer": "ipython3",
   "version": "3.6.9"
  }
 },
 "nbformat": 4,
 "nbformat_minor": 2
}
