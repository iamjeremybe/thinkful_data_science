{
 "cells": [
  {
   "cell_type": "markdown",
   "metadata": {},
   "source": [
    "# Thinkful - Final Capstone: Siting Wind Farms (continued)\n",
    "## Supervised Learning models\n",
    "\n",
    "### Jeremy Brezovan, December 2019\n"
   ]
  },
  {
   "cell_type": "markdown",
   "metadata": {},
   "source": [
    "## Imports and functions"
   ]
  },
  {
   "cell_type": "code",
   "execution_count": 38,
   "metadata": {},
   "outputs": [],
   "source": [
    "import time\n",
    "\n",
    "import numpy as np\n",
    "import pandas as pd\n",
    "import geopandas as gpd\n",
    "import matplotlib.pyplot as plt\n",
    "import seaborn as sns\n",
    "\n",
    "from shapely.geometry import Point\n",
    "from shapely.geometry import MultiLineString\n",
    "from shapely.geometry import Polygon\n",
    "from shapely.ops import nearest_points\n",
    "from shapely.ops import unary_union\n",
    "\n",
    "pd.set_option('display.max_columns', None)\n",
    "\n",
    "from sklearn.model_selection import train_test_split\n",
    "from sklearn.ensemble import RandomForestClassifier\n",
    "from sklearn.linear_model import SGDClassifier\n",
    "from sklearn.preprocessing import LabelEncoder\n",
    "\n",
    "from sklearn.metrics import confusion_matrix\n",
    "\n",
    "%matplotlib inline"
   ]
  },
  {
   "cell_type": "code",
   "execution_count": 37,
   "metadata": {},
   "outputs": [],
   "source": [
    "def show_feat_importance(model,df):\n",
    "    importances = model.feature_importances_\n",
    "    std = np.std([tree.feature_importances_ for tree in model.estimators_],\n",
    "                 axis=0)\n",
    "    indices = np.argsort(importances)[::-1]\n",
    "\n",
    "    # Print the feature ranking\n",
    "    print(\"Feature ranking:\")\n",
    "    df_cols = df.shape[1]\n",
    "    \n",
    "    for f in range(df_cols):\n",
    "        print(\"%d. feature %d: %s (%f)\" % (f + 1, indices[f],\n",
    "                                           df.columns[f],\n",
    "                                           importances[indices[f]]))\n",
    "\n",
    "    # Plot the feature importances of the forest\n",
    "    plt.figure()\n",
    "    plt.title(\"Feature importances\")\n",
    "    plt.bar(range(df_cols),\n",
    "            importances[indices],\n",
    "            color=\"r\",\n",
    "            yerr=std[indices],\n",
    "            align=\"center\")\n",
    "    plt.xticks(range(df_cols), indices)\n",
    "    plt.xlim([-1, df_cols])\n",
    "    plt.show()"
   ]
  },
  {
   "cell_type": "markdown",
   "metadata": {},
   "source": [
    "## Data: wrangled. Now, build something\n",
    "\n",
    "In the first notebook for this capstone, I introduced the datasets, generated a target feature using an unsupervised learning model, and detailed the use of some external scripts that generated additional features that can be used to train a supervised learning model.\n",
    "\n",
    "My original thought was to build two supervised learning models--one with a binary output, simply stating whether or not a cell from the NREL dataset would be a good site for a turbine. (A cell is approximately 1/3 of a square degree of latitude/longitude, or 23x23 miles / 37x37 km.)\n",
    "\n",
    "The proposed second model would be trained on the attributes of land where turbines currently exist, and output the turbine_class, describing what kind of turbine would be best suited for an area.\n",
    "\n",
    "What I found in exploring the unsupservised model's output was that the turbine_classes were largely determined by project age and size. Turbine technology has improved over time, leading to projects with fewer turbines, but turbines that are larger and have a higher output capacity."
   ]
  },
  {
   "cell_type": "code",
   "execution_count": 55,
   "metadata": {},
   "outputs": [],
   "source": [
    "disk_dir='/home/jeremy/Documents/Jupyter/Final Capstone/nrel_augmented_by_state/'\n",
    "us_state = 'KS'"
   ]
  },
  {
   "cell_type": "code",
   "execution_count": 56,
   "metadata": {},
   "outputs": [],
   "source": [
    "lower48_borders = gpd.read_file('./lower48_borders.geojson',driver='GeoJSON')"
   ]
  },
  {
   "cell_type": "code",
   "execution_count": 57,
   "metadata": {},
   "outputs": [],
   "source": [
    "nrel_state = gpd.read_file('./nrel_augmented_by_state/nrel_augmented_{}.geojson'.format(us_state),driver='GeoJSON')"
   ]
  },
  {
   "cell_type": "code",
   "execution_count": 58,
   "metadata": {},
   "outputs": [],
   "source": [
    "vc_le = LabelEncoder()\n",
    "nrel_state['volt_class_encoded'] = vc_le.fit_transform(nrel_state['VOLT_CLASS'])"
   ]
  },
  {
   "cell_type": "code",
   "execution_count": 59,
   "metadata": {},
   "outputs": [],
   "source": [
    "nrel_state['target'] = np.where( (nrel_state['turbine_count'] > 0) | (nrel_state['wind_class_excl'] >= 3), 1, 0)"
   ]
  },
  {
   "cell_type": "code",
   "execution_count": 60,
   "metadata": {},
   "outputs": [],
   "source": [
    "# Train/test split\n",
    "X_train1, X_test1, y_train1, y_test1 = train_test_split(nrel_state[['SHAPE__Len','VOLTAGE','volt_class_encoded',\n",
    "                                                                'dist_to_nearest_line','line_count',\n",
    "                                                                'wind_class','geometry']],\n",
    "                                                        nrel_state['target'], \n",
    "                                                        test_size=0.33, \n",
    "                                                        random_state=42)"
   ]
  },
  {
   "cell_type": "markdown",
   "metadata": {},
   "source": [
    "## SGD Classifier / incremental learning\n",
    "\n",
    "The SGD classifier performed well enough training against a single dataset...but the random forest below outperformed the SGD classifier.\n",
    "\n",
    "I had a thought to try incremental learning--to generate a full set of data for every state, and train a model using all of those datasets. Unfortunately, generating 48 states' worth of data turned out to be a major challenge in terms of processing time, power, and disk space.\n",
    "\n",
    "Had I the resources to proceed with that plan, I would replace .fit() below with .partial_fit(), and feed in states' training datasets one by one."
   ]
  },
  {
   "cell_type": "code",
   "execution_count": 61,
   "metadata": {},
   "outputs": [
    {
     "data": {
      "text/plain": [
       "SGDClassifier(alpha=0.0001, average=False, class_weight=None,\n",
       "              early_stopping=False, epsilon=0.1, eta0=0.0, fit_intercept=True,\n",
       "              l1_ratio=0.15, learning_rate='optimal', loss='hinge',\n",
       "              max_iter=1000, n_iter_no_change=5, n_jobs=None, penalty='l2',\n",
       "              power_t=0.5, random_state=None, shuffle=True, tol=0.001,\n",
       "              validation_fraction=0.1, verbose=0, warm_start=False)"
      ]
     },
     "execution_count": 61,
     "metadata": {},
     "output_type": "execute_result"
    }
   ],
   "source": [
    "sgdc = SGDClassifier()\n",
    "sgdc.fit(X_train1.drop('geometry',axis='columns'),y_train1)#,classes=[0,1])"
   ]
  },
  {
   "cell_type": "code",
   "execution_count": 62,
   "metadata": {
    "scrolled": true
   },
   "outputs": [
    {
     "data": {
      "text/plain": [
       "0.09753404490246595"
      ]
     },
     "execution_count": 62,
     "metadata": {},
     "output_type": "execute_result"
    }
   ],
   "source": [
    "# How does it do against our test dataset?\n",
    "y_pred1_sgd = sgdc.predict(X_test1.drop('geometry',axis='columns'))\n",
    "sgdc.score(X_test1.drop('geometry',axis='columns'),y_test1)"
   ]
  },
  {
   "cell_type": "markdown",
   "metadata": {},
   "source": [
    "## Random Forest\n",
    "\n",
    "The augmented NREL dataset doesn't have a lot of features, so I thought perhaps a random forest would be easy to train. As it turns out--yes! Over 90% without any tuning whatsoever."
   ]
  },
  {
   "cell_type": "code",
   "execution_count": 63,
   "metadata": {},
   "outputs": [
    {
     "data": {
      "text/plain": [
       "RandomForestClassifier(bootstrap=True, ccp_alpha=0.0, class_weight=None,\n",
       "                       criterion='gini', max_depth=None, max_features='auto',\n",
       "                       max_leaf_nodes=None, max_samples=None,\n",
       "                       min_impurity_decrease=0.0, min_impurity_split=None,\n",
       "                       min_samples_leaf=1, min_samples_split=2,\n",
       "                       min_weight_fraction_leaf=0.0, n_estimators=100,\n",
       "                       n_jobs=None, oob_score=False, random_state=None,\n",
       "                       verbose=0, warm_start=False)"
      ]
     },
     "execution_count": 63,
     "metadata": {},
     "output_type": "execute_result"
    }
   ],
   "source": [
    "# Train the model\n",
    "rfc = RandomForestClassifier()\n",
    "rfc.fit(X_train1.drop('geometry',axis='columns'),y_train1)"
   ]
  },
  {
   "cell_type": "code",
   "execution_count": 64,
   "metadata": {},
   "outputs": [
    {
     "data": {
      "text/plain": [
       "0.9389032020610968"
      ]
     },
     "execution_count": 64,
     "metadata": {},
     "output_type": "execute_result"
    }
   ],
   "source": [
    "# How does it do against our test dataset?\n",
    "y_pred1 = rfc.predict(X_test1.drop('geometry',axis='columns'))\n",
    "rfc.score(X_test1.drop('geometry',axis='columns'),y_test1)"
   ]
  },
  {
   "cell_type": "code",
   "execution_count": 65,
   "metadata": {},
   "outputs": [
    {
     "data": {
      "text/plain": [
       "array([[ 449,  346],\n",
       "       [ 152, 7204]])"
      ]
     },
     "execution_count": 65,
     "metadata": {},
     "output_type": "execute_result"
    }
   ],
   "source": [
    "confusion_matrix(y_test1,y_pred1)"
   ]
  },
  {
   "cell_type": "code",
   "execution_count": 66,
   "metadata": {},
   "outputs": [
    {
     "name": "stdout",
     "output_type": "stream",
     "text": [
      "Feature ranking:\n",
      "1. feature 3: SHAPE__Len (0.451512)\n",
      "2. feature 5: VOLTAGE (0.250149)\n",
      "3. feature 0: volt_class_encoded (0.150026)\n",
      "4. feature 4: dist_to_nearest_line (0.133029)\n",
      "5. feature 1: line_count (0.007779)\n",
      "6. feature 2: wind_class (0.007505)\n"
     ]
    },
    {
     "data": {
      "image/png": "[encoded data removed]",
      "text/plain": [
       "<Figure size 432x288 with 1 Axes>"
      ]
     },
     "metadata": {
      "needs_background": "light"
     },
     "output_type": "display_data"
    }
   ],
   "source": [
    "show_feat_importance(rfc,X_train1.drop('geometry',axis='columns'))"
   ]
  },
  {
   "cell_type": "markdown",
   "metadata": {},
   "source": [
    "# It's interesting that the power line data is the most significant to the model."
   ]
  },
  {
   "cell_type": "code",
   "execution_count": 67,
   "metadata": {},
   "outputs": [],
   "source": [
    "X_test_out1 = X_test1.copy(deep=True)\n",
    "X_test_out1 = gpd.GeoDataFrame(X_test_out1)\n",
    "X_test_out1['build_here'] = y_pred1"
   ]
  },
  {
   "cell_type": "code",
   "execution_count": 68,
   "metadata": {},
   "outputs": [
    {
     "data": {
      "text/plain": [
       "(8151, 8)"
      ]
     },
     "execution_count": 68,
     "metadata": {},
     "output_type": "execute_result"
    }
   ],
   "source": [
    "X_test_out1.shape"
   ]
  },
  {
   "cell_type": "code",
   "execution_count": 69,
   "metadata": {},
   "outputs": [
    {
     "data": {
      "text/plain": [
       "1    7550\n",
       "0     601\n",
       "Name: build_here, dtype: int64"
      ]
     },
     "execution_count": 69,
     "metadata": {},
     "output_type": "execute_result"
    }
   ],
   "source": [
    "X_test_out1['build_here'].value_counts()"
   ]
  },
  {
   "cell_type": "code",
   "execution_count": 71,
   "metadata": {},
   "outputs": [],
   "source": [
    "turbines_state = gpd.read_file('./turbines_by_state/turbines_{}.geojson'.format(us_state),driver='GeoJSON')"
   ]
  },
  {
   "cell_type": "code",
   "execution_count": 73,
   "metadata": {},
   "outputs": [],
   "source": [
    "def turbine_color(turbine_class):\n",
    "    if turbine_class == 0:\n",
    "        return 'limegreen'\n",
    "    elif turbine_class == 1:\n",
    "        return 'gold'\n",
    "    elif turbine_class == 2:\n",
    "        return 'orangered'\n",
    "    else:\n",
    "# Blue dots on the map mean shenanigans occurred and we need to investigate\n",
    "        return 'blue'"
   ]
  },
  {
   "cell_type": "code",
   "execution_count": 78,
   "metadata": {},
   "outputs": [
    {
     "data": {
      "text/plain": [
       "<Figure size 432x288 with 0 Axes>"
      ]
     },
     "metadata": {},
     "output_type": "display_data"
    },
    {
     "data": {
      "image/png": "[encoded data removed]",
      "text/plain": [
       "<Figure size 432x288 with 1 Axes>"
      ]
     },
     "metadata": {
      "needs_background": "light"
     },
     "output_type": "display_data"
    }
   ],
   "source": [
    "fig = plt.figure()\n",
    "ax = lower48_borders.loc[lower48_borders['STUSPS'] == us_state].plot(color='whitesmoke',edgecolor='black')\n",
    "X_test_out1.loc[X_test_out1['build_here'] == 1].plot(ax=ax,color='red',alpha=.4)\n",
    "scatter = plt.scatter(turbines_state['xlong'],turbines_state['ylat'],\n",
    "            color=turbines_state['turbine_class'].apply(lambda x: turbine_color(x)),\n",
    "            alpha=.5)"
   ]
  },
  {
   "cell_type": "markdown",
   "metadata": {},
   "source": [
    "## What differentiates good sites from other sites?"
   ]
  },
  {
   "cell_type": "code",
   "execution_count": null,
   "metadata": {},
   "outputs": [],
   "source": []
  },
  {
   "cell_type": "code",
   "execution_count": null,
   "metadata": {},
   "outputs": [],
   "source": []
  },
  {
   "cell_type": "code",
   "execution_count": null,
   "metadata": {},
   "outputs": [],
   "source": []
  },
  {
   "cell_type": "code",
   "execution_count": null,
   "metadata": {},
   "outputs": [],
   "source": []
  },
  {
   "cell_type": "markdown",
   "metadata": {},
   "source": [
    "## Conclusions?"
   ]
  },
  {
   "cell_type": "code",
   "execution_count": null,
   "metadata": {},
   "outputs": [],
   "source": []
  },
  {
   "cell_type": "markdown",
   "metadata": {},
   "source": [
    "## Future work"
   ]
  },
  {
   "cell_type": "code",
   "execution_count": null,
   "metadata": {},
   "outputs": [],
   "source": []
  }
 ],
 "metadata": {
  "kernelspec": {
   "display_name": "Python 3",
   "language": "python",
   "name": "python3"
  },
  "language_info": {
   "codemirror_mode": {
    "name": "ipython",
    "version": 3
   },
   "file_extension": ".py",
   "mimetype": "text/x-python",
   "name": "python",
   "nbconvert_exporter": "python",
   "pygments_lexer": "ipython3",
   "version": "3.6.9"
  }
 },
 "nbformat": 4,
 "nbformat_minor": 2
}
