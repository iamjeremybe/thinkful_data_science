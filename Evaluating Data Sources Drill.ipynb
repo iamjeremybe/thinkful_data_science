{
 "cells": [
  {
   "cell_type": "markdown",
   "metadata": {},
   "source": [
    "### In each of the scenarios, find possible shortcomings of the theoretical or actual data sources to answer the given question. What could be done to either adjust the analysis or reframe the question so that you can answer it accurately?\n",
    "\n",
    "### Data Source: Amsterdam availability data scraped from AirBnB on December 24th. Question: What are the popular neighborhoods in Amsterdam?\n",
    "* This data only represents one day out of the year. \n",
    "* That single day is also Christmas Eve. With families visiting for Christmas, and people on winter vacation, availability is probably not representative of a typical day.\n",
    "#### Gather data for additional days, ideally an entire year at least...?\n",
    "\n",
    "\n",
    "### Data Source: Mental health services use on September 12, 2001 in San Francisco, CA and New York City, NY. Question: How do patterns of mental health service use vary between cities?\n",
    "* Again, this data only represents one day--and only two cities.\n",
    "* Just guessing that this day was VERY stressful for New Yorkers.\n",
    "#### Gather data for a period of time away from an international disaster, and for more cities. Maybe choose a few from \"flyover country\" to even out the coastal bias?\n",
    "\n",
    "\n",
    "### Data Source: Armenian Pub Survey. (https://www.kaggle.com/erikhambardzumyan/pubs) Question: What are the most common reasons Armenians visit local pubs?\n",
    "* Data set skews heavily toward young people (70% students).\n",
    "* Data set heavily favors respondents who live in the capital. (A quick Wikipedia search shows that the capital's population averages ~5+ times that of the other ten Armenian provinces, so maybe this is representative of the country as a whole?)\n",
    "* Data set also favors women, 58% to  42% men. Another quick web search (https://www.indexmundi.com/armenia/demographics_profile.html) states that the population ratio for ages 15-24 (so the overwhelming majority of survey respondents) is 1.06 male. \n",
    "#### Limit the conclusions: the reasons younger, female students living in the capital visit local pubs.\n",
    " "
   ]
  }
 ],
 "metadata": {
  "kernelspec": {
   "display_name": "Python 3",
   "language": "python",
   "name": "python3"
  },
  "language_info": {
   "codemirror_mode": {
    "name": "ipython",
    "version": 3
   },
   "file_extension": ".py",
   "mimetype": "text/x-python",
   "name": "python",
   "nbconvert_exporter": "python",
   "pygments_lexer": "ipython3",
   "version": "3.6.7"
  }
 },
 "nbformat": 4,
 "nbformat_minor": 2
}
