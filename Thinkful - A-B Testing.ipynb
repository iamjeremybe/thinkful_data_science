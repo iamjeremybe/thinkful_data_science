{
 "cells": [
  {
   "cell_type": "markdown",
   "metadata": {},
   "source": [
    "# A/B Testing\n",
    "\n",
    "The components of an A/B test are:\n",
    "\n",
    "1. Two versions of something whose effects will be compared. Typically one version is a \"control version,\" often already in use (or \"no intervention\"), and one is a \"test version,\" which has some changes from the control. That change is often called the treatment. If starting from scratch, however, you may have two different test versions to compare to each other.\n",
    "2. A sample, divided into two groups. Each sample should be selected so that it is similar to the population you want to understand. The groups should be similar to one another so that any differences between them can be attributed to seeing version A or version B and not something else. You also want the split of between A and B to be as random as possible.\n",
    "3. A hypothesis. Your hypothesis is what you expect to happen. For example, \"I expect the HTML email will achieve a higher open and conversion rate than the plain text email.\"\n",
    "4. Outcome(s) of interest. What you expect will change as a result of using version A or version B, and how you will measure that change. This means you have to decide on a key metric, which should capture the effect of your change and reflect the motivations for the test in the first place.\n",
    "5. Other measured variables. This includes information about the two groups that can be used to ensure they are similar, as well as secondary outcomes that are less important than the primary outcomes of interest but which might also change in response to using version A or version B."
   ]
  },
  {
   "cell_type": "markdown",
   "metadata": {},
   "source": [
    "## For each of the following questions, outline how you could use an A/B test to find an answer. Be sure to identify all five key components of an A/B test we outlined above.\n",
    "\n",
    "* Does a new supplement help people sleep better?\n",
    "* Will new uniforms help a gym's business?\n",
    "* Will a new homepage improve my online exotic pet rental business?\n",
    "* If I put 'please read' in the email subject will more people read my emails?\n"
   ]
  },
  {
   "cell_type": "markdown",
   "metadata": {},
   "source": [
    "### Does a new supplement help people sleep better?\n",
    "\n",
    "1. The control version is no supplement; test version is the supplement.\n",
    "\n",
    "2. The sample groups would be divided based on who took the supplement before going to sleep, and who didn't (or who took a placebo). To help reduce the differences between groups, use a single pool of test subjects tested over two nights--the supplement one night, the placebo the other (with the subject not knowing which was which). The order in which the trials are carried out (supplement/placebo or vice versa) should be randomized for each subject as well, making it harder for them to guess what they took and hopefully reducing any biased reporting of results.\n",
    "\n",
    "3. The hypothesis is that the supplement does help people sleep better. I'm curious about what is intended by \"better\": better in terms of actual hours in some restful sleep state, maybe? (For example, Stage 3 in this [Stages of Sleep](https://www.tuck.com/stages/) guide.)\n",
    "\n",
    "4. Outcomes--the key metric to measure here would be the amount of time spent in the most restful state(s) of sleep. Other outcomes: overall length of sleep cycle, amount of time spent in other sleep states (or awake). One further measurement: a mid-morning followup survey to see how the test subjects feel about the quality of sleep they got during the test? (This is the reporting that could become biased if the subject knew whether or not they took the supplement.)\n",
    "\n",
    "5. Each subject's individual health history would be important--factors that affect sleep may also be present (sleep apnea for instance). Age, sex, amount of exercise, alcohol or caffeine consumption (or other drugs) may affect sleep cycles and quality of sleep. In addition to surveying the participants up front, their current sleep quality should be measured either before testing, or maybe during (one night of placebo, one night of supplement, so each subject can also serve as a control for themselves?). "
   ]
  },
  {
   "cell_type": "markdown",
   "metadata": {},
   "source": [
    "### Will new uniforms help a gym's business?\n",
    "\n",
    "1. Employees wearing the current uniforms are one version. The test version is employees wearing new uniforms. In order for the uniforms to be the main difference, the same employees should be seen wearing both the current and new uniforms during their shifts. (This reduces the chances that employees' personal appearances or personalities are an influence.)\n",
    "\n",
    "2. The two sample groups, then, would be visitors (gym members and potential new members?) who see employees in both current and new uniforms. To reduce other factors, the response of each group should be measured over a similar period of time, at similar times of day, ideally during similar points in the year, when people's routines aren't interrupted by major holidays, spring or summer breaks, or other scheduled events. Regular gym members probably have a routine and show up at the same time(s) each week, which will be helpful. The randomness of potential new members' appearances would have to be dealt with...?\n",
    "\n",
    "3. The hypothesis: the new uniforms \"help business\" (in terms of new member signups? Current members engaging more--maybe signing up for personal training, or additional paid classes or services?)\n",
    "\n",
    "4. The outcome of interest is an improvement in whichever metric we choose--more new member signups, higher number of paid classes or training taken/services used.\n",
    "\n",
    "5. Other things to measure would be members' frequency of visits. I originally considered suggesting this as a key metric, but if members pay a flat fee, more visits per period doesn't translate into \"better\" business, just a higher number of member visits. However, if the gym is strictly pay-as-you-go (are there any gyms like this?) then frequency could absolutely be a key metric."
   ]
  },
  {
   "cell_type": "markdown",
   "metadata": {},
   "source": [
    "### Will a new homepage improve my exotic pet rental business?\n",
    "\n",
    "\n",
    "1. One version is the existing page, unaltered. The test version is the new homepage.\n",
    "\n",
    "2. Visitors to the homepage need to be split into two groups, each viewing either the old or the new site. They could be randomly directed to either the old site, or the new. However, I'm debating how much this would be accepted by returning users--they may be put off by the sudden appearance of a new site, and would happily take an option to return to the old one for the duration of their visit. Annoying a repeat customer with sudden changes may result in that customer looking elsewhere. (Is the exotic pet rental business competitive? Maybe I need to look into this...)<br>As a compromise, maybe we allow visitors to choose to visit the new site--I see this option when browsing, often labeled \"get a sneak peek of our new site!\" or \"try our new website and let us know about your experience\". This favors users with the time and inclination to try out an unfamiliar site, so it's not as random. However, this gives the user the choice, which may be seen more favorably than an unfamiliar site popping up in their browser.\n",
    "\n",
    "3. The hypothesis: the new homepage improves business.\n",
    "\n",
    "4. Outcomes: More visits to the site end in a pet rental. \n",
    "\n",
    "5. Secondary outcomes: The number of rental inquiries (phone or email) are the next closest thing to actual rentals--these are from customers who are thinking seriously enough about renting an exotic pet to reach out. If the old and new websites have a persistent \"shopping cart\", track shopping cart use vs. abandonment (hopefully abandonment happens less often on the new site). Additional outcomes: tracking user engagement--how often they visit, how long they stay, how much they browse, with the caveat that these metrics don't necessarily result in sales. If this kind of engagement is measured, figure in a \"breaking in\" period where a lot of customers will spend more time browsing the new site up front to understand how it works.<br>How about tracking the number of times the site's URL is shared on social media? This would require the old and new sites to have separate URLs so we can see that it is the new site specifically that is being shared. If the new site is shared more often, that is at least some measure of interest."
   ]
  },
  {
   "cell_type": "markdown",
   "metadata": {},
   "source": [
    "### If I put 'please read' in the email subject will more people read my emails?\n",
    "\n",
    "1. An email with a subject line that does not include the phrase \"please read\", vs. an email with \"please read\" in its subject.\n",
    "\n",
    "2. Choosing a truly random mix of email addresses for each email will be the interesting part. Is this experiment aimed at people the experimenter knows? I'm not sure how many people I still know who would open an email from an unknown person or company because it says \"please read\" in the subject line, or how many of these emails would even make it past a decent spam filter to a person's inbox in the first place. :) But sure, there are all kinds of random email list generators online--let's pick one, generate a large, random list, and split that list in half to represent each group.\n",
    "\n",
    "3. The hypothesis: more people will read the email with \"please read\" in the subject line.\n",
    "\n",
    "4. Outcome: The \"please read\" emails are read more often. I feel like it would be good for some kind of passive measurement here--something embedded in the message body of both the \"please read\" email and its non-pleasing counterpart, whose views can be tracked--say, an image with a unique URL.\n",
    "\n",
    "5. Other measured variables: maybe measure further engagement, like how many readers clicked on links in the two emails, or replied to the two emails?"
   ]
  }
 ],
 "metadata": {
  "kernelspec": {
   "display_name": "Python 3",
   "language": "python",
   "name": "python3"
  },
  "language_info": {
   "codemirror_mode": {
    "name": "ipython",
    "version": 3
   },
   "file_extension": ".py",
   "mimetype": "text/x-python",
   "name": "python",
   "nbconvert_exporter": "python",
   "pygments_lexer": "ipython3",
   "version": "3.6.7"
  }
 },
 "nbformat": 4,
 "nbformat_minor": 2
}
