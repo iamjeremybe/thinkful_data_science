{
 "cells": [
  {
   "cell_type": "markdown",
   "metadata": {},
   "source": [
    "For each of the following scenarios, call out the potential biases in the proposed experiment. Do your best to try to discover not only the bias, but the initial design. There is plenty of room for interpretation here, so make sure to state what assumptions you're making."
   ]
  },
  {
   "cell_type": "markdown",
   "metadata": {},
   "source": [
    "## You're testing advertising emails for a bathing suit company and you test one version of the email in February and the other in May.\n",
    "\n",
    "Assumptions: we're talking about two email tests based on addresses for customers in the continental US, but are otherwise randomly selected. \n",
    "\n",
    "I am also assuming that the May campaign received a better response than the February campaign. For much of the country, the temperatures are much warmer in May than in February. \n",
    "\n",
    "People looking for swimsuits in February likely live in a warm enough area to consider a swimsuit (Florida, southern CA), or are planning to visit a warm place soon. If it's the latter, then those customers have the means to travel a decent distance to get to that warm place, and the ability to take time off work. Or they're students getting ready for spring break...?\n",
    "\n",
    "In May, much more of the country is experiencing warmer weather, or that warm weather is close enough in the forecast to consider a swimsuit purchase, no travel plans necessary."
   ]
  },
  {
   "cell_type": "markdown",
   "metadata": {},
   "source": [
    "## You open a clinic to treat anxiety and find that the people who visit show a higher rate of anxiety than the general population.\n",
    "\n",
    "I bet there are a lot of baseball fans at baseball games too. :)\n",
    "\n",
    "More seriously--depending on how anxiety is being measured, do we know this isn't a case of [white coat syndrome](https://www.ncbi.nlm.nih.gov/pmc/articles/PMC4427265/)? How do these patients describe their anxiety levels away from the clinic?\n",
    "\n",
    "Another take: what factors contribute to a diagnosis of anxiety? Are these factors objective, or is the observer here seeing these factors because they want to find and treat patients suffering from anxiety? Were these patients referred? Have they sought out a second opinion elsewhere?\n",
    "\n",
    "This could be a fair conclusion if the patients' anxiety levels are measured via some objective means, and if separate, unrelated observations (also using objective measurements) reach the same diagnosis."
   ]
  },
  {
   "cell_type": "markdown",
   "metadata": {},
   "source": [
    "## You launch a new ad billboard based campaign and see an increase in website visits in the first week.\n",
    "\n",
    "Do we know that the increased visits are actually related to the billboard campaign? Was the billboard campaign set up to drive customers to the website specifically?\n",
    "\n",
    "I'm picturing maybe a billboard with a QR code, that takes customers to a web page specific to the campaign--if something like that is driving the increase in website traffic, great! (Let's hope that it is a billboard in a place where people who are expected to capture this QR code are not driving.)\n",
    "\n",
    "This billboard assumes people are tech-savvy enough to understand what to do with a QR code, have a smartphone capable of reading the QR code, and have the time to stop in front of the billboard long enough to capture the code and follow the link. Even if the general population can view this billboard, not all of them will meet these criteria.\n",
    "\n",
    "Without a QR code, people are either following a URL given on the billboard, or they are searching for (and finding) this business online, after seeing the billboard. (That must be a _really_ compelling billboard.)\n",
    "\n",
    "The location of the billboard introduces another kind of bias. Only people who are near this billboard are going to be able to view it and capture the QR code or URL. Depending on the target market, this could be ideal (near a college campus, outside of a shopping mall, outside a theater, at a transit station).\n",
    "\n",
    "Do those visits translate into increased business as well, or just window shopping? Are increased visits the key metric for the campaign?"
   ]
  },
  {
   "cell_type": "markdown",
   "metadata": {},
   "source": [
    "## You launch a loyalty program but see no change in visits in the first week.\n",
    "\n",
    "This isn't a promotion to attract new customers, but to reward current customers. I'm guessing it's the standard \"buy X items, get something free\"?\n",
    "\n",
    "What is the product or service offered by this business? Is that product/service purchased frequently? More than once per week? Maybe the loyalty program just hasn't run long enough to give customers a chance to take full advantage of it.\n",
    "\n",
    "Or is this simply a product that people aren't going to buy more of, even given some incentive? For example, a coffee shop may see consistent visitors with or without a loyalty program--people want their morning cup as they head to work, and this business is their routine morning stop for whatever reasons (convenience, price, flavor, friendly staff). They're not going to change their buying habits because of a loyalty program, but will gladly take that 10th cup free after buying a cup on the nine previous weekdays.\n",
    "\n",
    "Is traffic for this business cyclical, in cycles longer than one week, and the timing of the loyalty program's launch coincided with a relatively stable point of that cycle? \n",
    "\n",
    "By \"no change in visits\", are these website visits, or visits to a physical business? If it's a physical location, does the location have something to do with the pattern of visits?--is this business located near a recreational area (beach, park, tourist attraction) that is the primary driver of foot traffic to the area, and that attraction's traffic has been affected by some other factor or event (construction, closing due to weather, or the end of a season)?"
   ]
  }
 ],
 "metadata": {
  "kernelspec": {
   "display_name": "Python 3",
   "language": "python",
   "name": "python3"
  },
  "language_info": {
   "codemirror_mode": {
    "name": "ipython",
    "version": 3
   },
   "file_extension": ".py",
   "mimetype": "text/x-python",
   "name": "python",
   "nbconvert_exporter": "python",
   "pygments_lexer": "ipython3",
   "version": "3.6.7"
  }
 },
 "nbformat": 4,
 "nbformat_minor": 2
}
