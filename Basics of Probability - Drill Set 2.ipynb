{
 "cells": [
  {
   "cell_type": "markdown",
   "metadata": {},
   "source": [
    "# Bayes' Rule:\n",
    "## P(A|B) = P(B|A) * P(A) / P(B)\n",
    "### or \n",
    "## P(A | B) = P(B | A) * P(A) / [P(A)*P(B|A) + P(A~)*P(B|A~)]\n",
    "\n",
    "\n",
    "A diagnostic test has a 98% probability of giving a positive result when applied to a person suffering from Thripshaw's Disease, and 10% probability of giving a (false) positive when applied to a non-sufferer. It is estimated that 0.5 % of the population are sufferers. Suppose that the test is now administered to a person whose disease status is unknown. Calculate the probability that the test will:\n",
    "\n",
    "1. Be positive\n",
    "2. Correctly diagnose a sufferer of Thripshaw's\n",
    "3. Correctly identify a non-sufferer of Thripshaw's\n",
    "4. Misclassify the person"
   ]
  },
  {
   "cell_type": "markdown",
   "metadata": {},
   "source": [
    "## 1. \n",
    "A positive result--so the test was given to a member of the .5% of the population who suffer, and the results are within the 98% that correctly diagnose a sufferer.\n",
    "Or, the test was given to someone in the remaining 99.5% of the population, and we are seeing a case of the 10% of false positives.\n",
    "\n",
    "Following the lesson's lead--I will plug in some real numbers to help me out. In a population of 1 million people, the number of infected vs. uninfected would be:\n",
    ".5% infected = 5,000\n",
    "99.5% uninfected = 995,000\n",
    "\n",
    "The test will correctly identify 98% of those 5,000 as being infected = 4,900 (100 infected and not diagnosed by the test).\n",
    "The test will incorrectly identify 10% of the 995,000 as being infected = 99,500 (895,500 uninfected and receiving a negative test result).\n",
    "\n",
    "### P(positive result) = (4,900 + 99,500) / 1,000,000 = 10.44%\n",
    "NOTE: I'm not explicitly using Bayes' Rule here. Is there a way to apply it? If so, I had trouble understanding how to define what A and B represent in this case. \n",
    "I get the sense I'm sooooort of applying it, finding P(positive result | population)...is that right?\n",
    "\n",
    "#### Correct solution!\n",
    "\n",
    "## 2.\n",
    "Correctly diagnose a sufferer of Thripshaw's--so, a sufferer, given a positive result. Or:\n",
    "P(sufferer | positive result) = P(positive result | sufferer) * P(sufferer) / P(positive result)\n",
    "where P(positive result | sufferer) = 98%\n",
    "P(sufferer) = .5%\n",
    "P(positive result) = 10.44% (see #1 above)\n",
    "\n",
    "### P(sufferer | positive result) = 98% * .5% / 10.44% = 4.6935%\n",
    "This is shockingly low, but possibly correct given the really high number of false positives and tiny population of sufferers?\n",
    "\n",
    "#### The solution says this is simply 98%. I definitely overthought this one.\n",
    "\n",
    "\n",
    "## 3. \n",
    "Correctly identify a non-sufferer of Thripshaw's--an uninfected person, given a negative result. Or:\n",
    "* P(non-sufferer | negative result) = P(negative result | non-sufferer) * P(non-sufferer) / P(negative result)\n",
    "where P(negative result | non-sufferer) = 90%\n",
    "* P(non-sufferer) = 99.5%\n",
    "* P(negative result) = (100 + 895,500) / 1,000,000 = 89.56% (lines up nicely with 10.44% total positive result)\n",
    "\n",
    "### P(uninfected | negative result) = 90% * 99.5% / 89.56% = 99.9888%\n",
    "Probably also correct, since the number of actual sufferers is such a tiny part of the population.\n",
    "\n",
    "#### I think this is correct...? The solution simply says \".9\".\n",
    "\n",
    "## 4. \n",
    "Misclassified--a negative result for an infected person, OR a positive result for an uninfected person.\n",
    "\n",
    "Again, I'm not sure how to apply Bayes' Rule here. My best shot at figuring out probability of a misclassification would be to look at the numbers I played with in #1 above, and add up:\n",
    "* The number of infected people who got a negative test result (100 out of 1 million)\n",
    "* The number of uninfected people who got a false positive (99,500 out of 1 million)\n",
    "\n",
    "### P(misclassified) = (99,500 + 100) / 1,000,000 = 9.96%\n",
    "\n",
    "#### Correct solution!"
   ]
  }
 ],
 "metadata": {
  "kernelspec": {
   "display_name": "Python 3",
   "language": "python",
   "name": "python3"
  },
  "language_info": {
   "codemirror_mode": {
    "name": "ipython",
    "version": 3
   },
   "file_extension": ".py",
   "mimetype": "text/x-python",
   "name": "python",
   "nbconvert_exporter": "python",
   "pygments_lexer": "ipython3",
   "version": "3.6.7"
  }
 },
 "nbformat": 4,
 "nbformat_minor": 2
}
