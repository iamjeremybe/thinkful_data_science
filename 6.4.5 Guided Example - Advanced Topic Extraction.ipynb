{
 "cells": [
  {
   "cell_type": "code",
   "execution_count": 1,
   "metadata": {},
   "outputs": [],
   "source": [
    "import numpy as np\n",
    "import pandas as pd\n",
    "import scipy\n",
    "import matplotlib.pyplot as plt\n",
    "import seaborn as sns\n",
    "\n",
    "from nltk.corpus import gutenberg\n",
    "import re\n",
    "from sklearn.feature_extraction.text import TfidfVectorizer\n",
    "\n",
    "from sklearn.decomposition import TruncatedSVD\n",
    "from sklearn.pipeline import make_pipeline\n",
    "from sklearn.preprocessing import Normalizer\n",
    "from sklearn.decomposition import LatentDirichletAllocation as LDA\n",
    "from sklearn.decomposition import NMF\n",
    "\n",
    "import os\n",
    "from os import walk\n",
    "\n",
    "%matplotlib inline"
   ]
  },
  {
   "cell_type": "code",
   "execution_count": 2,
   "metadata": {},
   "outputs": [],
   "source": [
    "# Linking words to topics\n",
    "def word_topic(tfidf,solution, wordlist):\n",
    "    \n",
    "    # Loading scores for each word on each topic/component.\n",
    "    words_by_topic=tfidf.T * solution\n",
    "\n",
    "    # Linking the loadings to the words in an easy-to-read way.\n",
    "    components=pd.DataFrame(words_by_topic,index=wordlist)\n",
    "    \n",
    "    return components\n",
    "\n",
    "# Extracts the top N words and their loadings for each topic.\n",
    "def top_words(components, n_top_words):\n",
    "    n_topics = range(components.shape[1])\n",
    "    index= np.repeat(n_topics, n_top_words, axis=0)\n",
    "    topwords=pd.Series(index=index)\n",
    "    for column in range(components.shape[1]):\n",
    "        # Sort the column so that highest loadings are at the top.\n",
    "        sortedwords=components.iloc[:,column].sort_values(ascending=False)\n",
    "        # Choose the N highest loadings.\n",
    "        chosen=sortedwords[:n_top_words]\n",
    "        # Combine loading and index into a string.\n",
    "        chosenlist=chosen.index +\" \"+round(chosen,2).map(str) \n",
    "        topwords.loc[column]=[x for x in chosenlist]\n",
    "    return(topwords)\n",
    "\n",
    "# Number of words to look at for each topic.\n",
    "n_top_words = 10"
   ]
  },
  {
   "cell_type": "markdown",
   "metadata": {},
   "source": [
    "# Comparing LSA, LDA, and NNMF\n",
    "\n",
    "Now that you've been introduced to the logic behind these three topic extraction methods, we're going to try them out on the *Emma* corpus.  We'll be looking at interpretability, speed, and consistency across methods.  The goal is to identify common themes in *Emma* on a per-paragraph basis.  We won't be using pLSA as sklearn does not support it.\n",
    "\n",
    "To do this, we will:\n",
    "\n",
    "1. Parse and process the data into a tf-idf matrix.\n",
    "2. Fit LSA, LDA, and NNMF models with 5 topics each.\n",
    "4. Extract the words that best describe each topic.\n",
    "5. Examine the topic relationships for the words 'marriage', 'love', and 'Emma.'\n",
    "\n",
    "## Generating the tfidf matrix"
   ]
  },
  {
   "cell_type": "code",
   "execution_count": null,
   "metadata": {},
   "outputs": [],
   "source": [
    "# Processing the data.\n",
    "\n",
    "from nltk.corpus import gutenberg\n",
    "import re\n",
    "from sklearn.feature_extraction.text import TfidfVectorizer\n",
    "\n",
    "\n",
    "#reading in the data, this time in the form of paragraphs\n",
    "emma=gutenberg.paras('austen-emma.txt')\n",
    "#processing\n",
    "emma_paras=[]\n",
    "for paragraph in emma:\n",
    "    para=paragraph[0]\n",
    "    #removing the double-dash from all words\n",
    "    para=[re.sub(r'--','',word) for word in para]\n",
    "    #Forming each paragraph into a string and adding it to the list of strings.\n",
    "    emma_paras.append(' '.join(para))\n",
    "\n",
    "# Creating the tf-idf matrix.\n",
    "vectorizer = TfidfVectorizer(stop_words='english')\n",
    "emma_paras_tfidf=vectorizer.fit_transform(emma_paras)\n",
    "\n",
    "# Getting the word list.\n",
    "terms = vectorizer.get_feature_names()\n",
    "\n",
    "# Number of topics.\n",
    "ntopics=5"
   ]
  },
  {
   "cell_type": "markdown",
   "metadata": {},
   "source": [
    "In addition to creating the tfidf matrix, there are two convenience functions that will help keep the code tidy when comparing models.  The first provides a list of the words that are paired with each topic.  The second gives us the best words for each topic so we can compare across methods.\n",
    "\n",
    "## Fitting the three topic extraction models"
   ]
  },
  {
   "cell_type": "code",
   "execution_count": 98,
   "metadata": {},
   "outputs": [],
   "source": [
    "# LSA\n",
    "\n",
    "from sklearn.decomposition import TruncatedSVD\n",
    "from sklearn.pipeline import make_pipeline\n",
    "from sklearn.preprocessing import Normalizer\n",
    "\n",
    "svd= TruncatedSVD(ntopics)\n",
    "lsa = make_pipeline(svd, Normalizer(copy=False))\n",
    "emma_paras_lsa = lsa.fit_transform(emma_paras_tfidf)\n",
    "\n",
    "components_lsa = word_topic(emma_paras_tfidf, emma_paras_lsa, terms)\n",
    "\n",
    "topwords=pd.DataFrame()\n",
    "topwords['LSA']=top_words(components_lsa, n_top_words)                \n"
   ]
  },
  {
   "cell_type": "code",
   "execution_count": 99,
   "metadata": {},
   "outputs": [],
   "source": [
    "# LDA\n",
    "from sklearn.decomposition import LatentDirichletAllocation as LDA\n",
    "\n",
    "lda = LDA(n_components=ntopics, #<--I had to change this from \"n_topics\" because that generated an error: TypeError: __init__() got an unexpected keyword argument 'n_topics'\n",
    "          doc_topic_prior=None, # Prior = 1/n_documents\n",
    "          topic_word_prior=1/ntopics,\n",
    "          learning_decay=0.7, # Convergence rate.\n",
    "          learning_offset=10.0, # Causes earlier iterations to have less influence on the learning\n",
    "          max_iter=10, # when to stop even if the model is not converging (to prevent running forever)\n",
    "          evaluate_every=-1, # Do not evaluate perplexity, as it slows training time.\n",
    "          mean_change_tol=0.001, # Stop updating the document topic distribution in the E-step when mean change is < tol\n",
    "          max_doc_update_iter=100, # When to stop updating the document topic distribution in the E-step even if tol is not reached\n",
    "          n_jobs=-1, # Use all available CPUs to speed up processing time.\n",
    "          verbose=0, # amount of output to give while iterating\n",
    "          random_state=0\n",
    "         )\n",
    "\n",
    "emma_paras_lda = lda.fit_transform(emma_paras_tfidf) \n",
    "\n",
    "components_lda = word_topic(emma_paras_tfidf, emma_paras_lda, terms)\n",
    "\n",
    "topwords['LDA']=top_words(components_lda, n_top_words)\n"
   ]
  },
  {
   "cell_type": "code",
   "execution_count": 100,
   "metadata": {},
   "outputs": [],
   "source": [
    "# NNMF\n",
    "\n",
    "from sklearn.decomposition import NMF\n",
    "\n",
    "nmf = NMF(alpha=0.0, \n",
    "          init='nndsvdar', # how starting value are calculated\n",
    "          l1_ratio=0.0, # Sets whether regularization is L2 (0), L1 (1), or a combination (values between 0 and 1)\n",
    "          max_iter=200, # when to stop even if the model is not converging (to prevent running forever)\n",
    "          n_components=ntopics, \n",
    "          random_state=0, \n",
    "          solver='cd', # Use Coordinate Descent to solve\n",
    "          tol=0.0001, # model will stop if tfidf-WH <= tol\n",
    "          verbose=0 # amount of output to give while iterating\n",
    "         )\n",
    "emma_paras_nmf = nmf.fit_transform(emma_paras_tfidf) \n",
    "\n",
    "components_nmf = word_topic(emma_paras_tfidf, emma_paras_nmf, terms)\n",
    "\n",
    "topwords['NNMF']=top_words(components_nmf, n_top_words)"
   ]
  },
  {
   "cell_type": "markdown",
   "metadata": {},
   "source": [
    "We are mostly using the default settings for each method, but explicitly printing them so it is clear what is going on and how each model can be modified.  sklearn has such nice parallel structure for its various topic extraction methods that we could probably have abstracted the code even further."
   ]
  },
  {
   "cell_type": "markdown",
   "metadata": {},
   "source": [
    "# Inspecting the topics\n",
    "\n",
    "For each topic, we list the ten most-relevant words according to each method:"
   ]
  },
  {
   "cell_type": "code",
   "execution_count": 101,
   "metadata": {
    "scrolled": true
   },
   "outputs": [
    {
     "name": "stdout",
     "output_type": "stream",
     "text": [
      "Topic 0:\n",
      "              LSA            LDA             NNMF\n",
      "0        oh 97.61     emma 13.08         oh 30.12\n",
      "0        yes 4.84  harriet 12.82         yes 0.52\n",
      "0      thank 1.64       mr 11.55       sorry 0.16\n",
      "0  difference 1.6     said 10.09  difference 0.15\n",
      "0       just 1.44        oh 9.99        just 0.12\n",
      "0    harriet 1.33     think 9.47        papa 0.12\n",
      "0      sorry 1.28       mrs 8.98        week 0.11\n",
      "0      short 1.18   chapter 8.69       short 0.11\n",
      "0       papa 1.15     quite 7.81    recollect 0.1\n",
      "0      cried 1.02      miss 7.09      letter 0.09\n",
      "Topic 1:\n",
      "             LSA          LDA            NNMF\n",
      "1       mr 58.21     oh 58.33         mr 7.29\n",
      "1     emma 57.99   emma 19.35        mrs 4.26\n",
      "1      said 50.3   said 14.65      elton 3.41\n",
      "1      mrs 47.06    mrs 14.43  knightley 3.24\n",
      "1     miss 37.72     mr 14.17     weston 3.15\n",
      "1  harriet 35.18    yes 14.03       miss 2.99\n",
      "1   weston 32.18    did 10.82  woodhouse 2.09\n",
      "1     elton 28.2    miss 9.53       said 1.88\n",
      "1      did 27.61  weston 8.61    fairfax 1.84\n",
      "1    think 27.45    time 8.39       emma 1.47\n",
      "Topic 2:\n",
      "             LSA             LDA           NNMF\n",
      "2       ah 31.15         ah 18.5       ah 12.89\n",
      "2      sure 3.59        mr 12.56      sure 0.35\n",
      "2       say 1.06   chapter 12.51   believe 0.18\n",
      "2   believe 0.83      emma 11.42       say 0.18\n",
      "2     sorry 0.82      miss 10.08     shake 0.09\n",
      "2      hands 0.5        oh 10.01     hands 0.09\n",
      "2      shake 0.5       said 9.11     sorry 0.09\n",
      "2  grievous 0.44    harriet 8.99  grievous 0.08\n",
      "2      dear 0.41  woodhouse 6.99      come 0.07\n",
      "2     spring 0.4       sure 6.92    taylor 0.07\n",
      "Topic 3:\n",
      "             LSA           LDA           NNMF\n",
      "3  chapter 33.91    emma 11.19  chapter 10.46\n",
      "3        iii 3.2       oh 9.84       iii 0.68\n",
      "3         ii 3.2     said 8.58        ii 0.68\n",
      "3     xviii 2.52       mr 8.03       vii 0.66\n",
      "3      viii 2.52     miss 6.74        xv 0.66\n",
      "3       xiv 2.52     good 5.36       xvi 0.66\n",
      "3        ix 2.52      did 5.21      xvii 0.66\n",
      "3      xiii 2.52    shall 5.13     xviii 0.66\n",
      "3       xii 2.52  harriet 5.03       xii 0.66\n",
      "3        xi 2.52  fairfax 4.66        xi 0.66\n",
      "Topic 4:\n",
      "             LSA             LDA          NNMF\n",
      "4     emma 41.54        mr 26.17     emma 9.27\n",
      "4     dear 24.06       emma 22.1     said 5.84\n",
      "4     said 20.67      said 16.89     dear 3.52\n",
      "4  harriet 17.27       mrs 15.29  harriet 2.89\n",
      "4      yes 16.08      dear 14.38      yes 2.29\n",
      "4      sure 12.5     elton 13.73    think 1.74\n",
      "4     miss 11.35    weston 12.55       mr 1.69\n",
      "4     shall 9.82  knightley 11.5      say 1.52\n",
      "4       jane 9.3         oh 9.82    thing 1.32\n",
      "4     think 8.77        true 9.0     sure 1.27\n"
     ]
    }
   ],
   "source": [
    "for topic in range(ntopics):\n",
    "    print('Topic {}:'.format(topic))\n",
    "    print(topwords.loc[topic])\n",
    "    "
   ]
  },
  {
   "cell_type": "markdown",
   "metadata": {},
   "source": [
    "A number of things are clear.  First, some topics are shared, though the order of topics varies- the 'oh' topic is first for LSA and NNMF, but second for LDA.  And second, the content of some of the topics varies considerably across methods.  This is a clear argument for using multiple methods when exploring topics.\n",
    "\n",
    "# Sparsity\n",
    "\n",
    "Now let's examine sparsity by looking at the distributions of loadings for the words 'marriage', 'love', 'emma', and 'oh' across the methods:"
   ]
  },
  {
   "cell_type": "code",
   "execution_count": 102,
   "metadata": {
    "code_folding": [
     3
    ]
   },
   "outputs": [
    {
     "data": {
      "image/png": "[encoded data removed]",
      "text/plain": [
       "<Figure size 432x288 with 1 Axes>"
      ]
     },
     "metadata": {},
     "output_type": "display_data"
    },
    {
     "data": {
      "image/png": "[encoded data removed]",
      "text/plain": [
       "<Figure size 432x288 with 1 Axes>"
      ]
     },
     "metadata": {},
     "output_type": "display_data"
    },
    {
     "data": {
      "image/png": "[encoded data removed]",
      "text/plain": [
       "<Figure size 432x288 with 1 Axes>"
      ]
     },
     "metadata": {},
     "output_type": "display_data"
    },
    {
     "data": {
      "image/png": "[encoded data removed]",
      "text/plain": [
       "<Figure size 432x288 with 1 Axes>"
      ]
     },
     "metadata": {},
     "output_type": "display_data"
    }
   ],
   "source": [
    "# The words to look at.\n",
    "targetwords=['marriage','love','emma','oh']\n",
    "\n",
    "# Storing the loadings.\n",
    "wordloadings=pd.DataFrame(columns=targetwords)\n",
    "\n",
    "# For each word, extracting and string the loadings for each method.\n",
    "for word in targetwords:\n",
    "    loadings=components_lsa.loc[word].append(\n",
    "        components_lda.loc[word]).append(\n",
    "            components_nmf.loc[word])\n",
    "    wordloadings[word]=loadings\n",
    "\n",
    "# Labeling the data by method and providing an ordering variable for graphing purposes. \n",
    "wordloadings['method']=np.repeat(['LSA','LDA','NNMF'], 5, axis=0)\n",
    "wordloadings['loading']=[0,1,2,3,4]*3\n",
    "\n",
    "sns.set(style=\"darkgrid\")\n",
    "\n",
    "for word in targetwords:\n",
    "    sns.barplot(x=\"method\", y=word, hue=\"loading\", data=wordloadings)\n",
    "    plt.title(word)\n",
    "    plt.ylabel(\"\")\n",
    "    plt.show()\n"
   ]
  },
  {
   "cell_type": "markdown",
   "metadata": {},
   "source": [
    "LSA is the method most likely to have high loadings on more than one topic for the same word.  LDA tends to have one high loading and some lower loadings.  Loadings for NNMF are lower all around, and the most sparse, with some of the topics having loadings of zero on each word.\n",
    "\n",
    "# Challenge: Topic extraction on new data\n",
    "\n",
    "### Take the well-known [20 newsgroups](http://qwone.com/~jason/20Newsgroups/) dataset and use each of the methods on it.  Your goal is to determine which method, if any, best reproduces the topics represented by the newsgroups.  Write up a report where you evaluate each method in light of the 'ground truth'- the known source of each newsgroup post.  Which works best, and why do you think this is the case?\n",
    "\n"
   ]
  },
  {
   "cell_type": "markdown",
   "metadata": {
    "collapsed": true
   },
   "source": [
    "First: I needed an external source to make sense of Latent Dirichlet Allocation. [This one wasn't bad](https://towardsdatascience.com/light-on-math-machine-learning-intuitive-guide-to-latent-dirichlet-allocation-437c81220158).\n",
    "\n",
    "I grabbed the copy of the newsgroup dataset where the headers have been stripped, except for \"from\" and \"subject\" lines, which I will also pare down because otherwise I suspect the words \"from\" and \"subject\" will end up skewing the results.\n",
    "\n",
    "The metadata for the newsgroup dataset has already split the posts into six categories. They are not named, but based on the newsgroup names, they are roughly:\n",
    "\n",
    "* Computers (computer hardware specifically?)\n",
    "* Sports and Motorsports\n",
    "* Science and Technology\n",
    "* Items for Sale\n",
    "* Politics\n",
    "* Religion\n",
    "\n",
    "I'm already a little concerned about how easy it's going to be to tell Computer posts from Science/Tech posts. But let's see."
   ]
  },
  {
   "cell_type": "code",
   "execution_count": 45,
   "metadata": {},
   "outputs": [],
   "source": [
    "# Number of newsgroup topics.\n",
    "ng_topics=6"
   ]
  },
  {
   "cell_type": "code",
   "execution_count": 46,
   "metadata": {},
   "outputs": [],
   "source": [
    "# Utility function for standard text cleaning.\n",
    "def text_cleaner(text):\n",
    "# Newsgroup posters have fancy ASCII signatures (ahh, the late 80s/early 90s).\n",
    "# Obliterate all of the repetitive punctuation that typifies them.\n",
    "    text = re.sub(r'[-+=~_/\\\\|\\^%:\\.]{2,}',' ',text)\n",
    "# Remove From lines, and the word \"Subject: \" when it is at the beginning of a line\n",
    "    text = re.sub(r'^From.*',' ',text)\n",
    "    text = re.sub(r'Subject:\\s*',' ',text)\n",
    "# Remove \"words\" that are nothing but spaces and digits, possibly with embedded parenthesis and dashes\n",
    "#    text = re.sub(r'\\s*[\\(\\)0-9]+\\s*', '', text,flags=re.M)\n",
    "# (This was a poorly-written rule that ended up eating strings of digits that provided useful information/context)\n",
    "\n",
    "    text = \" \".join(text.split())\n",
    "    return text"
   ]
  },
  {
   "cell_type": "markdown",
   "metadata": {},
   "source": [
    "os.walk returns a 3-tuple of path, directory names found under path, file names found under path.\n",
    "\n",
    "Because walk's default is top-down traversal, index 0 is the top-level directory--the rest of the list represents the subdirectories containing the files we care about."
   ]
  },
  {
   "cell_type": "code",
   "execution_count": 47,
   "metadata": {},
   "outputs": [],
   "source": [
    "ng_text = []\n",
    "ng_name = []\n",
    "idx = 0\n",
    "for dirpath, dirlist, filelist in list(walk('/home/jeremy/Documents/Jupyter/20news-18828/'))[1:]:\n",
    "    this_dir = list(walk('/home/jeremy/Documents/Jupyter/20news-18828/'))[0][1][idx]\n",
    "    for filename in filelist:\n",
    "# Read in each file as a new document in ng_posts.\n",
    "        with open(os.path.join(dirpath, filename),encoding='ISO-8859-1') as f:\n",
    "            contents = f.read()\n",
    "            ng_text.append(contents)\n",
    "            ng_name.append(this_dir)\n",
    "    idx += 1"
   ]
  },
  {
   "cell_type": "code",
   "execution_count": 48,
   "metadata": {},
   "outputs": [],
   "source": [
    "# I want to create a dataframe to store the text and the source newsgroup.\n",
    "# I did this so we can use it to check my work--\n",
    "#  see whether the topic for each post was correctly deduced.\n",
    "ng_posts_df = pd.DataFrame(columns=['text','newsgroup'])\n",
    "ng_posts_df['text'] = ng_text\n",
    "ng_posts_df['newsgroup'] = ng_name"
   ]
  },
  {
   "cell_type": "code",
   "execution_count": 49,
   "metadata": {},
   "outputs": [
    {
     "data": {
      "text/html": [
       "<div>\n",
       "<style scoped>\n",
       "    .dataframe tbody tr th:only-of-type {\n",
       "        vertical-align: middle;\n",
       "    }\n",
       "\n",
       "    .dataframe tbody tr th {\n",
       "        vertical-align: top;\n",
       "    }\n",
       "\n",
       "    .dataframe thead th {\n",
       "        text-align: right;\n",
       "    }\n",
       "</style>\n",
       "<table border=\"1\" class=\"dataframe\">\n",
       "  <thead>\n",
       "    <tr style=\"text-align: right;\">\n",
       "      <th></th>\n",
       "      <th>text</th>\n",
       "      <th>newsgroup</th>\n",
       "    </tr>\n",
       "  </thead>\n",
       "  <tbody>\n",
       "    <tr>\n",
       "      <td>0</td>\n",
       "      <td>From: kjt001@dunix.drake.edu (Albatross)\\nSubj...</td>\n",
       "      <td>comp.sys.mac.hardware</td>\n",
       "    </tr>\n",
       "    <tr>\n",
       "      <td>1</td>\n",
       "      <td>From: dleonard@wixer.cactus.org (Dale Leonard)...</td>\n",
       "      <td>comp.sys.mac.hardware</td>\n",
       "    </tr>\n",
       "    <tr>\n",
       "      <td>2</td>\n",
       "      <td>From: rcs8@po.CWRU.Edu (Robert C. Sprecher)\\nS...</td>\n",
       "      <td>comp.sys.mac.hardware</td>\n",
       "    </tr>\n",
       "    <tr>\n",
       "      <td>3</td>\n",
       "      <td>From: erik@cheshire.oxy.edu (Erik Adams)\\nSubj...</td>\n",
       "      <td>comp.sys.mac.hardware</td>\n",
       "    </tr>\n",
       "    <tr>\n",
       "      <td>4</td>\n",
       "      <td>From: rcs8@po.CWRU.Edu (Robert C. Sprecher)\\nS...</td>\n",
       "      <td>comp.sys.mac.hardware</td>\n",
       "    </tr>\n",
       "    <tr>\n",
       "      <td>...</td>\n",
       "      <td>...</td>\n",
       "      <td>...</td>\n",
       "    </tr>\n",
       "    <tr>\n",
       "      <td>17779</td>\n",
       "      <td>From: davec@silicon.csci.csusb.edu (Dave Chowe...</td>\n",
       "      <td>alt.atheism</td>\n",
       "    </tr>\n",
       "    <tr>\n",
       "      <td>17780</td>\n",
       "      <td>From: vdp@mayo.edu (Vinayak Dutt)\\nSubject: Re...</td>\n",
       "      <td>alt.atheism</td>\n",
       "    </tr>\n",
       "    <tr>\n",
       "      <td>17781</td>\n",
       "      <td>From: livesey@solntze.wpd.sgi.com (Jon Livesey...</td>\n",
       "      <td>alt.atheism</td>\n",
       "    </tr>\n",
       "    <tr>\n",
       "      <td>17782</td>\n",
       "      <td>From: L.Newnham@bradford.ac.uk (Leonard Newnha...</td>\n",
       "      <td>alt.atheism</td>\n",
       "    </tr>\n",
       "    <tr>\n",
       "      <td>17783</td>\n",
       "      <td>From: ch981@cleveland.Freenet.Edu (Tony Alicea...</td>\n",
       "      <td>alt.atheism</td>\n",
       "    </tr>\n",
       "  </tbody>\n",
       "</table>\n",
       "<p>17784 rows × 2 columns</p>\n",
       "</div>"
      ],
      "text/plain": [
       "                                                    text  \\\n",
       "0      From: kjt001@dunix.drake.edu (Albatross)\\nSubj...   \n",
       "1      From: dleonard@wixer.cactus.org (Dale Leonard)...   \n",
       "2      From: rcs8@po.CWRU.Edu (Robert C. Sprecher)\\nS...   \n",
       "3      From: erik@cheshire.oxy.edu (Erik Adams)\\nSubj...   \n",
       "4      From: rcs8@po.CWRU.Edu (Robert C. Sprecher)\\nS...   \n",
       "...                                                  ...   \n",
       "17779  From: davec@silicon.csci.csusb.edu (Dave Chowe...   \n",
       "17780  From: vdp@mayo.edu (Vinayak Dutt)\\nSubject: Re...   \n",
       "17781  From: livesey@solntze.wpd.sgi.com (Jon Livesey...   \n",
       "17782  From: L.Newnham@bradford.ac.uk (Leonard Newnha...   \n",
       "17783  From: ch981@cleveland.Freenet.Edu (Tony Alicea...   \n",
       "\n",
       "                   newsgroup  \n",
       "0      comp.sys.mac.hardware  \n",
       "1      comp.sys.mac.hardware  \n",
       "2      comp.sys.mac.hardware  \n",
       "3      comp.sys.mac.hardware  \n",
       "4      comp.sys.mac.hardware  \n",
       "...                      ...  \n",
       "17779            alt.atheism  \n",
       "17780            alt.atheism  \n",
       "17781            alt.atheism  \n",
       "17782            alt.atheism  \n",
       "17783            alt.atheism  \n",
       "\n",
       "[17784 rows x 2 columns]"
      ]
     },
     "execution_count": 49,
     "metadata": {},
     "output_type": "execute_result"
    }
   ],
   "source": [
    "ng_posts_df"
   ]
  },
  {
   "cell_type": "code",
   "execution_count": 50,
   "metadata": {},
   "outputs": [],
   "source": [
    "ng_posts_df['cleaned_text'] = ng_posts_df['text'].apply(lambda x: text_cleaner(x))"
   ]
  },
  {
   "cell_type": "code",
   "execution_count": 51,
   "metadata": {},
   "outputs": [
    {
     "data": {
      "text/plain": [
       "'Re: 14\" monitors On a related note, will the 1304 work on a Centris 650 with internal video and give the multiple resolutions? This I\\'m VERY curious about Thanks! Kevin Tieskoetter Technical Support Drake Looniversity MicroFrontier, Inc'"
      ]
     },
     "execution_count": 51,
     "metadata": {},
     "output_type": "execute_result"
    }
   ],
   "source": [
    "ng_posts_df.loc[0,'cleaned_text']"
   ]
  },
  {
   "cell_type": "code",
   "execution_count": 52,
   "metadata": {},
   "outputs": [],
   "source": [
    "# Creating the tf-idf matrix.\n",
    "vectorizer = TfidfVectorizer(stop_words='english')\n",
    "ng_posts_tfidf=vectorizer.fit_transform(ng_posts_df['cleaned_text'])\n",
    "\n",
    "# Getting the word list.\n",
    "terms = vectorizer.get_feature_names()"
   ]
  },
  {
   "cell_type": "code",
   "execution_count": 53,
   "metadata": {},
   "outputs": [
    {
     "data": {
      "text/html": [
       "<div>\n",
       "<style scoped>\n",
       "    .dataframe tbody tr th:only-of-type {\n",
       "        vertical-align: middle;\n",
       "    }\n",
       "\n",
       "    .dataframe tbody tr th {\n",
       "        vertical-align: top;\n",
       "    }\n",
       "\n",
       "    .dataframe thead th {\n",
       "        text-align: right;\n",
       "    }\n",
       "</style>\n",
       "<table border=\"1\" class=\"dataframe\">\n",
       "  <thead>\n",
       "    <tr style=\"text-align: right;\">\n",
       "      <th></th>\n",
       "      <th>tfidf</th>\n",
       "    </tr>\n",
       "  </thead>\n",
       "  <tbody>\n",
       "    <tr>\n",
       "      <td>looniversity</td>\n",
       "      <td>0.356006</td>\n",
       "    </tr>\n",
       "    <tr>\n",
       "      <td>tieskoetter</td>\n",
       "      <td>0.356006</td>\n",
       "    </tr>\n",
       "    <tr>\n",
       "      <td>microfrontier</td>\n",
       "      <td>0.331557</td>\n",
       "    </tr>\n",
       "    <tr>\n",
       "      <td>1304</td>\n",
       "      <td>0.295875</td>\n",
       "    </tr>\n",
       "    <tr>\n",
       "      <td>drake</td>\n",
       "      <td>0.265534</td>\n",
       "    </tr>\n",
       "    <tr>\n",
       "      <td>...</td>\n",
       "      <td>...</td>\n",
       "    </tr>\n",
       "    <tr>\n",
       "      <td>covingtontelephone</td>\n",
       "      <td>0.000000</td>\n",
       "    </tr>\n",
       "    <tr>\n",
       "      <td>covlin</td>\n",
       "      <td>0.000000</td>\n",
       "    </tr>\n",
       "    <tr>\n",
       "      <td>covlir</td>\n",
       "      <td>0.000000</td>\n",
       "    </tr>\n",
       "    <tr>\n",
       "      <td>covrigaru</td>\n",
       "      <td>0.000000</td>\n",
       "    </tr>\n",
       "    <tr>\n",
       "      <td>ÿhooked</td>\n",
       "      <td>0.000000</td>\n",
       "    </tr>\n",
       "  </tbody>\n",
       "</table>\n",
       "<p>162926 rows × 1 columns</p>\n",
       "</div>"
      ],
      "text/plain": [
       "                       tfidf\n",
       "looniversity        0.356006\n",
       "tieskoetter         0.356006\n",
       "microfrontier       0.331557\n",
       "1304                0.295875\n",
       "drake               0.265534\n",
       "...                      ...\n",
       "covingtontelephone  0.000000\n",
       "covlin              0.000000\n",
       "covlir              0.000000\n",
       "covrigaru           0.000000\n",
       "ÿhooked             0.000000\n",
       "\n",
       "[162926 rows x 1 columns]"
      ]
     },
     "execution_count": 53,
     "metadata": {},
     "output_type": "execute_result"
    }
   ],
   "source": [
    "# Check out important terms for one of the newsgroup posts\n",
    "first_vector_tfidfvectorizer=ng_posts_tfidf[0]\n",
    "df = pd.DataFrame(first_vector_tfidfvectorizer.T.todense(), index=vectorizer.get_feature_names(), columns=[\"tfidf\"])\n",
    "df.sort_values(by=[\"tfidf\"],ascending=False)"
   ]
  },
  {
   "cell_type": "code",
   "execution_count": 54,
   "metadata": {},
   "outputs": [],
   "source": [
    "# LSA\n",
    "from sklearn.decomposition import TruncatedSVD\n",
    "from sklearn.pipeline import make_pipeline\n",
    "from sklearn.preprocessing import Normalizer\n",
    "\n",
    "svd = TruncatedSVD(ng_topics)\n",
    "lsa = make_pipeline(svd, Normalizer(copy=False))\n",
    "ng_posts_lsa = lsa.fit_transform(ng_posts_tfidf)\n",
    "\n",
    "components_lsa = word_topic(ng_posts_tfidf, ng_posts_lsa, terms)\n",
    "\n",
    "topwords=pd.DataFrame()\n",
    "topwords['LSA']=top_words(components_lsa, n_top_words)                "
   ]
  },
  {
   "cell_type": "code",
   "execution_count": 55,
   "metadata": {},
   "outputs": [],
   "source": [
    "# LDA\n",
    "from sklearn.decomposition import LatentDirichletAllocation as LDA\n",
    "\n",
    "lda = LDA(n_components=ng_topics, \n",
    "          doc_topic_prior=None, # Prior = 1/n_documents\n",
    "          topic_word_prior=1/ng_topics,\n",
    "          learning_decay=0.7, # Convergence rate.\n",
    "          learning_offset=10.0, # Causes earlier iterations to have less influence on the learning\n",
    "          max_iter=10, # when to stop even if the model is not converging (to prevent running forever)\n",
    "          evaluate_every=-1, # Do not evaluate perplexity, as it slows training time.\n",
    "          mean_change_tol=0.001, # Stop updating the document topic distribution in the E-step when mean change is < tol\n",
    "          max_doc_update_iter=100, # When to stop updating the document topic distribution in the E-step even if tol is not reached\n",
    "          n_jobs=-1, # Use all available CPUs to speed up processing time.\n",
    "          verbose=0, # amount of output to give while iterating\n",
    "          random_state=0\n",
    "         )\n",
    "\n",
    "ng_posts_lda = lda.fit_transform(ng_posts_tfidf) \n",
    "\n",
    "components_lda = word_topic(ng_posts_tfidf, ng_posts_lda, terms)\n",
    "\n",
    "topwords['LDA']=top_words(components_lda, n_top_words)"
   ]
  },
  {
   "cell_type": "code",
   "execution_count": 56,
   "metadata": {},
   "outputs": [],
   "source": [
    "# NNMF\n",
    "\n",
    "from sklearn.decomposition import NMF\n",
    "\n",
    "nmf = NMF(alpha=0.0, \n",
    "          init='nndsvdar', # how starting value are calculated\n",
    "          l1_ratio=0.0, # Sets whether regularization is L2 (0), L1 (1), or a combination (values between 0 and 1)\n",
    "          max_iter=200, # when to stop even if the model is not converging (to prevent running forever)\n",
    "          n_components=ng_topics, \n",
    "          random_state=0, \n",
    "          solver='cd', # Use Coordinate Descent to solve\n",
    "          tol=0.0001, # model will stop if tfidf-WH <= tol\n",
    "          verbose=0 # amount of output to give while iterating\n",
    "         )\n",
    "ng_posts_nmf = nmf.fit_transform(ng_posts_tfidf) \n",
    "\n",
    "components_nmf = word_topic(ng_posts_tfidf, ng_posts_nmf, terms)\n",
    "\n",
    "topwords['NNMF']=top_words(components_nmf, n_top_words)"
   ]
  },
  {
   "cell_type": "code",
   "execution_count": 57,
   "metadata": {},
   "outputs": [
    {
     "data": {
      "text/plain": [
       "(60, 3)"
      ]
     },
     "execution_count": 57,
     "metadata": {},
     "output_type": "execute_result"
    }
   ],
   "source": [
    "topwords.shape"
   ]
  },
  {
   "cell_type": "code",
   "execution_count": 58,
   "metadata": {
    "scrolled": true
   },
   "outputs": [
    {
     "name": "stdout",
     "output_type": "stream",
     "text": [
      "Topic 0:\n",
      "              LSA           LDA          NNMF\n",
      "0      edu 321.69      edu 11.8      edu 8.32\n",
      "0      com 233.72      com 8.28      com 5.68\n",
      "0   writes 207.66   writes 7.02   writes 5.55\n",
      "0  article 189.45  article 6.36  article 5.13\n",
      "0     like 174.47     know 6.28      don 4.78\n",
      "0      don 172.54   thanks 6.14      just 4.4\n",
      "0     just 171.14     does 5.46     like 4.34\n",
      "0      know 165.5      don 5.41    think 3.83\n",
      "0    people 149.3     like 5.39     game 3.61\n",
      "0    think 138.46     just 5.25     know 3.61\n",
      "Topic 1:\n",
      "              LSA           LDA          NNMF\n",
      "1   windows 81.99     edu 12.79  windows 9.14\n",
      "1    thanks 61.16      com 9.26      dos 4.43\n",
      "1      card 52.92   writes 7.57     file 4.19\n",
      "1     drive 45.94  article 6.94      edu 4.01\n",
      "1       dos 45.28     know 6.56   thanks 3.86\n",
      "1        pc 41.86   thanks 6.26       use 3.4\n",
      "1      file 39.68     does 5.99  program 3.37\n",
      "1  software 38.21       ax 5.96     card 3.32\n",
      "1      sale 37.82     like 5.88     help 3.06\n",
      "1       mac 37.28      just 5.7   window 3.03\n",
      "Topic 2:\n",
      "                LSA           LDA             NNMF\n",
      "2         key 45.17     edu 12.89         key 8.18\n",
      "2     clipper 42.13      com 9.32     clipper 7.45\n",
      "2        chip 36.58    writes 7.8        chip 6.69\n",
      "2  encryption 34.44   article 7.2  encryption 6.34\n",
      "2   government 31.6      know 7.0  government 4.45\n",
      "2        keys 23.12   thanks 6.86        keys 4.13\n",
      "2      escrow 19.62     like 6.41      escrow 3.75\n",
      "2   algorithm 16.81      don 5.73         com 3.52\n",
      "2      public 16.54  windows 5.68   algorithm 2.86\n",
      "2         law 16.31     just 5.67         use 2.84\n",
      "Topic 3:\n",
      "                LSA             LDA            NNMF\n",
      "3         god 74.26      edu 342.29       god 13.23\n",
      "3     windows 31.86      com 244.31      jesus 4.36\n",
      "3       jesus 25.99   writes 221.82      people 4.3\n",
      "3       bible 21.27  article 200.47    believe 3.57\n",
      "3   christian 20.21     like 188.68        edu 3.44\n",
      "3  christians 18.08      don 187.72      bible 3.41\n",
      "3      church 17.95      just 185.1        don 3.18\n",
      "3         dos 17.04     know 177.63  christian 3.11\n",
      "3      christ 16.69   people 171.13      faith 3.07\n",
      "3         sin 16.47    think 153.84      think 2.98\n",
      "Topic 4:\n",
      "                LSA           LDA             NNMF\n",
      "4       drive 60.78     edu 12.25       scsi 10.03\n",
      "4         scsi 47.6      com 9.59       drive 9.31\n",
      "4         ide 27.69   writes 7.83         ide 5.62\n",
      "4      drives 21.24  article 7.11  controller 3.27\n",
      "4        sale 19.57     know 6.65        hard 3.16\n",
      "4  controller 19.11    thanks 6.0      drives 3.15\n",
      "4        hard 19.03     like 5.89        disk 2.94\n",
      "4         bus 14.52      don 5.83         bus 2.48\n",
      "4        disk 13.84     just 5.59        card 2.35\n",
      "4         car 12.26     does 5.59         mac 2.29\n",
      "Topic 5:\n",
      "              LSA           LDA             NNMF\n",
      "5    israel 42.04      edu 10.5      israel 7.45\n",
      "5       edu 29.44      com 7.96      people 5.21\n",
      "5   israeli 28.35   writes 6.29     israeli 4.74\n",
      "5       jews 25.1  article 5.88         jews 4.5\n",
      "5       com 24.47   thanks 5.54    armenian 3.82\n",
      "5   article 21.62     know 5.36         edu 3.59\n",
      "5  armenian 21.37     like 5.34     turkish 3.38\n",
      "5     writes 20.6     does 4.92   armenians 3.27\n",
      "5   turkish 20.26     just 4.77  government 3.16\n",
      "5       car 20.23      don 4.73         arab 3.0\n"
     ]
    }
   ],
   "source": [
    "for topic in range(ng_topics):\n",
    "    print('Topic {}:'.format(topic))\n",
    "    print(topwords.loc[topic])"
   ]
  },
  {
   "cell_type": "markdown",
   "metadata": {},
   "source": [
    "## Making sense of the results\n",
    "\n",
    "### Topic 0:\n",
    "__LSA:__ The Mystery Topic (???). I see that this topic shows up a _lot_ in the LDA model's results too. The most frequent keywords are too generic to guess at a category, though \"don\" shows up a lot, and that may suggest a particular group, or topic. I explore this a little bit below...\n",
    "__LDA:__ Also the mystery topic.\n",
    "__NNMF:__ _Also_ the mystery topic, though \"game\" may provide a clue.\n",
    "\n",
    "### Topic 1:\n",
    "__LSA:__ Computers.\n",
    "__LDA:__ The mystery topic? \"Ax\" may be a clue.\n",
    "__NNMF:__ Also Computers.\n",
    "\n",
    "### Topic 2:\n",
    "__LSA:__ Clipper chips and encryption (so probably Science and Technology?).\n",
    "__LDA:__ The mystery topic, but with different scores.\n",
    "__NNMF:__ Also clipper chips and encryption (Science and Technology).\n",
    "\n",
    "### Topic 3:\n",
    "__LSA:__ Religion...and Windows and DOS. Maybe people are praying for a working computer. Ha.\n",
    "__LDA:__ The mystery topic.\n",
    "__NNMF:__ Religion, with don/Don.\n",
    "\n",
    "### Topic 4:\n",
    "__LSA:__ SCSI drives...ooh, and the word \"sale\" in the top 5. (Items For Sale?)\n",
    "__LDA:__ The mystery topic.\n",
    "__NNMF:__ Looks like the same category as LSA, whether that is Items For Sale, or Computers\n",
    "\n",
    "### Topic 5:\n",
    "__LSA:__ Politics.\n",
    "__LDA:__ The mystery topic.\n",
    "__NMF:__ Politics."
   ]
  },
  {
   "cell_type": "markdown",
   "metadata": {},
   "source": [
    "The LSA model was the closest by far, covering all but one of the topics (and possibly all of them, if the Mystery Topic turns out to be Sports...?)\n",
    "\n",
    "Boy but that LDA model is terrible. Why?\n",
    "\n",
    "NNMF often chose the same grouping as LSA, leaving LDA as the odd one out."
   ]
  },
  {
   "cell_type": "markdown",
   "metadata": {},
   "source": [
    "### So, what is the mystery topic?\n",
    "\n",
    "I often see the keyword \"don\" in the top 10 words of this topic. Don could be a person, or don could be a verb..."
   ]
  },
  {
   "cell_type": "code",
   "execution_count": 59,
   "metadata": {
    "scrolled": false
   },
   "outputs": [
    {
     "data": {
      "text/html": [
       "<div>\n",
       "<style scoped>\n",
       "    .dataframe tbody tr th:only-of-type {\n",
       "        vertical-align: middle;\n",
       "    }\n",
       "\n",
       "    .dataframe tbody tr th {\n",
       "        vertical-align: top;\n",
       "    }\n",
       "\n",
       "    .dataframe thead th {\n",
       "        text-align: right;\n",
       "    }\n",
       "</style>\n",
       "<table border=\"1\" class=\"dataframe\">\n",
       "  <thead>\n",
       "    <tr style=\"text-align: right;\">\n",
       "      <th></th>\n",
       "      <th>cleaned_text</th>\n",
       "    </tr>\n",
       "    <tr>\n",
       "      <th>newsgroup</th>\n",
       "      <th></th>\n",
       "    </tr>\n",
       "  </thead>\n",
       "  <tbody>\n",
       "    <tr>\n",
       "      <td>rec.sport.hockey</td>\n",
       "      <td>47</td>\n",
       "    </tr>\n",
       "    <tr>\n",
       "      <td>rec.sport.baseball</td>\n",
       "      <td>25</td>\n",
       "    </tr>\n",
       "    <tr>\n",
       "      <td>sci.med</td>\n",
       "      <td>13</td>\n",
       "    </tr>\n",
       "    <tr>\n",
       "      <td>sci.space</td>\n",
       "      <td>6</td>\n",
       "    </tr>\n",
       "    <tr>\n",
       "      <td>comp.os.ms-windows.misc</td>\n",
       "      <td>5</td>\n",
       "    </tr>\n",
       "    <tr>\n",
       "      <td>talk.politics.guns</td>\n",
       "      <td>5</td>\n",
       "    </tr>\n",
       "    <tr>\n",
       "      <td>soc.religion.christian</td>\n",
       "      <td>5</td>\n",
       "    </tr>\n",
       "    <tr>\n",
       "      <td>sci.crypt</td>\n",
       "      <td>4</td>\n",
       "    </tr>\n",
       "    <tr>\n",
       "      <td>talk.politics.mideast</td>\n",
       "      <td>3</td>\n",
       "    </tr>\n",
       "    <tr>\n",
       "      <td>comp.graphics</td>\n",
       "      <td>3</td>\n",
       "    </tr>\n",
       "    <tr>\n",
       "      <td>rec.motorcycles</td>\n",
       "      <td>3</td>\n",
       "    </tr>\n",
       "    <tr>\n",
       "      <td>sci.electronics</td>\n",
       "      <td>2</td>\n",
       "    </tr>\n",
       "    <tr>\n",
       "      <td>rec.autos</td>\n",
       "      <td>2</td>\n",
       "    </tr>\n",
       "    <tr>\n",
       "      <td>misc.forsale</td>\n",
       "      <td>2</td>\n",
       "    </tr>\n",
       "    <tr>\n",
       "      <td>comp.windows.x</td>\n",
       "      <td>2</td>\n",
       "    </tr>\n",
       "    <tr>\n",
       "      <td>comp.sys.ibm.pc.hardware</td>\n",
       "      <td>2</td>\n",
       "    </tr>\n",
       "    <tr>\n",
       "      <td>talk.politics.misc</td>\n",
       "      <td>2</td>\n",
       "    </tr>\n",
       "    <tr>\n",
       "      <td>comp.sys.mac.hardware</td>\n",
       "      <td>1</td>\n",
       "    </tr>\n",
       "  </tbody>\n",
       "</table>\n",
       "</div>"
      ],
      "text/plain": [
       "                          cleaned_text\n",
       "newsgroup                             \n",
       "rec.sport.hockey                    47\n",
       "rec.sport.baseball                  25\n",
       "sci.med                             13\n",
       "sci.space                            6\n",
       "comp.os.ms-windows.misc              5\n",
       "talk.politics.guns                   5\n",
       "soc.religion.christian               5\n",
       "sci.crypt                            4\n",
       "talk.politics.mideast                3\n",
       "comp.graphics                        3\n",
       "rec.motorcycles                      3\n",
       "sci.electronics                      2\n",
       "rec.autos                            2\n",
       "misc.forsale                         2\n",
       "comp.windows.x                       2\n",
       "comp.sys.ibm.pc.hardware             2\n",
       "talk.politics.misc                   2\n",
       "comp.sys.mac.hardware                1"
      ]
     },
     "execution_count": 59,
     "metadata": {},
     "output_type": "execute_result"
    }
   ],
   "source": [
    "# Where did the \"don\"s come from?\n",
    "ng_posts_df.loc[ng_posts_df['cleaned_text'].str.contains(' [Dd]on '),['cleaned_text','newsgroup']]\\\n",
    "           .groupby('newsgroup').count().sort_values('cleaned_text',ascending=False)"
   ]
  },
  {
   "cell_type": "markdown",
   "metadata": {},
   "source": [
    "So, best educated guess--because \"don\" shows up most frequently in the hockey and baseball newsgroups, the mystery topic is in fact Sports and Motorsports."
   ]
  },
  {
   "cell_type": "markdown",
   "metadata": {},
   "source": [
    "\"Ax\" is a popular keyword in one of the appearances of the mystery topic--where does it show up?"
   ]
  },
  {
   "cell_type": "code",
   "execution_count": 60,
   "metadata": {},
   "outputs": [
    {
     "data": {
      "text/html": [
       "<div>\n",
       "<style scoped>\n",
       "    .dataframe tbody tr th:only-of-type {\n",
       "        vertical-align: middle;\n",
       "    }\n",
       "\n",
       "    .dataframe tbody tr th {\n",
       "        vertical-align: top;\n",
       "    }\n",
       "\n",
       "    .dataframe thead th {\n",
       "        text-align: right;\n",
       "    }\n",
       "</style>\n",
       "<table border=\"1\" class=\"dataframe\">\n",
       "  <thead>\n",
       "    <tr style=\"text-align: right;\">\n",
       "      <th></th>\n",
       "      <th>cleaned_text</th>\n",
       "    </tr>\n",
       "    <tr>\n",
       "      <th>newsgroup</th>\n",
       "      <th></th>\n",
       "    </tr>\n",
       "  </thead>\n",
       "  <tbody>\n",
       "    <tr>\n",
       "      <td>talk.politics.guns</td>\n",
       "      <td>6</td>\n",
       "    </tr>\n",
       "    <tr>\n",
       "      <td>comp.graphics</td>\n",
       "      <td>1</td>\n",
       "    </tr>\n",
       "    <tr>\n",
       "      <td>sci.crypt</td>\n",
       "      <td>1</td>\n",
       "    </tr>\n",
       "    <tr>\n",
       "      <td>sci.space</td>\n",
       "      <td>1</td>\n",
       "    </tr>\n",
       "  </tbody>\n",
       "</table>\n",
       "</div>"
      ],
      "text/plain": [
       "                    cleaned_text\n",
       "newsgroup                       \n",
       "talk.politics.guns             6\n",
       "comp.graphics                  1\n",
       "sci.crypt                      1\n",
       "sci.space                      1"
      ]
     },
     "execution_count": 60,
     "metadata": {},
     "output_type": "execute_result"
    }
   ],
   "source": [
    "ng_posts_df.loc[ng_posts_df['cleaned_text'].str.contains(' [Aa][Xx] '),['cleaned_text','newsgroup']]\\\n",
    "           .groupby('newsgroup').count().sort_values('cleaned_text',ascending=False)"
   ]
  },
  {
   "cell_type": "markdown",
   "metadata": {},
   "source": [
    "Interesting. What's the context...?"
   ]
  },
  {
   "cell_type": "code",
   "execution_count": 61,
   "metadata": {},
   "outputs": [
    {
     "data": {
      "text/html": [
       "<div>\n",
       "<style scoped>\n",
       "    .dataframe tbody tr th:only-of-type {\n",
       "        vertical-align: middle;\n",
       "    }\n",
       "\n",
       "    .dataframe tbody tr th {\n",
       "        vertical-align: top;\n",
       "    }\n",
       "\n",
       "    .dataframe thead th {\n",
       "        text-align: right;\n",
       "    }\n",
       "</style>\n",
       "<table border=\"1\" class=\"dataframe\">\n",
       "  <thead>\n",
       "    <tr style=\"text-align: right;\">\n",
       "      <th></th>\n",
       "      <th>cleaned_text</th>\n",
       "      <th>newsgroup</th>\n",
       "    </tr>\n",
       "  </thead>\n",
       "  <tbody>\n",
       "    <tr>\n",
       "      <td>1087</td>\n",
       "      <td>Re: Ax the ATF A few comments on the ATF's bot...</td>\n",
       "      <td>talk.politics.guns</td>\n",
       "    </tr>\n",
       "    <tr>\n",
       "      <td>1181</td>\n",
       "      <td>Re: Ax the ATF In article &lt;1r1173INNajc@cronki...</td>\n",
       "      <td>talk.politics.guns</td>\n",
       "    </tr>\n",
       "    <tr>\n",
       "      <td>1221</td>\n",
       "      <td>Re: Ax the ATF In article &lt;1r1ito$4t@transfer....</td>\n",
       "      <td>talk.politics.guns</td>\n",
       "    </tr>\n",
       "    <tr>\n",
       "      <td>1335</td>\n",
       "      <td>Re: Ax the ATF &gt;A few comments on the ATF's bo...</td>\n",
       "      <td>talk.politics.guns</td>\n",
       "    </tr>\n",
       "    <tr>\n",
       "      <td>1373</td>\n",
       "      <td>Re: Ax the ATF In article &lt;donbC5sL69.F7I@netc...</td>\n",
       "      <td>talk.politics.guns</td>\n",
       "    </tr>\n",
       "    <tr>\n",
       "      <td>1736</td>\n",
       "      <td>Re: Ax the ATF &gt;True, Congress has said that p...</td>\n",
       "      <td>talk.politics.guns</td>\n",
       "    </tr>\n",
       "    <tr>\n",
       "      <td>2007</td>\n",
       "      <td>LGA ncrypt source I got a number of requests f...</td>\n",
       "      <td>sci.crypt</td>\n",
       "    </tr>\n",
       "    <tr>\n",
       "      <td>9266</td>\n",
       "      <td>Keeping Spacecraft on after Funding Cuts. Why ...</td>\n",
       "      <td>sci.space</td>\n",
       "    </tr>\n",
       "    <tr>\n",
       "      <td>10987</td>\n",
       "      <td>Re: Sphere from 4 points? In article &lt;1qkgbuIN...</td>\n",
       "      <td>comp.graphics</td>\n",
       "    </tr>\n",
       "  </tbody>\n",
       "</table>\n",
       "</div>"
      ],
      "text/plain": [
       "                                            cleaned_text           newsgroup\n",
       "1087   Re: Ax the ATF A few comments on the ATF's bot...  talk.politics.guns\n",
       "1181   Re: Ax the ATF In article <1r1173INNajc@cronki...  talk.politics.guns\n",
       "1221   Re: Ax the ATF In article <1r1ito$4t@transfer....  talk.politics.guns\n",
       "1335   Re: Ax the ATF >A few comments on the ATF's bo...  talk.politics.guns\n",
       "1373   Re: Ax the ATF In article <donbC5sL69.F7I@netc...  talk.politics.guns\n",
       "1736   Re: Ax the ATF >True, Congress has said that p...  talk.politics.guns\n",
       "2007   LGA ncrypt source I got a number of requests f...           sci.crypt\n",
       "9266   Keeping Spacecraft on after Funding Cuts. Why ...           sci.space\n",
       "10987  Re: Sphere from 4 points? In article <1qkgbuIN...       comp.graphics"
      ]
     },
     "execution_count": 61,
     "metadata": {},
     "output_type": "execute_result"
    }
   ],
   "source": [
    "ng_posts_df.loc[ng_posts_df['cleaned_text'].str.contains(' [Aa][Xx] '),['cleaned_text','newsgroup']]"
   ]
  },
  {
   "cell_type": "markdown",
   "metadata": {},
   "source": [
    "Ah. :)"
   ]
  }
 ],
 "metadata": {
  "hide_input": false,
  "kernelspec": {
   "display_name": "Python 3",
   "language": "python",
   "name": "python3"
  },
  "language_info": {
   "codemirror_mode": {
    "name": "ipython",
    "version": 3
   },
   "file_extension": ".py",
   "mimetype": "text/x-python",
   "name": "python",
   "nbconvert_exporter": "python",
   "pygments_lexer": "ipython3",
   "version": "3.6.8"
  }
 },
 "nbformat": 4,
 "nbformat_minor": 2
}
